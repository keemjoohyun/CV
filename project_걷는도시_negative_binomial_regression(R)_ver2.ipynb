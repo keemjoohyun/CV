{
  "nbformat": 4,
  "nbformat_minor": 0,
  "metadata": {
    "kernelspec": {
      "display_name": "R",
      "language": "R",
      "name": "ir"
    },
    "language_info": {
      "codemirror_mode": "r",
      "file_extension": ".r",
      "mimetype": "text/x-r-source",
      "name": "R",
      "pygments_lexer": "r",
      "version": "3.6.1"
    },
    "colab": {
      "name": "걷는도시_분석1_R_negative_binomial_regression_(Reminiscence_I)_ver2.ipynb",
      "provenance": [],
      "collapsed_sections": []
    }
  },
  "cells": [
    {
      "cell_type": "code",
      "metadata": {
        "scrolled": false,
        "id": "-WxgITTuU8BP",
        "colab_type": "code",
        "colab": {}
      },
      "source": [
        "library(foreign)\n",
        "library(MASS)\n",
        "library(dplyr)\n",
        "library(psych)\n",
        "require(car)\n",
        "require(lmtest)"
      ],
      "execution_count": 0,
      "outputs": []
    },
    {
      "cell_type": "code",
      "metadata": {
        "id": "cMm5oyRvU8BV",
        "colab_type": "code",
        "colab": {}
      },
      "source": [
        "df<-read.csv(file='c:/lois/project/entireDB_2018 - for R.csv', header=T)"
      ],
      "execution_count": 0,
      "outputs": []
    },
    {
      "cell_type": "code",
      "metadata": {
        "scrolled": true,
        "id": "l5l_y2FAU8BY",
        "colab_type": "code",
        "outputId": "295c15a0-3af3-452b-d17d-edca173c55e1",
        "colab": {}
      },
      "source": [
        "head(df)"
      ],
      "execution_count": 0,
      "outputs": [
        {
          "output_type": "display_data",
          "data": {
            "text/html": [
              "<table>\n",
              "<thead><tr><th scope=col>gu</th><th scope=col>elder_ac_num</th><th scope=col>elder_hv_num</th><th scope=col>elder_lt_num</th><th scope=col>elder_po_num</th><th scope=col>elder_po_per</th><th scope=col>trans_sa_idx</th><th scope=col>elder_fpo_per</th><th scope=col>car_ro_len</th><th scope=col>car_ave_spd</th><th scope=col>road_si_num</th><th scope=col>market_num</th><th scope=col>elder_sz_num</th><th scope=col>ovp_num</th></tr></thead>\n",
              "<tbody>\n",
              "\t<tr><td>강남구</td><td>351   </td><td>112   </td><td>267   </td><td>67085 </td><td>12.25 </td><td>68.53 </td><td>13.77 </td><td>101.3 </td><td>24.5  </td><td>1034  </td><td>10    </td><td>11    </td><td>20    </td></tr>\n",
              "\t<tr><td>강동구</td><td>242   </td><td>106   </td><td>157   </td><td>58770 </td><td>13.61 </td><td>79.28 </td><td>17.18 </td><td> 70.4 </td><td>23.9  </td><td> 450  </td><td>10    </td><td> 6    </td><td>20    </td></tr>\n",
              "\t<tr><td>강북구</td><td>246   </td><td>102   </td><td>155   </td><td>58196 </td><td>18.02 </td><td>76.12 </td><td>21.52 </td><td> 34.0 </td><td>21.3  </td><td> 219  </td><td>12    </td><td> 2    </td><td> 1    </td></tr>\n",
              "\t<tr><td>강서구</td><td>210   </td><td> 95   </td><td>133   </td><td>79660 </td><td>13.20 </td><td>79.62 </td><td>16.22 </td><td> 66.8 </td><td>23.6  </td><td> 485  </td><td>12    </td><td>13    </td><td> 4    </td></tr>\n",
              "\t<tr><td>관악구</td><td>182   </td><td> 68   </td><td>123   </td><td>72249 </td><td>13.89 </td><td>79.78 </td><td>15.84 </td><td> 42.3 </td><td>25.3  </td><td> 238  </td><td>16    </td><td> 7    </td><td>16    </td></tr>\n",
              "\t<tr><td>광진구</td><td>133   </td><td> 48   </td><td> 87   </td><td>45619 </td><td>12.29 </td><td>80.77 </td><td>14.60 </td><td> 53.4 </td><td>25.0  </td><td> 300  </td><td>12    </td><td> 4    </td><td> 0    </td></tr>\n",
              "</tbody>\n",
              "</table>\n"
            ],
            "text/latex": "\\begin{tabular}{r|llllllllllllll}\n gu & elder\\_ac\\_num & elder\\_hv\\_num & elder\\_lt\\_num & elder\\_po\\_num & elder\\_po\\_per & trans\\_sa\\_idx & elder\\_fpo\\_per & car\\_ro\\_len & car\\_ave\\_spd & road\\_si\\_num & market\\_num & elder\\_sz\\_num & ovp\\_num\\\\\n\\hline\n\t 강남구 & 351    & 112    & 267    & 67085  & 12.25  & 68.53  & 13.77  & 101.3  & 24.5   & 1034   & 10     & 11     & 20    \\\\\n\t 강동구 & 242    & 106    & 157    & 58770  & 13.61  & 79.28  & 17.18  &  70.4  & 23.9   &  450   & 10     &  6     & 20    \\\\\n\t 강북구 & 246    & 102    & 155    & 58196  & 18.02  & 76.12  & 21.52  &  34.0  & 21.3   &  219   & 12     &  2     &  1    \\\\\n\t 강서구 & 210    &  95    & 133    & 79660  & 13.20  & 79.62  & 16.22  &  66.8  & 23.6   &  485   & 12     & 13     &  4    \\\\\n\t 관악구 & 182    &  68    & 123    & 72249  & 13.89  & 79.78  & 15.84  &  42.3  & 25.3   &  238   & 16     &  7     & 16    \\\\\n\t 광진구 & 133    &  48    &  87    & 45619  & 12.29  & 80.77  & 14.60  &  53.4  & 25.0   &  300   & 12     &  4     &  0    \\\\\n\\end{tabular}\n",
            "text/markdown": "\n| gu | elder_ac_num | elder_hv_num | elder_lt_num | elder_po_num | elder_po_per | trans_sa_idx | elder_fpo_per | car_ro_len | car_ave_spd | road_si_num | market_num | elder_sz_num | ovp_num |\n|---|---|---|---|---|---|---|---|---|---|---|---|---|---|\n| 강남구 | 351    | 112    | 267    | 67085  | 12.25  | 68.53  | 13.77  | 101.3  | 24.5   | 1034   | 10     | 11     | 20     |\n| 강동구 | 242    | 106    | 157    | 58770  | 13.61  | 79.28  | 17.18  |  70.4  | 23.9   |  450   | 10     |  6     | 20     |\n| 강북구 | 246    | 102    | 155    | 58196  | 18.02  | 76.12  | 21.52  |  34.0  | 21.3   |  219   | 12     |  2     |  1     |\n| 강서구 | 210    |  95    | 133    | 79660  | 13.20  | 79.62  | 16.22  |  66.8  | 23.6   |  485   | 12     | 13     |  4     |\n| 관악구 | 182    |  68    | 123    | 72249  | 13.89  | 79.78  | 15.84  |  42.3  | 25.3   |  238   | 16     |  7     | 16     |\n| 광진구 | 133    |  48    |  87    | 45619  | 12.29  | 80.77  | 14.60  |  53.4  | 25.0   |  300   | 12     |  4     |  0     |\n\n",
            "text/plain": [
              "  gu     elder_ac_num elder_hv_num elder_lt_num elder_po_num elder_po_per\n",
              "1 강남구 351          112          267          67085        12.25       \n",
              "2 강동구 242          106          157          58770        13.61       \n",
              "3 강북구 246          102          155          58196        18.02       \n",
              "4 강서구 210           95          133          79660        13.20       \n",
              "5 관악구 182           68          123          72249        13.89       \n",
              "6 광진구 133           48           87          45619        12.29       \n",
              "  trans_sa_idx elder_fpo_per car_ro_len car_ave_spd road_si_num market_num\n",
              "1 68.53        13.77         101.3      24.5        1034        10        \n",
              "2 79.28        17.18          70.4      23.9         450        10        \n",
              "3 76.12        21.52          34.0      21.3         219        12        \n",
              "4 79.62        16.22          66.8      23.6         485        12        \n",
              "5 79.78        15.84          42.3      25.3         238        16        \n",
              "6 80.77        14.60          53.4      25.0         300        12        \n",
              "  elder_sz_num ovp_num\n",
              "1 11           20     \n",
              "2  6           20     \n",
              "3  2            1     \n",
              "4 13            4     \n",
              "5  7           16     \n",
              "6  4            0     "
            ]
          },
          "metadata": {
            "tags": []
          }
        }
      ]
    },
    {
      "cell_type": "code",
      "metadata": {
        "id": "Zk25gb4mU8Bc",
        "colab_type": "code",
        "colab": {}
      },
      "source": [
        "# 가로환경 개선 정책이 시행된 후 최근 도로교통공단의 연구 결과 전체 사고율은 줄었으나 노인(65세 이상) 사고율은 오히려 증가하여 자치구의 노인교통사고건수에 영향을 주는 원인을 찾고자 함\n",
        "# 사고 발생의 원인과 사고 경중의 특성을 파악하기 위해 이하 3개의 모델로 나누어 분석 진행 [종속변수; 1)노인사고건수, 2)노인중상이상사고자수, 3)노인경상이하사고자수]\n",
        "# 이하의 설명변수 설정 [인구통계학: 노인인구수, 노인인구비율, 노인생활인구 | 가로환경: 도로안전지표수, 시장수, 노인보호구역수 | 차로환경: 승용차차량연장, 전일평균차속 | 지표: 도로안전지수]\n",
        "# 종속변수와 관련이 있는 주요 설명변수 파악을 위해,\n",
        "# 개별 설명변수가 종속변수에 실제로 어느 정도의 영향을 미치는지 파악하기 위해,\n",
        "# 다중회귀분석 진행 예정. 세부 모형은 이하의 방식으로 선정"
      ],
      "execution_count": 0,
      "outputs": []
    },
    {
      "cell_type": "code",
      "metadata": {
        "id": "q5IIrcsJU8Be",
        "colab_type": "code",
        "colab": {}
      },
      "source": [
        "# 본 분석에서는 관심사건(종속변수)의 발생 회수에 관심이 있으며, 각 종속변수는 count 가능한 양의 정수 데이터이므로\n",
        "# 1) 이항분포, 2) 포아송분포, 3) 음이항분포 사용 가능\n",
        "# 이 중 어떤 회귀모형을 사용해야 하는지는 과분산계수(VMR)로 파악 가능\n",
        "# 1) 이항분포의 경우, 0<VMR<1일 때 사용 가능(분산이 평균보다 작을 때)\n",
        "# 2) 포아송분포의 경우, VMR=1일 때 사용 가능(분산과 평균이 같을 때)\n",
        "# 3) 음이항분포의 경우, VMR>1일 때 사용 가능(분산이 평균보다 클 때)"
      ],
      "execution_count": 0,
      "outputs": []
    },
    {
      "cell_type": "code",
      "metadata": {
        "id": "-Y1BZ8rGU8Bh",
        "colab_type": "code",
        "colab": {}
      },
      "source": [
        "# 각 종속변수의 과분산계수 분석"
      ],
      "execution_count": 0,
      "outputs": []
    },
    {
      "cell_type": "code",
      "metadata": {
        "id": "JdkgnD0qU8Bl",
        "colab_type": "code",
        "outputId": "fb3a46b6-bfe4-43ef-9445-b99c68aa95f5",
        "colab": {}
      },
      "source": [
        "var(df$elder_ac_num)/mean(df$elder_ac_num) # VMR(18.5692154139906) > 1"
      ],
      "execution_count": 0,
      "outputs": [
        {
          "output_type": "display_data",
          "data": {
            "text/html": [
              "18.5692154139906"
            ],
            "text/latex": "18.5692154139906",
            "text/markdown": "18.5692154139906",
            "text/plain": [
              "[1] 18.56922"
            ]
          },
          "metadata": {
            "tags": []
          }
        }
      ]
    },
    {
      "cell_type": "code",
      "metadata": {
        "id": "Iitw-S0AU8Bp",
        "colab_type": "code",
        "outputId": "4b820e0d-4e5c-43c9-bceb-e61db4515e75",
        "colab": {}
      },
      "source": [
        "var(df$elder_hv_num)/mean(df$elder_hv_num) # VMR(7.4065801056338) > 1"
      ],
      "execution_count": 0,
      "outputs": [
        {
          "output_type": "display_data",
          "data": {
            "text/html": [
              "7.4065801056338"
            ],
            "text/latex": "7.4065801056338",
            "text/markdown": "7.4065801056338",
            "text/plain": [
              "[1] 7.40658"
            ]
          },
          "metadata": {
            "tags": []
          }
        }
      ]
    },
    {
      "cell_type": "code",
      "metadata": {
        "id": "_CaD9faZU8Br",
        "colab_type": "code",
        "outputId": "bc263373-2a18-43cf-f1ab-7c3938212dc8",
        "colab": {}
      },
      "source": [
        "var(df$elder_lt_num)/mean(df$elder_lt_num) # VMR(16.2335634879277) > 1"
      ],
      "execution_count": 0,
      "outputs": [
        {
          "output_type": "display_data",
          "data": {
            "text/html": [
              "16.2335634879277"
            ],
            "text/latex": "16.2335634879277",
            "text/markdown": "16.2335634879277",
            "text/plain": [
              "[1] 16.23356"
            ]
          },
          "metadata": {
            "tags": []
          }
        }
      ]
    },
    {
      "cell_type": "code",
      "metadata": {
        "id": "ZdCT_WoiU8Bu",
        "colab_type": "code",
        "colab": {}
      },
      "source": [
        "# 실제 현실세계에서 발생한 교통사고 데이터의 경우, 위 3 모델 모든 경우에 분산이 평균보다 큰 과분산 문제 발생\n",
        "# 따라서 분산이 평균보다 크다는 전제조건으로 시작하는 음이항 회귀모형을 세부 분석 방법으로 사용"
      ],
      "execution_count": 0,
      "outputs": []
    },
    {
      "cell_type": "code",
      "metadata": {
        "scrolled": true,
        "id": "kak--cmbU8By",
        "colab_type": "code",
        "outputId": "c0bd0916-de04-4480-c3a5-48e0883a1229",
        "colab": {}
      },
      "source": [
        "df.nb<-glm.nb(elder_ac_num~elder_po_num+elder_po_per+trans_sa_idx+elder_fpo_per+car_ro_len+car_ave_spd+road_si_num+market_num+elder_sz_num+ovp_num,data=df) \n",
        "summary(df.nb);vif(df.nb)"
      ],
      "execution_count": 0,
      "outputs": [
        {
          "output_type": "display_data",
          "data": {
            "text/plain": [
              "\n",
              "Call:\n",
              "glm.nb(formula = elder_ac_num ~ elder_po_num + elder_po_per + \n",
              "    trans_sa_idx + elder_fpo_per + car_ro_len + car_ave_spd + \n",
              "    road_si_num + market_num + elder_sz_num + ovp_num, data = df, \n",
              "    init.theta = 289.7005621, link = log)\n",
              "\n",
              "Deviance Residuals: \n",
              "    Min       1Q   Median       3Q      Max  \n",
              "-1.9987  -0.6088   0.1036   0.4858   2.2276  \n",
              "\n",
              "Coefficients:\n",
              "                Estimate Std. Error z value Pr(>|z|)    \n",
              "(Intercept)    4.870e+00  1.318e+00   3.694 0.000221 ***\n",
              "elder_po_num   6.898e-06  2.140e-06   3.223 0.001267 ** \n",
              "elder_po_per   6.078e-03  3.302e-02   0.184 0.853956    \n",
              "trans_sa_idx  -2.878e-02  8.757e-03  -3.287 0.001012 ** \n",
              "elder_fpo_per  6.758e-02  2.269e-02   2.979 0.002895 ** \n",
              "car_ro_len     6.814e-04  2.731e-03   0.250 0.802949    \n",
              "car_ave_spd    3.440e-02  2.302e-02   1.494 0.135064    \n",
              "road_si_num    4.895e-04  2.746e-04   1.783 0.074616 .  \n",
              "market_num     7.559e-03  6.082e-03   1.243 0.213909    \n",
              "elder_sz_num  -1.085e-02  1.014e-02  -1.070 0.284633    \n",
              "ovp_num        6.488e-03  3.426e-03   1.893 0.058296 .  \n",
              "---\n",
              "Signif. codes:  0 '***' 0.001 '**' 0.01 '*' 0.05 '.' 0.1 ' ' 1\n",
              "\n",
              "(Dispersion parameter for Negative Binomial(289.7006) family taken to be 1)\n",
              "\n",
              "    Null deviance: 236.932  on 24  degrees of freedom\n",
              "Residual deviance:  25.805  on 14  degrees of freedom\n",
              "AIC: 245.3\n",
              "\n",
              "Number of Fisher Scoring iterations: 1\n",
              "\n",
              "\n",
              "              Theta:  290 \n",
              "          Std. Err.:  194 \n",
              "\n",
              " 2 x log-likelihood:  -221.301 "
            ]
          },
          "metadata": {
            "tags": []
          }
        },
        {
          "output_type": "display_data",
          "data": {
            "text/html": [
              "<dl class=dl-horizontal>\n",
              "\t<dt>elder_po_num</dt>\n",
              "\t\t<dd>3.20151781350296</dd>\n",
              "\t<dt>elder_po_per</dt>\n",
              "\t\t<dd>8.41729336115633</dd>\n",
              "\t<dt>trans_sa_idx</dt>\n",
              "\t\t<dd>4.5521368678039</dd>\n",
              "\t<dt>elder_fpo_per</dt>\n",
              "\t\t<dd>6.53803223594765</dd>\n",
              "\t<dt>car_ro_len</dt>\n",
              "\t\t<dd>10.7382344835642</dd>\n",
              "\t<dt>car_ave_spd</dt>\n",
              "\t\t<dd>4.10524390061859</dd>\n",
              "\t<dt>road_si_num</dt>\n",
              "\t\t<dd>12.8695345874139</dd>\n",
              "\t<dt>market_num</dt>\n",
              "\t\t<dd>4.73549845162696</dd>\n",
              "\t<dt>elder_sz_num</dt>\n",
              "\t\t<dd>2.50132011481443</dd>\n",
              "\t<dt>ovp_num</dt>\n",
              "\t\t<dd>2.28546907066759</dd>\n",
              "</dl>\n"
            ],
            "text/latex": "\\begin{description*}\n\\item[elder\\textbackslash{}\\_po\\textbackslash{}\\_num] 3.20151781350296\n\\item[elder\\textbackslash{}\\_po\\textbackslash{}\\_per] 8.41729336115633\n\\item[trans\\textbackslash{}\\_sa\\textbackslash{}\\_idx] 4.5521368678039\n\\item[elder\\textbackslash{}\\_fpo\\textbackslash{}\\_per] 6.53803223594765\n\\item[car\\textbackslash{}\\_ro\\textbackslash{}\\_len] 10.7382344835642\n\\item[car\\textbackslash{}\\_ave\\textbackslash{}\\_spd] 4.10524390061859\n\\item[road\\textbackslash{}\\_si\\textbackslash{}\\_num] 12.8695345874139\n\\item[market\\textbackslash{}\\_num] 4.73549845162696\n\\item[elder\\textbackslash{}\\_sz\\textbackslash{}\\_num] 2.50132011481443\n\\item[ovp\\textbackslash{}\\_num] 2.28546907066759\n\\end{description*}\n",
            "text/markdown": "elder_po_num\n:   3.20151781350296elder_po_per\n:   8.41729336115633trans_sa_idx\n:   4.5521368678039elder_fpo_per\n:   6.53803223594765car_ro_len\n:   10.7382344835642car_ave_spd\n:   4.10524390061859road_si_num\n:   12.8695345874139market_num\n:   4.73549845162696elder_sz_num\n:   2.50132011481443ovp_num\n:   2.28546907066759\n\n",
            "text/plain": [
              " elder_po_num  elder_po_per  trans_sa_idx elder_fpo_per    car_ro_len \n",
              "     3.201518      8.417293      4.552137      6.538032     10.738234 \n",
              "  car_ave_spd   road_si_num    market_num  elder_sz_num       ovp_num \n",
              "     4.105244     12.869535      4.735498      2.501320      2.285469 "
            ]
          },
          "metadata": {
            "tags": []
          }
        }
      ]
    },
    {
      "cell_type": "code",
      "metadata": {
        "id": "4Dtu21cgU8B2",
        "colab_type": "code",
        "colab": {}
      },
      "source": [
        "# 우선적으로 1) 모델에서 음이항 회귀분석을 진행하고, 본 분석에서 선정한 설명변수가 통계적으로 유의미한지 파악하기 위해 다중공선성 검증 동시 진행\n",
        "# 설명변수끼리 강한 상관관계를 가지면 다중공선성이 있음\n",
        "# 애초에 설명변수끼리 종속적이라는 것 자체가 회귀분석의 가정에 위배되며, 실제로 수치적인 문제를 야기해 분석 결과를 신뢰할 수 없게 만드므로\n",
        "# 본 분석에서는 vif(분산팽창인자) > 4 인 설명변수는 다중공선성이 있다고 간주하고 통계적 유의미성을 확보하기 위해 제거"
      ],
      "execution_count": 0,
      "outputs": []
    },
    {
      "cell_type": "code",
      "metadata": {
        "scrolled": true,
        "id": "ZYEDqzq3U8B5",
        "colab_type": "code",
        "outputId": "678e04d5-41ec-4e95-833c-1a8d2613574b",
        "colab": {}
      },
      "source": [
        "df.nb1<-glm.nb(elder_ac_num~elder_po_num+elder_po_per+trans_sa_idx+elder_fpo_per+car_ro_len+car_ave_spd+market_num+elder_sz_num+ovp_num,data=df) \n",
        "summary(df.nb1);vif(df.nb1)"
      ],
      "execution_count": 0,
      "outputs": [
        {
          "output_type": "display_data",
          "data": {
            "text/plain": [
              "\n",
              "Call:\n",
              "glm.nb(formula = elder_ac_num ~ elder_po_num + elder_po_per + \n",
              "    trans_sa_idx + elder_fpo_per + car_ro_len + car_ave_spd + \n",
              "    market_num + elder_sz_num + ovp_num, data = df, init.theta = 225.4475742, \n",
              "    link = log)\n",
              "\n",
              "Deviance Residuals: \n",
              "     Min        1Q    Median        3Q       Max  \n",
              "-1.85338  -0.74279  -0.02207   0.40349   2.22897  \n",
              "\n",
              "Coefficients:\n",
              "                Estimate Std. Error z value Pr(>|z|)    \n",
              "(Intercept)    6.217e+00  1.133e+00   5.489 4.05e-08 ***\n",
              "elder_po_num   7.037e-06  2.261e-06   3.113  0.00185 ** \n",
              "elder_po_per  -5.403e-03  3.413e-02  -0.158  0.87421    \n",
              "trans_sa_idx  -3.577e-02  8.280e-03  -4.320 1.56e-05 ***\n",
              "elder_fpo_per  6.241e-02  2.391e-02   2.610  0.00905 ** \n",
              "car_ro_len     4.137e-03  2.059e-03   2.010  0.04448 *  \n",
              "car_ave_spd    1.310e-02  2.076e-02   0.631  0.52824    \n",
              "market_num     3.854e-03  6.053e-03   0.637  0.52430    \n",
              "elder_sz_num  -8.248e-03  1.066e-02  -0.774  0.43893    \n",
              "ovp_num        5.784e-03  3.589e-03   1.612  0.10701    \n",
              "---\n",
              "Signif. codes:  0 '***' 0.001 '**' 0.01 '*' 0.05 '.' 0.1 ' ' 1\n",
              "\n",
              "(Dispersion parameter for Negative Binomial(225.4476) family taken to be 1)\n",
              "\n",
              "    Null deviance: 210.248  on 24  degrees of freedom\n",
              "Residual deviance:  25.915  on 15  degrees of freedom\n",
              "AIC: 246.33\n",
              "\n",
              "Number of Fisher Scoring iterations: 1\n",
              "\n",
              "\n",
              "              Theta:  225 \n",
              "          Std. Err.:  133 \n",
              "\n",
              " 2 x log-likelihood:  -224.332 "
            ]
          },
          "metadata": {
            "tags": []
          }
        },
        {
          "output_type": "display_data",
          "data": {
            "text/html": [
              "<dl class=dl-horizontal>\n",
              "\t<dt>elder_po_num</dt>\n",
              "\t\t<dd>3.20832425539503</dd>\n",
              "\t<dt>elder_po_per</dt>\n",
              "\t\t<dd>7.94874880169717</dd>\n",
              "\t<dt>trans_sa_idx</dt>\n",
              "\t\t<dd>3.56344150396627</dd>\n",
              "\t<dt>elder_fpo_per</dt>\n",
              "\t\t<dd>6.39333670204316</dd>\n",
              "\t<dt>car_ro_len</dt>\n",
              "\t\t<dd>5.33758875492146</dd>\n",
              "\t<dt>car_ave_spd</dt>\n",
              "\t\t<dd>2.97527766540396</dd>\n",
              "\t<dt>market_num</dt>\n",
              "\t\t<dd>4.19063662627886</dd>\n",
              "\t<dt>elder_sz_num</dt>\n",
              "\t\t<dd>2.44817474075467</dd>\n",
              "\t<dt>ovp_num</dt>\n",
              "\t\t<dd>2.21589397221399</dd>\n",
              "</dl>\n"
            ],
            "text/latex": "\\begin{description*}\n\\item[elder\\textbackslash{}\\_po\\textbackslash{}\\_num] 3.20832425539503\n\\item[elder\\textbackslash{}\\_po\\textbackslash{}\\_per] 7.94874880169717\n\\item[trans\\textbackslash{}\\_sa\\textbackslash{}\\_idx] 3.56344150396627\n\\item[elder\\textbackslash{}\\_fpo\\textbackslash{}\\_per] 6.39333670204316\n\\item[car\\textbackslash{}\\_ro\\textbackslash{}\\_len] 5.33758875492146\n\\item[car\\textbackslash{}\\_ave\\textbackslash{}\\_spd] 2.97527766540396\n\\item[market\\textbackslash{}\\_num] 4.19063662627886\n\\item[elder\\textbackslash{}\\_sz\\textbackslash{}\\_num] 2.44817474075467\n\\item[ovp\\textbackslash{}\\_num] 2.21589397221399\n\\end{description*}\n",
            "text/markdown": "elder_po_num\n:   3.20832425539503elder_po_per\n:   7.94874880169717trans_sa_idx\n:   3.56344150396627elder_fpo_per\n:   6.39333670204316car_ro_len\n:   5.33758875492146car_ave_spd\n:   2.97527766540396market_num\n:   4.19063662627886elder_sz_num\n:   2.44817474075467ovp_num\n:   2.21589397221399\n\n",
            "text/plain": [
              " elder_po_num  elder_po_per  trans_sa_idx elder_fpo_per    car_ro_len \n",
              "     3.208324      7.948749      3.563442      6.393337      5.337589 \n",
              "  car_ave_spd    market_num  elder_sz_num       ovp_num \n",
              "     2.975278      4.190637      2.448175      2.215894 "
            ]
          },
          "metadata": {
            "tags": []
          }
        }
      ]
    },
    {
      "cell_type": "code",
      "metadata": {
        "scrolled": true,
        "id": "hr5faTefU8B8",
        "colab_type": "code",
        "outputId": "50e8edf9-8b4f-4918-dc75-69225ab8215d",
        "colab": {}
      },
      "source": [
        "df.nb2<-glm.nb(elder_ac_num~elder_po_num+trans_sa_idx+elder_fpo_per+car_ro_len+car_ave_spd+market_num+elder_sz_num+ovp_num,data=df) \n",
        "summary(df.nb2);vif(df.nb2)"
      ],
      "execution_count": 0,
      "outputs": [
        {
          "output_type": "display_data",
          "data": {
            "text/plain": [
              "\n",
              "Call:\n",
              "glm.nb(formula = elder_ac_num ~ elder_po_num + trans_sa_idx + \n",
              "    elder_fpo_per + car_ro_len + car_ave_spd + market_num + elder_sz_num + \n",
              "    ovp_num, data = df, init.theta = 223.7845305, link = log)\n",
              "\n",
              "Deviance Residuals: \n",
              "     Min        1Q    Median        3Q       Max  \n",
              "-1.86106  -0.74194  -0.07382   0.42749   2.24224  \n",
              "\n",
              "Coefficients:\n",
              "                Estimate Std. Error z value Pr(>|z|)    \n",
              "(Intercept)    6.149e+00  1.050e+00   5.856 4.74e-09 ***\n",
              "elder_po_num   7.197e-06  2.021e-06   3.562 0.000368 ***\n",
              "trans_sa_idx  -3.555e-02  8.164e-03  -4.354 1.34e-05 ***\n",
              "elder_fpo_per  5.956e-02  1.548e-02   3.847 0.000120 ***\n",
              "car_ro_len     4.231e-03  1.973e-03   2.144 0.032042 *  \n",
              "car_ave_spd    1.346e-02  2.070e-02   0.650 0.515588    \n",
              "market_num     3.637e-03  5.906e-03   0.616 0.537954    \n",
              "elder_sz_num  -8.177e-03  1.067e-02  -0.766 0.443435    \n",
              "ovp_num        5.814e-03  3.593e-03   1.618 0.105662    \n",
              "---\n",
              "Signif. codes:  0 '***' 0.001 '**' 0.01 '*' 0.05 '.' 0.1 ' ' 1\n",
              "\n",
              "(Dispersion parameter for Negative Binomial(223.7845) family taken to be 1)\n",
              "\n",
              "    Null deviance: 209.458  on 24  degrees of freedom\n",
              "Residual deviance:  25.847  on 16  degrees of freedom\n",
              "AIC: 244.36\n",
              "\n",
              "Number of Fisher Scoring iterations: 1\n",
              "\n",
              "\n",
              "              Theta:  224 \n",
              "          Std. Err.:  131 \n",
              "\n",
              " 2 x log-likelihood:  -224.356 "
            ]
          },
          "metadata": {
            "tags": []
          }
        },
        {
          "output_type": "display_data",
          "data": {
            "text/html": [
              "<dl class=dl-horizontal>\n",
              "\t<dt>elder_po_num</dt>\n",
              "\t\t<dd>2.55472427706532</dd>\n",
              "\t<dt>trans_sa_idx</dt>\n",
              "\t\t<dd>3.44977621970868</dd>\n",
              "\t<dt>elder_fpo_per</dt>\n",
              "\t\t<dd>2.67062013291956</dd>\n",
              "\t<dt>car_ro_len</dt>\n",
              "\t\t<dd>4.8842082614742</dd>\n",
              "\t<dt>car_ave_spd</dt>\n",
              "\t\t<dd>2.94613325320627</dd>\n",
              "\t<dt>market_num</dt>\n",
              "\t\t<dd>3.97549227940155</dd>\n",
              "\t<dt>elder_sz_num</dt>\n",
              "\t\t<dd>2.44453543061102</dd>\n",
              "\t<dt>ovp_num</dt>\n",
              "\t\t<dd>2.212186330381</dd>\n",
              "</dl>\n"
            ],
            "text/latex": "\\begin{description*}\n\\item[elder\\textbackslash{}\\_po\\textbackslash{}\\_num] 2.55472427706532\n\\item[trans\\textbackslash{}\\_sa\\textbackslash{}\\_idx] 3.44977621970868\n\\item[elder\\textbackslash{}\\_fpo\\textbackslash{}\\_per] 2.67062013291956\n\\item[car\\textbackslash{}\\_ro\\textbackslash{}\\_len] 4.8842082614742\n\\item[car\\textbackslash{}\\_ave\\textbackslash{}\\_spd] 2.94613325320627\n\\item[market\\textbackslash{}\\_num] 3.97549227940155\n\\item[elder\\textbackslash{}\\_sz\\textbackslash{}\\_num] 2.44453543061102\n\\item[ovp\\textbackslash{}\\_num] 2.212186330381\n\\end{description*}\n",
            "text/markdown": "elder_po_num\n:   2.55472427706532trans_sa_idx\n:   3.44977621970868elder_fpo_per\n:   2.67062013291956car_ro_len\n:   4.8842082614742car_ave_spd\n:   2.94613325320627market_num\n:   3.97549227940155elder_sz_num\n:   2.44453543061102ovp_num\n:   2.212186330381\n\n",
            "text/plain": [
              " elder_po_num  trans_sa_idx elder_fpo_per    car_ro_len   car_ave_spd \n",
              "     2.554724      3.449776      2.670620      4.884208      2.946133 \n",
              "   market_num  elder_sz_num       ovp_num \n",
              "     3.975492      2.444535      2.212186 "
            ]
          },
          "metadata": {
            "tags": []
          }
        }
      ]
    },
    {
      "cell_type": "code",
      "metadata": {
        "collapsed": true,
        "id": "sXc9st9mU8B_",
        "colab_type": "code",
        "outputId": "3d8e7035-452e-4173-fe88-28604d7ba26d",
        "colab": {}
      },
      "source": [
        "df.nb3<-glm.nb(elder_ac_num~elder_po_num+trans_sa_idx+elder_fpo_per+car_ave_spd+market_num+elder_sz_num+ovp_num,data=df) \n",
        "summary(df.nb3);vif(df.nb3)"
      ],
      "execution_count": 0,
      "outputs": [
        {
          "output_type": "display_data",
          "data": {
            "text/plain": [
              "\n",
              "Call:\n",
              "glm.nb(formula = elder_ac_num ~ elder_po_num + trans_sa_idx + \n",
              "    elder_fpo_per + car_ave_spd + market_num + elder_sz_num + \n",
              "    ovp_num, data = df, init.theta = 160.669801, link = log)\n",
              "\n",
              "Deviance Residuals: \n",
              "     Min        1Q    Median        3Q       Max  \n",
              "-2.01634  -0.85313  -0.00511   0.54383   2.14555  \n",
              "\n",
              "Coefficients:\n",
              "                Estimate Std. Error z value Pr(>|z|)    \n",
              "(Intercept)    7.746e+00  8.004e-01   9.678  < 2e-16 ***\n",
              "elder_po_num   7.067e-06  2.199e-06   3.214  0.00131 ** \n",
              "trans_sa_idx  -4.790e-02  6.298e-03  -7.604 2.86e-14 ***\n",
              "elder_fpo_per  4.294e-02  1.460e-02   2.942  0.00326 ** \n",
              "car_ave_spd    9.752e-03  2.241e-02   0.435  0.66341    \n",
              "market_num    -2.839e-03  5.501e-03  -0.516  0.60587    \n",
              "elder_sz_num   1.957e-03  1.047e-02   0.187  0.85165    \n",
              "ovp_num        5.762e-03  3.944e-03   1.461  0.14400    \n",
              "---\n",
              "Signif. codes:  0 '***' 0.001 '**' 0.01 '*' 0.05 '.' 0.1 ' ' 1\n",
              "\n",
              "(Dispersion parameter for Negative Binomial(160.6698) family taken to be 1)\n",
              "\n",
              "    Null deviance: 174.579  on 24  degrees of freedom\n",
              "Residual deviance:  25.624  on 17  degrees of freedom\n",
              "AIC: 246.6\n",
              "\n",
              "Number of Fisher Scoring iterations: 1\n",
              "\n",
              "\n",
              "              Theta:  160.7 \n",
              "          Std. Err.:  80.1 \n",
              "\n",
              " 2 x log-likelihood:  -228.6 "
            ]
          },
          "metadata": {
            "tags": []
          }
        },
        {
          "output_type": "display_data",
          "data": {
            "text/html": [
              "<dl class=dl-horizontal>\n",
              "\t<dt>elder_po_num</dt>\n",
              "\t\t<dd>2.54243993720702</dd>\n",
              "\t<dt>trans_sa_idx</dt>\n",
              "\t\t<dd>1.68953682646837</dd>\n",
              "\t<dt>elder_fpo_per</dt>\n",
              "\t\t<dd>1.97669201118278</dd>\n",
              "\t<dt>car_ave_spd</dt>\n",
              "\t\t<dd>2.9033256642828</dd>\n",
              "\t<dt>market_num</dt>\n",
              "\t\t<dd>2.90045057366941</dd>\n",
              "\t<dt>elder_sz_num</dt>\n",
              "\t\t<dd>1.9654675263151</dd>\n",
              "\t<dt>ovp_num</dt>\n",
              "\t\t<dd>2.18960417860661</dd>\n",
              "</dl>\n"
            ],
            "text/latex": "\\begin{description*}\n\\item[elder\\textbackslash{}\\_po\\textbackslash{}\\_num] 2.54243993720702\n\\item[trans\\textbackslash{}\\_sa\\textbackslash{}\\_idx] 1.68953682646837\n\\item[elder\\textbackslash{}\\_fpo\\textbackslash{}\\_per] 1.97669201118278\n\\item[car\\textbackslash{}\\_ave\\textbackslash{}\\_spd] 2.9033256642828\n\\item[market\\textbackslash{}\\_num] 2.90045057366941\n\\item[elder\\textbackslash{}\\_sz\\textbackslash{}\\_num] 1.9654675263151\n\\item[ovp\\textbackslash{}\\_num] 2.18960417860661\n\\end{description*}\n",
            "text/markdown": "elder_po_num\n:   2.54243993720702trans_sa_idx\n:   1.68953682646837elder_fpo_per\n:   1.97669201118278car_ave_spd\n:   2.9033256642828market_num\n:   2.90045057366941elder_sz_num\n:   1.9654675263151ovp_num\n:   2.18960417860661\n\n",
            "text/plain": [
              " elder_po_num  trans_sa_idx elder_fpo_per   car_ave_spd    market_num \n",
              "     2.542440      1.689537      1.976692      2.903326      2.900451 \n",
              " elder_sz_num       ovp_num \n",
              "     1.965468      2.189604 "
            ]
          },
          "metadata": {
            "tags": []
          }
        }
      ]
    },
    {
      "cell_type": "code",
      "metadata": {
        "id": "XEf43UFFU8CD",
        "colab_type": "code",
        "colab": {}
      },
      "source": [
        "# 다중공선성이 있는 설명변수는 제거한 후, 각 모델별 음이항 회귀분석 진행. 1)노인사고건수, 2)노인중상이상사고자수, 3)노인경상이하사고자수"
      ],
      "execution_count": 0,
      "outputs": []
    },
    {
      "cell_type": "code",
      "metadata": {
        "scrolled": true,
        "id": "NsZH0_GeU8CG",
        "colab_type": "code",
        "outputId": "099546a0-bf17-4fda-8e37-520110546559",
        "colab": {}
      },
      "source": [
        "df_ac<-df.nb3\n",
        "summary(df_ac);vif(df_ac)"
      ],
      "execution_count": 0,
      "outputs": [
        {
          "output_type": "display_data",
          "data": {
            "text/plain": [
              "\n",
              "Call:\n",
              "glm.nb(formula = elder_ac_num ~ elder_po_num + trans_sa_idx + \n",
              "    elder_fpo_per + car_ave_spd + market_num + elder_sz_num + \n",
              "    ovp_num, data = df, init.theta = 160.669801, link = log)\n",
              "\n",
              "Deviance Residuals: \n",
              "     Min        1Q    Median        3Q       Max  \n",
              "-2.01634  -0.85313  -0.00511   0.54383   2.14555  \n",
              "\n",
              "Coefficients:\n",
              "                Estimate Std. Error z value Pr(>|z|)    \n",
              "(Intercept)    7.746e+00  8.004e-01   9.678  < 2e-16 ***\n",
              "elder_po_num   7.067e-06  2.199e-06   3.214  0.00131 ** \n",
              "trans_sa_idx  -4.790e-02  6.298e-03  -7.604 2.86e-14 ***\n",
              "elder_fpo_per  4.294e-02  1.460e-02   2.942  0.00326 ** \n",
              "car_ave_spd    9.752e-03  2.241e-02   0.435  0.66341    \n",
              "market_num    -2.839e-03  5.501e-03  -0.516  0.60587    \n",
              "elder_sz_num   1.957e-03  1.047e-02   0.187  0.85165    \n",
              "ovp_num        5.762e-03  3.944e-03   1.461  0.14400    \n",
              "---\n",
              "Signif. codes:  0 '***' 0.001 '**' 0.01 '*' 0.05 '.' 0.1 ' ' 1\n",
              "\n",
              "(Dispersion parameter for Negative Binomial(160.6698) family taken to be 1)\n",
              "\n",
              "    Null deviance: 174.579  on 24  degrees of freedom\n",
              "Residual deviance:  25.624  on 17  degrees of freedom\n",
              "AIC: 246.6\n",
              "\n",
              "Number of Fisher Scoring iterations: 1\n",
              "\n",
              "\n",
              "              Theta:  160.7 \n",
              "          Std. Err.:  80.1 \n",
              "\n",
              " 2 x log-likelihood:  -228.6 "
            ]
          },
          "metadata": {
            "tags": []
          }
        },
        {
          "output_type": "display_data",
          "data": {
            "text/html": [
              "<dl class=dl-horizontal>\n",
              "\t<dt>elder_po_num</dt>\n",
              "\t\t<dd>2.54243993720702</dd>\n",
              "\t<dt>trans_sa_idx</dt>\n",
              "\t\t<dd>1.68953682646837</dd>\n",
              "\t<dt>elder_fpo_per</dt>\n",
              "\t\t<dd>1.97669201118278</dd>\n",
              "\t<dt>car_ave_spd</dt>\n",
              "\t\t<dd>2.9033256642828</dd>\n",
              "\t<dt>market_num</dt>\n",
              "\t\t<dd>2.90045057366941</dd>\n",
              "\t<dt>elder_sz_num</dt>\n",
              "\t\t<dd>1.9654675263151</dd>\n",
              "\t<dt>ovp_num</dt>\n",
              "\t\t<dd>2.18960417860661</dd>\n",
              "</dl>\n"
            ],
            "text/latex": "\\begin{description*}\n\\item[elder\\textbackslash{}\\_po\\textbackslash{}\\_num] 2.54243993720702\n\\item[trans\\textbackslash{}\\_sa\\textbackslash{}\\_idx] 1.68953682646837\n\\item[elder\\textbackslash{}\\_fpo\\textbackslash{}\\_per] 1.97669201118278\n\\item[car\\textbackslash{}\\_ave\\textbackslash{}\\_spd] 2.9033256642828\n\\item[market\\textbackslash{}\\_num] 2.90045057366941\n\\item[elder\\textbackslash{}\\_sz\\textbackslash{}\\_num] 1.9654675263151\n\\item[ovp\\textbackslash{}\\_num] 2.18960417860661\n\\end{description*}\n",
            "text/markdown": "elder_po_num\n:   2.54243993720702trans_sa_idx\n:   1.68953682646837elder_fpo_per\n:   1.97669201118278car_ave_spd\n:   2.9033256642828market_num\n:   2.90045057366941elder_sz_num\n:   1.9654675263151ovp_num\n:   2.18960417860661\n\n",
            "text/plain": [
              " elder_po_num  trans_sa_idx elder_fpo_per   car_ave_spd    market_num \n",
              "     2.542440      1.689537      1.976692      2.903326      2.900451 \n",
              " elder_sz_num       ovp_num \n",
              "     1.965468      2.189604 "
            ]
          },
          "metadata": {
            "tags": []
          }
        }
      ]
    },
    {
      "cell_type": "code",
      "metadata": {
        "scrolled": true,
        "id": "VLCMLFfzU8CL",
        "colab_type": "code",
        "outputId": "4a17deba-6f98-4564-9fef-b2a58c03bd74",
        "colab": {}
      },
      "source": [
        "df_hv<-glm.nb(elder_hv_num~elder_po_num+trans_sa_idx+elder_fpo_per+car_ave_spd+market_num+elder_sz_num+ovp_num,data=df) \n",
        "summary(df_hv);vif(df_hv)"
      ],
      "execution_count": 0,
      "outputs": [
        {
          "output_type": "display_data",
          "data": {
            "text/plain": [
              "\n",
              "Call:\n",
              "glm.nb(formula = elder_hv_num ~ elder_po_num + trans_sa_idx + \n",
              "    elder_fpo_per + car_ave_spd + market_num + elder_sz_num + \n",
              "    ovp_num, data = df, init.theta = 123.0087214, link = log)\n",
              "\n",
              "Deviance Residuals: \n",
              "    Min       1Q   Median       3Q      Max  \n",
              "-2.2483  -0.6138  -0.2910   0.5938   2.5612  \n",
              "\n",
              "Coefficients:\n",
              "                Estimate Std. Error z value Pr(>|z|)    \n",
              "(Intercept)    5.634e+00  1.072e+00   5.257 1.47e-07 ***\n",
              "elder_po_num   9.754e-06  2.983e-06   3.269  0.00108 ** \n",
              "trans_sa_idx  -3.481e-02  8.456e-03  -4.117 3.84e-05 ***\n",
              "elder_fpo_per  6.225e-02  1.967e-02   3.165  0.00155 ** \n",
              "car_ave_spd   -6.264e-03  3.035e-02  -0.206  0.83651    \n",
              "market_num     3.373e-03  7.370e-03   0.458  0.64716    \n",
              "elder_sz_num   2.144e-03  1.401e-02   0.153  0.87841    \n",
              "ovp_num        6.040e-03  5.379e-03   1.123  0.26150    \n",
              "---\n",
              "Signif. codes:  0 '***' 0.001 '**' 0.01 '*' 0.05 '.' 0.1 ' ' 1\n",
              "\n",
              "(Dispersion parameter for Negative Binomial(123.0087) family taken to be 1)\n",
              "\n",
              "    Null deviance: 100.423  on 24  degrees of freedom\n",
              "Residual deviance:  23.981  on 17  degrees of freedom\n",
              "AIC: 213.41\n",
              "\n",
              "Number of Fisher Scoring iterations: 1\n",
              "\n",
              "\n",
              "              Theta:  123.0 \n",
              "          Std. Err.:  79.0 \n",
              "\n",
              " 2 x log-likelihood:  -195.411 "
            ]
          },
          "metadata": {
            "tags": []
          }
        },
        {
          "output_type": "display_data",
          "data": {
            "text/html": [
              "<dl class=dl-horizontal>\n",
              "\t<dt>elder_po_num</dt>\n",
              "\t\t<dd>2.55138181610398</dd>\n",
              "\t<dt>trans_sa_idx</dt>\n",
              "\t\t<dd>1.67710912526332</dd>\n",
              "\t<dt>elder_fpo_per</dt>\n",
              "\t\t<dd>2.04649252345271</dd>\n",
              "\t<dt>car_ave_spd</dt>\n",
              "\t\t<dd>2.93128021905344</dd>\n",
              "\t<dt>market_num</dt>\n",
              "\t\t<dd>2.82255194068608</dd>\n",
              "\t<dt>elder_sz_num</dt>\n",
              "\t\t<dd>1.98747835013135</dd>\n",
              "\t<dt>ovp_num</dt>\n",
              "\t\t<dd>2.22655712163401</dd>\n",
              "</dl>\n"
            ],
            "text/latex": "\\begin{description*}\n\\item[elder\\textbackslash{}\\_po\\textbackslash{}\\_num] 2.55138181610398\n\\item[trans\\textbackslash{}\\_sa\\textbackslash{}\\_idx] 1.67710912526332\n\\item[elder\\textbackslash{}\\_fpo\\textbackslash{}\\_per] 2.04649252345271\n\\item[car\\textbackslash{}\\_ave\\textbackslash{}\\_spd] 2.93128021905344\n\\item[market\\textbackslash{}\\_num] 2.82255194068608\n\\item[elder\\textbackslash{}\\_sz\\textbackslash{}\\_num] 1.98747835013135\n\\item[ovp\\textbackslash{}\\_num] 2.22655712163401\n\\end{description*}\n",
            "text/markdown": "elder_po_num\n:   2.55138181610398trans_sa_idx\n:   1.67710912526332elder_fpo_per\n:   2.04649252345271car_ave_spd\n:   2.93128021905344market_num\n:   2.82255194068608elder_sz_num\n:   1.98747835013135ovp_num\n:   2.22655712163401\n\n",
            "text/plain": [
              " elder_po_num  trans_sa_idx elder_fpo_per   car_ave_spd    market_num \n",
              "     2.551382      1.677109      2.046493      2.931280      2.822552 \n",
              " elder_sz_num       ovp_num \n",
              "     1.987478      2.226557 "
            ]
          },
          "metadata": {
            "tags": []
          }
        }
      ]
    },
    {
      "cell_type": "code",
      "metadata": {
        "scrolled": true,
        "id": "o3kZpx1_U8CN",
        "colab_type": "code",
        "outputId": "fcf05c88-93b3-4839-ad0a-16b9b534423c",
        "colab": {}
      },
      "source": [
        "df_lt<-glm.nb(elder_lt_num~elder_po_num+trans_sa_idx+elder_fpo_per+car_ave_spd+market_num+elder_sz_num+ovp_num,data=df) \n",
        "summary(df_lt);vif(df_lt)"
      ],
      "execution_count": 0,
      "outputs": [
        {
          "output_type": "display_data",
          "data": {
            "text/plain": [
              "\n",
              "Call:\n",
              "glm.nb(formula = elder_lt_num ~ elder_po_num + trans_sa_idx + \n",
              "    elder_fpo_per + car_ave_spd + market_num + elder_sz_num + \n",
              "    ovp_num, data = df, init.theta = 117.5879037, link = log)\n",
              "\n",
              "Deviance Residuals: \n",
              "    Min       1Q   Median       3Q      Max  \n",
              "-1.5666  -0.7939  -0.1344   0.6348   1.8129  \n",
              "\n",
              "Coefficients:\n",
              "                Estimate Std. Error z value Pr(>|z|)    \n",
              "(Intercept)    8.131e+00  9.529e-01   8.533  < 2e-16 ***\n",
              "elder_po_num   4.590e-06  2.625e-06   1.749   0.0804 .  \n",
              "trans_sa_idx  -5.672e-02  7.483e-03  -7.580 3.45e-14 ***\n",
              "elder_fpo_per  3.266e-02  1.746e-02   1.871   0.0613 .  \n",
              "car_ave_spd    1.944e-02  2.673e-02   0.727   0.4671    \n",
              "market_num    -8.243e-03  6.588e-03  -1.251   0.2108    \n",
              "elder_sz_num   7.435e-03  1.249e-02   0.595   0.5517    \n",
              "ovp_num        6.114e-03  4.689e-03   1.304   0.1923    \n",
              "---\n",
              "Signif. codes:  0 '***' 0.001 '**' 0.01 '*' 0.05 '.' 0.1 ' ' 1\n",
              "\n",
              "(Dispersion parameter for Negative Binomial(117.5879) family taken to be 1)\n",
              "\n",
              "    Null deviance: 154.480  on 24  degrees of freedom\n",
              "Residual deviance:  26.326  on 17  degrees of freedom\n",
              "AIC: 235.52\n",
              "\n",
              "Number of Fisher Scoring iterations: 1\n",
              "\n",
              "\n",
              "              Theta:  117.6 \n",
              "          Std. Err.:  63.1 \n",
              "\n",
              " 2 x log-likelihood:  -217.519 "
            ]
          },
          "metadata": {
            "tags": []
          }
        },
        {
          "output_type": "display_data",
          "data": {
            "text/html": [
              "<dl class=dl-horizontal>\n",
              "\t<dt>elder_po_num</dt>\n",
              "\t\t<dd>2.53138071282514</dd>\n",
              "\t<dt>trans_sa_idx</dt>\n",
              "\t\t<dd>1.70098304714191</dd>\n",
              "\t<dt>elder_fpo_per</dt>\n",
              "\t\t<dd>1.95314172438662</dd>\n",
              "\t<dt>car_ave_spd</dt>\n",
              "\t\t<dd>2.87777989574917</dd>\n",
              "\t<dt>market_num</dt>\n",
              "\t\t<dd>2.88880322887346</dd>\n",
              "\t<dt>elder_sz_num</dt>\n",
              "\t\t<dd>1.96474674408414</dd>\n",
              "\t<dt>ovp_num</dt>\n",
              "\t\t<dd>2.20519489585428</dd>\n",
              "</dl>\n"
            ],
            "text/latex": "\\begin{description*}\n\\item[elder\\textbackslash{}\\_po\\textbackslash{}\\_num] 2.53138071282514\n\\item[trans\\textbackslash{}\\_sa\\textbackslash{}\\_idx] 1.70098304714191\n\\item[elder\\textbackslash{}\\_fpo\\textbackslash{}\\_per] 1.95314172438662\n\\item[car\\textbackslash{}\\_ave\\textbackslash{}\\_spd] 2.87777989574917\n\\item[market\\textbackslash{}\\_num] 2.88880322887346\n\\item[elder\\textbackslash{}\\_sz\\textbackslash{}\\_num] 1.96474674408414\n\\item[ovp\\textbackslash{}\\_num] 2.20519489585428\n\\end{description*}\n",
            "text/markdown": "elder_po_num\n:   2.53138071282514trans_sa_idx\n:   1.70098304714191elder_fpo_per\n:   1.95314172438662car_ave_spd\n:   2.87777989574917market_num\n:   2.88880322887346elder_sz_num\n:   1.96474674408414ovp_num\n:   2.20519489585428\n\n",
            "text/plain": [
              " elder_po_num  trans_sa_idx elder_fpo_per   car_ave_spd    market_num \n",
              "     2.531381      1.700983      1.953142      2.877780      2.888803 \n",
              " elder_sz_num       ovp_num \n",
              "     1.964747      2.205195 "
            ]
          },
          "metadata": {
            "tags": []
          }
        }
      ]
    },
    {
      "cell_type": "code",
      "metadata": {
        "id": "sWUFHZ4XU8CP",
        "colab_type": "code",
        "colab": {}
      },
      "source": [
        "# p값(Pr(>/z/)이 작다는 것은 회귀계수가 유의하다는 뜻이고, 값이 작을수록 상관관계가 있다는 것을 나타냄\n",
        "# 이 값이 얼마나 작은지에 따라 바로 아래에 있는 Signif. codes대로 점이 찍히게 됨\n",
        "# 보통 유의수준은 5%로 잡으므로, 점 하나만 찍혀도 상관관계는 있다고 봐도 무방\n",
        "# 만약 이 값이 커서 회귀관계가 없는 것으로 밝혀진다면 회귀계수가 어떻게 구해지든 통계적으로는 의미가 없으므로\n",
        "# 각 모델의 분석 결과를 바탕으로 통계적으로 유의미하다고 볼 수 있는 설명변수들만 가지고 재분석"
      ],
      "execution_count": 0,
      "outputs": []
    },
    {
      "cell_type": "code",
      "metadata": {
        "scrolled": false,
        "id": "6qKgZVj4U8CS",
        "colab_type": "code",
        "outputId": "80ccd85e-358c-4550-95ed-5b7f5c00bf73",
        "colab": {}
      },
      "source": [
        "df_ac_fit<-glm.nb(elder_ac_num~elder_po_num+trans_sa_idx+elder_fpo_per,data=df)\n",
        "summary(df_ac_fit);vif(df_ac_fit);confint(df_ac_fit)"
      ],
      "execution_count": 0,
      "outputs": [
        {
          "output_type": "display_data",
          "data": {
            "text/plain": [
              "\n",
              "Call:\n",
              "glm.nb(formula = elder_ac_num ~ elder_po_num + trans_sa_idx + \n",
              "    elder_fpo_per, data = df, init.theta = 102.6570633, link = log)\n",
              "\n",
              "Deviance Residuals: \n",
              "     Min        1Q    Median        3Q       Max  \n",
              "-2.01076  -0.66569  -0.05484   0.53726   1.83329  \n",
              "\n",
              "Coefficients:\n",
              "                Estimate Std. Error z value Pr(>|z|)    \n",
              "(Intercept)    8.076e+00  4.528e-01  17.837  < 2e-16 ***\n",
              "elder_po_num   8.606e-06  1.625e-06   5.298 1.17e-07 ***\n",
              "trans_sa_idx  -4.652e-02  5.873e-03  -7.921 2.36e-15 ***\n",
              "elder_fpo_per  2.714e-02  1.280e-02   2.120    0.034 *  \n",
              "---\n",
              "Signif. codes:  0 '***' 0.001 '**' 0.01 '*' 0.05 '.' 0.1 ' ' 1\n",
              "\n",
              "(Dispersion parameter for Negative Binomial(102.6571) family taken to be 1)\n",
              "\n",
              "    Null deviance: 130.973  on 24  degrees of freedom\n",
              "Residual deviance:  25.322  on 21  degrees of freedom\n",
              "AIC: 245.38\n",
              "\n",
              "Number of Fisher Scoring iterations: 1\n",
              "\n",
              "\n",
              "              Theta:  102.7 \n",
              "          Std. Err.:  43.0 \n",
              "\n",
              " 2 x log-likelihood:  -235.376 "
            ]
          },
          "metadata": {
            "tags": []
          }
        },
        {
          "output_type": "display_data",
          "data": {
            "text/html": [
              "<dl class=dl-horizontal>\n",
              "\t<dt>elder_po_num</dt>\n",
              "\t\t<dd>1.06513146908121</dd>\n",
              "\t<dt>trans_sa_idx</dt>\n",
              "\t\t<dd>1.08914274298991</dd>\n",
              "\t<dt>elder_fpo_per</dt>\n",
              "\t\t<dd>1.14439078568853</dd>\n",
              "</dl>\n"
            ],
            "text/latex": "\\begin{description*}\n\\item[elder\\textbackslash{}\\_po\\textbackslash{}\\_num] 1.06513146908121\n\\item[trans\\textbackslash{}\\_sa\\textbackslash{}\\_idx] 1.08914274298991\n\\item[elder\\textbackslash{}\\_fpo\\textbackslash{}\\_per] 1.14439078568853\n\\end{description*}\n",
            "text/markdown": "elder_po_num\n:   1.06513146908121trans_sa_idx\n:   1.08914274298991elder_fpo_per\n:   1.14439078568853\n\n",
            "text/plain": [
              " elder_po_num  trans_sa_idx elder_fpo_per \n",
              "     1.065131      1.089143      1.144391 "
            ]
          },
          "metadata": {
            "tags": []
          }
        },
        {
          "output_type": "stream",
          "text": [
            "Waiting for profiling to be done...\n"
          ],
          "name": "stderr"
        },
        {
          "output_type": "display_data",
          "data": {
            "text/html": [
              "<table>\n",
              "<thead><tr><th></th><th scope=col>2.5 %</th><th scope=col>97.5 %</th></tr></thead>\n",
              "<tbody>\n",
              "\t<tr><th scope=row>(Intercept)</th><td> 7.182646e+00</td><td> 8.979221e+00</td></tr>\n",
              "\t<tr><th scope=row>elder_po_num</th><td> 5.344386e-06</td><td> 1.186766e-05</td></tr>\n",
              "\t<tr><th scope=row>trans_sa_idx</th><td>-5.814479e-02</td><td>-3.498323e-02</td></tr>\n",
              "\t<tr><th scope=row>elder_fpo_per</th><td> 1.827910e-03</td><td> 5.261019e-02</td></tr>\n",
              "</tbody>\n",
              "</table>\n"
            ],
            "text/latex": "\\begin{tabular}{r|ll}\n  & 2.5 \\% & 97.5 \\%\\\\\n\\hline\n\t(Intercept) &  7.182646e+00 &  8.979221e+00\\\\\n\telder\\_po\\_num &  5.344386e-06 &  1.186766e-05\\\\\n\ttrans\\_sa\\_idx & -5.814479e-02 & -3.498323e-02\\\\\n\telder\\_fpo\\_per &  1.827910e-03 &  5.261019e-02\\\\\n\\end{tabular}\n",
            "text/markdown": "\n| <!--/--> | 2.5 % | 97.5 % |\n|---|---|---|\n| (Intercept) |  7.182646e+00 |  8.979221e+00 |\n| elder_po_num |  5.344386e-06 |  1.186766e-05 |\n| trans_sa_idx | -5.814479e-02 | -3.498323e-02 |\n| elder_fpo_per |  1.827910e-03 |  5.261019e-02 |\n\n",
            "text/plain": [
              "              2.5 %         97.5 %       \n",
              "(Intercept)    7.182646e+00  8.979221e+00\n",
              "elder_po_num   5.344386e-06  1.186766e-05\n",
              "trans_sa_idx  -5.814479e-02 -3.498323e-02\n",
              "elder_fpo_per  1.827910e-03  5.261019e-02"
            ]
          },
          "metadata": {
            "tags": []
          }
        }
      ]
    },
    {
      "cell_type": "code",
      "metadata": {
        "scrolled": false,
        "id": "Yau8Qv9WU8CW",
        "colab_type": "code",
        "outputId": "e09b9def-3250-4795-ace8-1419f70f4f93",
        "colab": {}
      },
      "source": [
        "df_hv_fit<-glm.nb(elder_hv_num~elder_po_num+trans_sa_idx+elder_fpo_per,data=df)\n",
        "summary(df_hv_fit);vif(df_hv_fit);confint(df_hv_fit)"
      ],
      "execution_count": 0,
      "outputs": [
        {
          "output_type": "display_data",
          "data": {
            "text/plain": [
              "\n",
              "Call:\n",
              "glm.nb(formula = elder_hv_num ~ elder_po_num + trans_sa_idx + \n",
              "    elder_fpo_per, data = df, init.theta = 110.4902327, link = log)\n",
              "\n",
              "Deviance Residuals: \n",
              "    Min       1Q   Median       3Q      Max  \n",
              "-1.8173  -0.7436  -0.2346   0.5019   2.5729  \n",
              "\n",
              "Coefficients:\n",
              "                Estimate Std. Error z value Pr(>|z|)    \n",
              "(Intercept)    6.019e+00  5.373e-01  11.204  < 2e-16 ***\n",
              "elder_po_num   9.369e-06  1.960e-06   4.779 1.76e-06 ***\n",
              "trans_sa_idx  -3.855e-02  7.012e-03  -5.498 3.85e-08 ***\n",
              "elder_fpo_per  5.531e-02  1.504e-02   3.677 0.000236 ***\n",
              "---\n",
              "Signif. codes:  0 '***' 0.001 '**' 0.01 '*' 0.05 '.' 0.1 ' ' 1\n",
              "\n",
              "(Dispersion parameter for Negative Binomial(110.4902) family taken to be 1)\n",
              "\n",
              "    Null deviance: 95.839  on 24  degrees of freedom\n",
              "Residual deviance: 24.432  on 21  degrees of freedom\n",
              "AIC: 207.02\n",
              "\n",
              "Number of Fisher Scoring iterations: 1\n",
              "\n",
              "\n",
              "              Theta:  110.5 \n",
              "          Std. Err.:  67.9 \n",
              "\n",
              " 2 x log-likelihood:  -197.018 "
            ]
          },
          "metadata": {
            "tags": []
          }
        },
        {
          "output_type": "display_data",
          "data": {
            "text/html": [
              "<dl class=dl-horizontal>\n",
              "\t<dt>elder_po_num</dt>\n",
              "\t\t<dd>1.05562098972649</dd>\n",
              "\t<dt>trans_sa_idx</dt>\n",
              "\t\t<dd>1.10028259629203</dd>\n",
              "\t<dt>elder_fpo_per</dt>\n",
              "\t\t<dd>1.14548381944994</dd>\n",
              "</dl>\n"
            ],
            "text/latex": "\\begin{description*}\n\\item[elder\\textbackslash{}\\_po\\textbackslash{}\\_num] 1.05562098972649\n\\item[trans\\textbackslash{}\\_sa\\textbackslash{}\\_idx] 1.10028259629203\n\\item[elder\\textbackslash{}\\_fpo\\textbackslash{}\\_per] 1.14548381944994\n\\end{description*}\n",
            "text/markdown": "elder_po_num\n:   1.05562098972649trans_sa_idx\n:   1.10028259629203elder_fpo_per\n:   1.14548381944994\n\n",
            "text/plain": [
              " elder_po_num  trans_sa_idx elder_fpo_per \n",
              "     1.055621      1.100283      1.145484 "
            ]
          },
          "metadata": {
            "tags": []
          }
        },
        {
          "output_type": "stream",
          "text": [
            "Waiting for profiling to be done...\n"
          ],
          "name": "stderr"
        },
        {
          "output_type": "display_data",
          "data": {
            "text/html": [
              "<table>\n",
              "<thead><tr><th></th><th scope=col>2.5 %</th><th scope=col>97.5 %</th></tr></thead>\n",
              "<tbody>\n",
              "\t<tr><th scope=row>(Intercept)</th><td> 4.956559e+00</td><td> 7.082706e+00</td></tr>\n",
              "\t<tr><th scope=row>elder_po_num</th><td> 5.520988e-06</td><td> 1.323238e-05</td></tr>\n",
              "\t<tr><th scope=row>trans_sa_idx</th><td>-5.241871e-02</td><td>-2.471162e-02</td></tr>\n",
              "\t<tr><th scope=row>elder_fpo_per</th><td> 2.535239e-02</td><td> 8.532896e-02</td></tr>\n",
              "</tbody>\n",
              "</table>\n"
            ],
            "text/latex": "\\begin{tabular}{r|ll}\n  & 2.5 \\% & 97.5 \\%\\\\\n\\hline\n\t(Intercept) &  4.956559e+00 &  7.082706e+00\\\\\n\telder\\_po\\_num &  5.520988e-06 &  1.323238e-05\\\\\n\ttrans\\_sa\\_idx & -5.241871e-02 & -2.471162e-02\\\\\n\telder\\_fpo\\_per &  2.535239e-02 &  8.532896e-02\\\\\n\\end{tabular}\n",
            "text/markdown": "\n| <!--/--> | 2.5 % | 97.5 % |\n|---|---|---|\n| (Intercept) |  4.956559e+00 |  7.082706e+00 |\n| elder_po_num |  5.520988e-06 |  1.323238e-05 |\n| trans_sa_idx | -5.241871e-02 | -2.471162e-02 |\n| elder_fpo_per |  2.535239e-02 |  8.532896e-02 |\n\n",
            "text/plain": [
              "              2.5 %         97.5 %       \n",
              "(Intercept)    4.956559e+00  7.082706e+00\n",
              "elder_po_num   5.520988e-06  1.323238e-05\n",
              "trans_sa_idx  -5.241871e-02 -2.471162e-02\n",
              "elder_fpo_per  2.535239e-02  8.532896e-02"
            ]
          },
          "metadata": {
            "tags": []
          }
        }
      ]
    },
    {
      "cell_type": "code",
      "metadata": {
        "scrolled": false,
        "id": "EVGCokZlU8CZ",
        "colab_type": "code",
        "outputId": "d095ab9a-196e-4250-8d7a-0660e5e1f26c",
        "colab": {}
      },
      "source": [
        "df_lt_fit<-glm.nb(elder_lt_num~elder_po_num+trans_sa_idx+elder_fpo_per,data=df)\n",
        "summary(df_lt_fit);vif(df_lt_fit);confint(df_lt_fit)"
      ],
      "execution_count": 0,
      "outputs": [
        {
          "output_type": "display_data",
          "data": {
            "text/plain": [
              "\n",
              "Call:\n",
              "glm.nb(formula = elder_lt_num ~ elder_po_num + trans_sa_idx + \n",
              "    elder_fpo_per, data = df, init.theta = 55.41750206, link = log)\n",
              "\n",
              "Deviance Residuals: \n",
              "    Min       1Q   Median       3Q      Max  \n",
              "-2.4804  -0.4801  -0.1974   0.6566   2.1216  \n",
              "\n",
              "Coefficients:\n",
              "                Estimate Std. Error z value Pr(>|z|)    \n",
              "(Intercept)    8.399e+00  5.978e-01  14.049  < 2e-16 ***\n",
              "elder_po_num   8.217e-06  2.140e-06   3.840 0.000123 ***\n",
              "trans_sa_idx  -5.132e-02  7.745e-03  -6.626 3.44e-11 ***\n",
              "elder_fpo_per  6.714e-03  1.700e-02   0.395 0.692867    \n",
              "---\n",
              "Signif. codes:  0 '***' 0.001 '**' 0.01 '*' 0.05 '.' 0.1 ' ' 1\n",
              "\n",
              "(Dispersion parameter for Negative Binomial(55.4175) family taken to be 1)\n",
              "\n",
              "    Null deviance: 94.202  on 24  degrees of freedom\n",
              "Residual deviance: 25.325  on 21  degrees of freedom\n",
              "AIC: 238.6\n",
              "\n",
              "Number of Fisher Scoring iterations: 1\n",
              "\n",
              "\n",
              "              Theta:  55.4 \n",
              "          Std. Err.:  21.8 \n",
              "\n",
              " 2 x log-likelihood:  -228.597 "
            ]
          },
          "metadata": {
            "tags": []
          }
        },
        {
          "output_type": "display_data",
          "data": {
            "text/html": [
              "<dl class=dl-horizontal>\n",
              "\t<dt>elder_po_num</dt>\n",
              "\t\t<dd>1.06717281356088</dd>\n",
              "\t<dt>trans_sa_idx</dt>\n",
              "\t\t<dd>1.08741757285637</dd>\n",
              "\t<dt>elder_fpo_per</dt>\n",
              "\t\t<dd>1.14464211691075</dd>\n",
              "</dl>\n"
            ],
            "text/latex": "\\begin{description*}\n\\item[elder\\textbackslash{}\\_po\\textbackslash{}\\_num] 1.06717281356088\n\\item[trans\\textbackslash{}\\_sa\\textbackslash{}\\_idx] 1.08741757285637\n\\item[elder\\textbackslash{}\\_fpo\\textbackslash{}\\_per] 1.14464211691075\n\\end{description*}\n",
            "text/markdown": "elder_po_num\n:   1.06717281356088trans_sa_idx\n:   1.08741757285637elder_fpo_per\n:   1.14464211691075\n\n",
            "text/plain": [
              " elder_po_num  trans_sa_idx elder_fpo_per \n",
              "     1.067173      1.087418      1.144642 "
            ]
          },
          "metadata": {
            "tags": []
          }
        },
        {
          "output_type": "stream",
          "text": [
            "Waiting for profiling to be done...\n"
          ],
          "name": "stderr"
        },
        {
          "output_type": "display_data",
          "data": {
            "text/html": [
              "<table>\n",
              "<thead><tr><th></th><th scope=col>2.5 %</th><th scope=col>97.5 %</th></tr></thead>\n",
              "<tbody>\n",
              "\t<tr><th scope=row>(Intercept)</th><td> 7.214198e+00</td><td> 9.6014578956</td></tr>\n",
              "\t<tr><th scope=row>elder_po_num</th><td> 3.867594e-06</td><td> 0.0000125601</td></tr>\n",
              "\t<tr><th scope=row>trans_sa_idx</th><td>-6.673115e-02</td><td>-0.0360841026</td></tr>\n",
              "\t<tr><th scope=row>elder_fpo_per</th><td>-2.664889e-02</td><td> 0.0403801136</td></tr>\n",
              "</tbody>\n",
              "</table>\n"
            ],
            "text/latex": "\\begin{tabular}{r|ll}\n  & 2.5 \\% & 97.5 \\%\\\\\n\\hline\n\t(Intercept) &  7.214198e+00 &  9.6014578956\\\\\n\telder\\_po\\_num &  3.867594e-06 &  0.0000125601\\\\\n\ttrans\\_sa\\_idx & -6.673115e-02 & -0.0360841026\\\\\n\telder\\_fpo\\_per & -2.664889e-02 &  0.0403801136\\\\\n\\end{tabular}\n",
            "text/markdown": "\n| <!--/--> | 2.5 % | 97.5 % |\n|---|---|---|\n| (Intercept) |  7.214198e+00 |  9.6014578956 |\n| elder_po_num |  3.867594e-06 |  0.0000125601 |\n| trans_sa_idx | -6.673115e-02 | -0.0360841026 |\n| elder_fpo_per | -2.664889e-02 |  0.0403801136 |\n\n",
            "text/plain": [
              "              2.5 %         97.5 %       \n",
              "(Intercept)    7.214198e+00  9.6014578956\n",
              "elder_po_num   3.867594e-06  0.0000125601\n",
              "trans_sa_idx  -6.673115e-02 -0.0360841026\n",
              "elder_fpo_per -2.664889e-02  0.0403801136"
            ]
          },
          "metadata": {
            "tags": []
          }
        }
      ]
    },
    {
      "cell_type": "code",
      "metadata": {
        "id": "NmKtdg9aVBX7",
        "colab_type": "code",
        "colab": {}
      },
      "source": [
        "# 본 분석모델의 타당성을 검증하기 위해 우도비(likelyhood) 검정 실행 예정"
      ],
      "execution_count": 0,
      "outputs": []
    }
  ]
}
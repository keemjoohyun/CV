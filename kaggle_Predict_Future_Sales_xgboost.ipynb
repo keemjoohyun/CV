{
  "nbformat": 4,
  "nbformat_minor": 0,
  "metadata": {
    "kernelspec": {
      "display_name": "Python 3",
      "language": "python",
      "name": "python3"
    },
    "language_info": {
      "codemirror_mode": {
        "name": "ipython",
        "version": 3
      },
      "file_extension": ".py",
      "mimetype": "text/x-python",
      "name": "python",
      "nbconvert_exporter": "python",
      "pygments_lexer": "ipython3",
      "version": "3.7.4"
    },
    "colab": {
      "name": "Predict Future Sales_xgboost.ipynb",
      "provenance": []
    }
  },
  "cells": [
    {
      "cell_type": "code",
      "metadata": {
        "id": "Xr82iST6O5FL",
        "colab_type": "code",
        "colab": {}
      },
      "source": [
        "# import fundamental\n",
        "import numpy as np\n",
        "import pandas as pd\n",
        "from itertools import product\n",
        "import time\n",
        "import sys\n",
        "import gc\n",
        "import pickle\n",
        "sys.version_info\n",
        "\n",
        "# import ML\n",
        "from sklearn.preprocessing import LabelEncoder\n",
        "from xgboost import XGBRegressor\n",
        "from xgboost import plot_importance\n",
        "\n",
        "# import warnings\n",
        "import warnings\n",
        "warnings.filterwarnings('ignore')\n",
        "\n",
        "# import visualisation api\n",
        "import matplotlib.pyplot as plt\n",
        "from matplotlib import font_manager\n",
        "import matplotlib.pylab as pylab\n",
        "from matplotlib import cm\n",
        "import seaborn as sns\n",
        "\n",
        "# bg theme\n",
        "plt.style.use(['seaborn-whitegrid'])\n",
        "\n",
        "# font\n",
        "font_fname = 'C:/Users/Admin/AppData/Local/Microsoft/Windows/Fonts/NanumGothicCoding.ttf'\n",
        "font_family = font_manager.FontProperties(fname=font_fname).get_name()\n",
        "plt.rcParams[\"font.family\"] = font_family"
      ],
      "execution_count": 0,
      "outputs": []
    },
    {
      "cell_type": "code",
      "metadata": {
        "id": "gtC3k2BIO5Ff",
        "colab_type": "code",
        "colab": {}
      },
      "source": [
        "def plot_features(booster, figsize):\n",
        "    fig, ax = plt.subplots(1, 1, figsize=figsize)\n",
        "    return plot_importance(booster=booster, ax=ax)"
      ],
      "execution_count": 0,
      "outputs": []
    },
    {
      "cell_type": "code",
      "metadata": {
        "id": "9GFScwqUO5Fn",
        "colab_type": "code",
        "colab": {}
      },
      "source": [
        "items = pd.read_csv('c:/lois/kaggle/competitive-data-science-predict-future-sales/items.csv')\n",
        "shops = pd.read_csv('c:/lois/kaggle/competitive-data-science-predict-future-sales/shops.csv')\n",
        "cats = pd.read_csv('c:/lois/kaggle/competitive-data-science-predict-future-sales/item_categories.csv')\n",
        "train = pd.read_csv('c:/lois/kaggle/competitive-data-science-predict-future-sales/sales_train.csv')\n",
        "test = pd.read_csv('c:/lois/kaggle/competitive-data-science-predict-future-sales/test.csv').set_index('ID')"
      ],
      "execution_count": 0,
      "outputs": []
    },
    {
      "cell_type": "code",
      "metadata": {
        "id": "HfbVC1GKO5Fx",
        "colab_type": "code",
        "colab": {},
        "outputId": "5d8de99d-82c1-4c2e-f23c-1e3421c77a4e"
      },
      "source": [
        "items.info()"
      ],
      "execution_count": 0,
      "outputs": [
        {
          "output_type": "stream",
          "text": [
            "<class 'pandas.core.frame.DataFrame'>\n",
            "RangeIndex: 22170 entries, 0 to 22169\n",
            "Data columns (total 3 columns):\n",
            "item_name           22170 non-null object\n",
            "item_id             22170 non-null int64\n",
            "item_category_id    22170 non-null int64\n",
            "dtypes: int64(2), object(1)\n",
            "memory usage: 519.7+ KB\n"
          ],
          "name": "stdout"
        }
      ]
    },
    {
      "cell_type": "code",
      "metadata": {
        "id": "XrMWFVUMO5F7",
        "colab_type": "code",
        "colab": {},
        "outputId": "4289b547-367b-49fb-aff3-97f0d04a370b"
      },
      "source": [
        "shops.info()"
      ],
      "execution_count": 0,
      "outputs": [
        {
          "output_type": "stream",
          "text": [
            "<class 'pandas.core.frame.DataFrame'>\n",
            "RangeIndex: 60 entries, 0 to 59\n",
            "Data columns (total 2 columns):\n",
            "shop_name    60 non-null object\n",
            "shop_id      60 non-null int64\n",
            "dtypes: int64(1), object(1)\n",
            "memory usage: 1.1+ KB\n"
          ],
          "name": "stdout"
        }
      ]
    },
    {
      "cell_type": "code",
      "metadata": {
        "id": "UYE5tQPtO5GF",
        "colab_type": "code",
        "colab": {},
        "outputId": "c96f4372-d54a-45e8-f248-6260cb50032d"
      },
      "source": [
        "cats.info()"
      ],
      "execution_count": 0,
      "outputs": [
        {
          "output_type": "stream",
          "text": [
            "<class 'pandas.core.frame.DataFrame'>\n",
            "RangeIndex: 84 entries, 0 to 83\n",
            "Data columns (total 2 columns):\n",
            "item_category_name    84 non-null object\n",
            "item_category_id      84 non-null int64\n",
            "dtypes: int64(1), object(1)\n",
            "memory usage: 1.4+ KB\n"
          ],
          "name": "stdout"
        }
      ]
    },
    {
      "cell_type": "code",
      "metadata": {
        "id": "iPREWid1O5GN",
        "colab_type": "code",
        "colab": {},
        "outputId": "be81f41f-06d8-4b66-d072-0df7057a5727"
      },
      "source": [
        "train.info()"
      ],
      "execution_count": 0,
      "outputs": [
        {
          "output_type": "stream",
          "text": [
            "<class 'pandas.core.frame.DataFrame'>\n",
            "RangeIndex: 2935849 entries, 0 to 2935848\n",
            "Data columns (total 6 columns):\n",
            "date              object\n",
            "date_block_num    int64\n",
            "shop_id           int64\n",
            "item_id           int64\n",
            "item_price        float64\n",
            "item_cnt_day      float64\n",
            "dtypes: float64(2), int64(3), object(1)\n",
            "memory usage: 134.4+ MB\n"
          ],
          "name": "stdout"
        }
      ]
    },
    {
      "cell_type": "code",
      "metadata": {
        "scrolled": false,
        "id": "sQ0G5gkIO5GU",
        "colab_type": "code",
        "colab": {},
        "outputId": "b18e1cad-96c2-4887-d6c9-29709f7d09c9"
      },
      "source": [
        "test.info()"
      ],
      "execution_count": 0,
      "outputs": [
        {
          "output_type": "stream",
          "text": [
            "<class 'pandas.core.frame.DataFrame'>\n",
            "Int64Index: 214200 entries, 0 to 214199\n",
            "Data columns (total 2 columns):\n",
            "shop_id    214200 non-null int64\n",
            "item_id    214200 non-null int64\n",
            "dtypes: int64(2)\n",
            "memory usage: 4.9 MB\n"
          ],
          "name": "stdout"
        }
      ]
    },
    {
      "cell_type": "code",
      "metadata": {
        "id": "VgB9A-VgO5Gb",
        "colab_type": "code",
        "colab": {}
      },
      "source": [
        "# preprocess"
      ],
      "execution_count": 0,
      "outputs": []
    },
    {
      "cell_type": "code",
      "metadata": {
        "id": "ZSGzb36KO5Gk",
        "colab_type": "code",
        "colab": {}
      },
      "source": [
        "# clipping outliers"
      ],
      "execution_count": 0,
      "outputs": []
    },
    {
      "cell_type": "code",
      "metadata": {
        "id": "ZUdngwAYO5Gt",
        "colab_type": "code",
        "colab": {},
        "outputId": "af971204-e9df-41f1-97af-9fa0d9dcf306"
      },
      "source": [
        "sns.distplot(train['item_price'])"
      ],
      "execution_count": 0,
      "outputs": [
        {
          "output_type": "execute_result",
          "data": {
            "text/plain": [
              "<matplotlib.axes._subplots.AxesSubplot at 0x1b0b88e2708>"
            ]
          },
          "metadata": {
            "tags": []
          },
          "execution_count": 11
        },
        {
          "output_type": "display_data",
          "data": {
            "image/png": "[encoded data removed]",
            "text/plain": [
              "<Figure size 432x288 with 1 Axes>"
            ]
          },
          "metadata": {
            "tags": []
          }
        }
      ]
    },
    {
      "cell_type": "code",
      "metadata": {
        "id": "GZxqci5kO5G_",
        "colab_type": "code",
        "colab": {},
        "outputId": "4f39d9a7-4927-44ff-8f80-41f22936ba86"
      },
      "source": [
        "sns.distplot(train['item_cnt_day'])"
      ],
      "execution_count": 0,
      "outputs": [
        {
          "output_type": "execute_result",
          "data": {
            "text/plain": [
              "<matplotlib.axes._subplots.AxesSubplot at 0x1b0bace2e48>"
            ]
          },
          "metadata": {
            "tags": []
          },
          "execution_count": 12
        },
        {
          "output_type": "display_data",
          "data": {
            "image/png": "[encoded data removed]",
            "text/plain": [
              "<Figure size 432x288 with 1 Axes>"
            ]
          },
          "metadata": {
            "tags": []
          }
        }
      ]
    },
    {
      "cell_type": "code",
      "metadata": {
        "id": "gR40dRq5O5HF",
        "colab_type": "code",
        "colab": {},
        "outputId": "d4d9b4e7-53de-4995-d66a-32062ef60820"
      },
      "source": [
        "sns.boxplot(x=train.item_price)"
      ],
      "execution_count": 0,
      "outputs": [
        {
          "output_type": "execute_result",
          "data": {
            "text/plain": [
              "<matplotlib.axes._subplots.AxesSubplot at 0x1b0bad2fdc8>"
            ]
          },
          "metadata": {
            "tags": []
          },
          "execution_count": 13
        },
        {
          "output_type": "display_data",
          "data": {
            "image/png": "[encoded data removed]",
            "text/plain": [
              "<Figure size 432x288 with 1 Axes>"
            ]
          },
          "metadata": {
            "tags": []
          }
        }
      ]
    },
    {
      "cell_type": "code",
      "metadata": {
        "id": "lvnErE1NO5HO",
        "colab_type": "code",
        "colab": {},
        "outputId": "1f3267b4-306b-48b2-eff4-7e09c170cdbb"
      },
      "source": [
        "sns.boxplot(x=train.item_cnt_day)"
      ],
      "execution_count": 0,
      "outputs": [
        {
          "output_type": "execute_result",
          "data": {
            "text/plain": [
              "<matplotlib.axes._subplots.AxesSubplot at 0x1b0bae3fb08>"
            ]
          },
          "metadata": {
            "tags": []
          },
          "execution_count": 14
        },
        {
          "output_type": "display_data",
          "data": {
            "image/png": "[encoded data removed]",
            "text/plain": [
              "<Figure size 432x288 with 1 Axes>"
            ]
          },
          "metadata": {
            "tags": []
          }
        }
      ]
    },
    {
      "cell_type": "code",
      "metadata": {
        "id": "37A188jiO5HU",
        "colab_type": "code",
        "colab": {}
      },
      "source": [
        "train = train[train.item_price<100000]\n",
        "train = train[train.item_cnt_day<1001]"
      ],
      "execution_count": 0,
      "outputs": []
    },
    {
      "cell_type": "code",
      "metadata": {
        "id": "rB8hNW1QO5Hb",
        "colab_type": "code",
        "colab": {}
      },
      "source": [
        "# scrubbing missing values"
      ],
      "execution_count": 0,
      "outputs": []
    },
    {
      "cell_type": "code",
      "metadata": {
        "id": "1uaN_5vGO5Hk",
        "colab_type": "code",
        "colab": {},
        "outputId": "47da95ec-b0ad-488a-dc08-ebcd3ead0e36"
      },
      "source": [
        "print(items.isnull().sum())\n",
        "print('--------------------------')\n",
        "print(shops.isnull().sum())\n",
        "print('--------------------------')\n",
        "print(cats.isnull().sum())\n",
        "print('--------------------------')\n",
        "print(train.isnull().sum())\n",
        "print('--------------------------')\n",
        "print(test.isnull().sum())"
      ],
      "execution_count": 0,
      "outputs": [
        {
          "output_type": "stream",
          "text": [
            "item_name           0\n",
            "item_id             0\n",
            "item_category_id    0\n",
            "dtype: int64\n",
            "--------------------------\n",
            "shop_name    0\n",
            "shop_id      0\n",
            "dtype: int64\n",
            "--------------------------\n",
            "item_category_name    0\n",
            "item_category_id      0\n",
            "dtype: int64\n",
            "--------------------------\n",
            "date              0\n",
            "date_block_num    0\n",
            "shop_id           0\n",
            "item_id           0\n",
            "item_price        0\n",
            "item_cnt_day      0\n",
            "dtype: int64\n",
            "--------------------------\n",
            "shop_id    0\n",
            "item_id    0\n",
            "dtype: int64\n"
          ],
          "name": "stdout"
        }
      ]
    },
    {
      "cell_type": "code",
      "metadata": {
        "id": "kdQkGx-7O5Hp",
        "colab_type": "code",
        "colab": {},
        "outputId": "bcf868dd-7837-4c21-e4dc-34b3900072a8"
      },
      "source": [
        "train.median()"
      ],
      "execution_count": 0,
      "outputs": [
        {
          "output_type": "execute_result",
          "data": {
            "text/plain": [
              "date_block_num      14.0\n",
              "shop_id             31.0\n",
              "item_id           9343.0\n",
              "item_price         399.0\n",
              "item_cnt_day         1.0\n",
              "dtype: float64"
            ]
          },
          "metadata": {
            "tags": []
          },
          "execution_count": 18
        }
      ]
    },
    {
      "cell_type": "code",
      "metadata": {
        "id": "yDVGqGPFO5Hv",
        "colab_type": "code",
        "colab": {}
      },
      "source": [
        "train.loc[train.item_price<0, 'item_price'] = 1"
      ],
      "execution_count": 0,
      "outputs": []
    },
    {
      "cell_type": "code",
      "metadata": {
        "id": "A37PyqHMO5H3",
        "colab_type": "code",
        "colab": {}
      },
      "source": [
        "# cleaning duplicated rows"
      ],
      "execution_count": 0,
      "outputs": []
    },
    {
      "cell_type": "code",
      "metadata": {
        "id": "xnlj6qnNO5H9",
        "colab_type": "code",
        "colab": {},
        "outputId": "342d240c-91e9-42e7-c8a5-600b60af7a67"
      },
      "source": [
        "print(items.duplicated().sum())\n",
        "print('--------------------------')\n",
        "print(shops.duplicated().sum())\n",
        "print('--------------------------')\n",
        "print(cats.duplicated().sum())\n",
        "print('--------------------------')\n",
        "print(train.duplicated().sum())\n",
        "print('--------------------------')\n",
        "print(test.duplicated().sum())"
      ],
      "execution_count": 0,
      "outputs": [
        {
          "output_type": "stream",
          "text": [
            "0\n",
            "--------------------------\n",
            "0\n",
            "--------------------------\n",
            "0\n",
            "--------------------------\n",
            "6\n",
            "--------------------------\n",
            "0\n"
          ],
          "name": "stdout"
        }
      ]
    },
    {
      "cell_type": "code",
      "metadata": {
        "id": "HSMvqZ2TO5II",
        "colab_type": "code",
        "colab": {}
      },
      "source": [
        "train.drop_duplicates(inplace=True)"
      ],
      "execution_count": 0,
      "outputs": []
    },
    {
      "cell_type": "code",
      "metadata": {
        "id": "mgIOgoQJO5IQ",
        "colab_type": "code",
        "colab": {},
        "outputId": "3a3a7bb3-15e3-4bd9-d47d-a47f912e6c98"
      },
      "source": [
        "print(train.duplicated().sum())"
      ],
      "execution_count": 0,
      "outputs": [
        {
          "output_type": "stream",
          "text": [
            "0\n"
          ],
          "name": "stdout"
        }
      ]
    },
    {
      "cell_type": "code",
      "metadata": {
        "id": "qbZigp99O5IX",
        "colab_type": "code",
        "colab": {}
      },
      "source": [
        "# cleaning shops"
      ],
      "execution_count": 0,
      "outputs": []
    },
    {
      "cell_type": "code",
      "metadata": {
        "id": "X4ZvYsixO5Ih",
        "colab_type": "code",
        "colab": {}
      },
      "source": [
        "shops.loc[shops.shop_name == 'Сергиев Посад ТЦ \"7Я\"', 'shop_name'] = 'СергиевПосад ТЦ \"7Я\"'"
      ],
      "execution_count": 0,
      "outputs": []
    },
    {
      "cell_type": "code",
      "metadata": {
        "id": "G8dtklUCO5In",
        "colab_type": "code",
        "colab": {}
      },
      "source": [
        "shops['city'] = shops['shop_name'].str.split('').map(lambda x: x[0])"
      ],
      "execution_count": 0,
      "outputs": []
    },
    {
      "cell_type": "code",
      "metadata": {
        "id": "MkJnXhAcO5It",
        "colab_type": "code",
        "colab": {}
      },
      "source": [
        "shops.loc[shops.city == '!Якутск', 'city'] = 'Якутск'"
      ],
      "execution_count": 0,
      "outputs": []
    },
    {
      "cell_type": "code",
      "metadata": {
        "id": "hCYsPrcIO5Iz",
        "colab_type": "code",
        "colab": {}
      },
      "source": [
        "shops['city_code'] = LabelEncoder().fit_transform(shops['city'])"
      ],
      "execution_count": 0,
      "outputs": []
    },
    {
      "cell_type": "code",
      "metadata": {
        "id": "ncsMVqjHO5I4",
        "colab_type": "code",
        "colab": {}
      },
      "source": [
        "shops = shops[['shop_id','city_code']]"
      ],
      "execution_count": 0,
      "outputs": []
    },
    {
      "cell_type": "code",
      "metadata": {
        "id": "6vpgDY4NO5I9",
        "colab_type": "code",
        "colab": {},
        "outputId": "863da52c-7b99-49f9-92c8-61f37cb393a0"
      },
      "source": [
        "shops.head()"
      ],
      "execution_count": 0,
      "outputs": [
        {
          "output_type": "execute_result",
          "data": {
            "text/html": [
              "<div>\n",
              "<style scoped>\n",
              "    .dataframe tbody tr th:only-of-type {\n",
              "        vertical-align: middle;\n",
              "    }\n",
              "\n",
              "    .dataframe tbody tr th {\n",
              "        vertical-align: top;\n",
              "    }\n",
              "\n",
              "    .dataframe thead th {\n",
              "        text-align: right;\n",
              "    }\n",
              "</style>\n",
              "<table border=\"1\" class=\"dataframe\">\n",
              "  <thead>\n",
              "    <tr style=\"text-align: right;\">\n",
              "      <th></th>\n",
              "      <th>shop_id</th>\n",
              "      <th>city_code</th>\n",
              "    </tr>\n",
              "  </thead>\n",
              "  <tbody>\n",
              "    <tr>\n",
              "      <th>0</th>\n",
              "      <td>0</td>\n",
              "      <td>0</td>\n",
              "    </tr>\n",
              "    <tr>\n",
              "      <th>1</th>\n",
              "      <td>1</td>\n",
              "      <td>0</td>\n",
              "    </tr>\n",
              "    <tr>\n",
              "      <th>2</th>\n",
              "      <td>2</td>\n",
              "      <td>0</td>\n",
              "    </tr>\n",
              "    <tr>\n",
              "      <th>3</th>\n",
              "      <td>3</td>\n",
              "      <td>0</td>\n",
              "    </tr>\n",
              "    <tr>\n",
              "      <th>4</th>\n",
              "      <td>4</td>\n",
              "      <td>0</td>\n",
              "    </tr>\n",
              "  </tbody>\n",
              "</table>\n",
              "</div>"
            ],
            "text/plain": [
              "   shop_id  city_code\n",
              "0        0          0\n",
              "1        1          0\n",
              "2        2          0\n",
              "3        3          0\n",
              "4        4          0"
            ]
          },
          "metadata": {
            "tags": []
          },
          "execution_count": 30
        }
      ]
    },
    {
      "cell_type": "code",
      "metadata": {
        "id": "UnIdTL6lO5JG",
        "colab_type": "code",
        "colab": {}
      },
      "source": [
        "# cleaning cats"
      ],
      "execution_count": 0,
      "outputs": []
    },
    {
      "cell_type": "code",
      "metadata": {
        "id": "GLA4s-V4O5JN",
        "colab_type": "code",
        "colab": {}
      },
      "source": [
        "cats['split'] = cats['item_category_name'].str.split('-')"
      ],
      "execution_count": 0,
      "outputs": []
    },
    {
      "cell_type": "code",
      "metadata": {
        "id": "TEqo4UC4O5JT",
        "colab_type": "code",
        "colab": {}
      },
      "source": [
        "cats['type'] = cats['split'].map(lambda x: x[0].strip())"
      ],
      "execution_count": 0,
      "outputs": []
    },
    {
      "cell_type": "code",
      "metadata": {
        "id": "1U0n7N0gO5Ja",
        "colab_type": "code",
        "colab": {}
      },
      "source": [
        "cats['type_code'] = LabelEncoder().fit_transform(cats['type'])"
      ],
      "execution_count": 0,
      "outputs": []
    },
    {
      "cell_type": "code",
      "metadata": {
        "id": "bB-1NVGTO5Jf",
        "colab_type": "code",
        "colab": {}
      },
      "source": [
        "cats['subtype'] = cats['split'].map(lambda x: x[1].strip() if len(x)>1 else x[0].strip())"
      ],
      "execution_count": 0,
      "outputs": []
    },
    {
      "cell_type": "code",
      "metadata": {
        "id": "LYxUCYAUO5Jp",
        "colab_type": "code",
        "colab": {}
      },
      "source": [
        "cats['subtype_code'] = LabelEncoder().fit_transform(cats['subtype'])"
      ],
      "execution_count": 0,
      "outputs": []
    },
    {
      "cell_type": "code",
      "metadata": {
        "id": "UZ73PDYFO5Jt",
        "colab_type": "code",
        "colab": {}
      },
      "source": [
        "cats = cats[['item_category_id', 'type_code', 'subtype_code']]"
      ],
      "execution_count": 0,
      "outputs": []
    },
    {
      "cell_type": "code",
      "metadata": {
        "id": "0G4KCDoRO5J0",
        "colab_type": "code",
        "colab": {},
        "outputId": "d32cb9b0-881f-47a5-e10e-d45829a625cd"
      },
      "source": [
        "cats.head()"
      ],
      "execution_count": 0,
      "outputs": [
        {
          "output_type": "execute_result",
          "data": {
            "text/html": [
              "<div>\n",
              "<style scoped>\n",
              "    .dataframe tbody tr th:only-of-type {\n",
              "        vertical-align: middle;\n",
              "    }\n",
              "\n",
              "    .dataframe tbody tr th {\n",
              "        vertical-align: top;\n",
              "    }\n",
              "\n",
              "    .dataframe thead th {\n",
              "        text-align: right;\n",
              "    }\n",
              "</style>\n",
              "<table border=\"1\" class=\"dataframe\">\n",
              "  <thead>\n",
              "    <tr style=\"text-align: right;\">\n",
              "      <th></th>\n",
              "      <th>item_category_id</th>\n",
              "      <th>type_code</th>\n",
              "      <th>subtype_code</th>\n",
              "    </tr>\n",
              "  </thead>\n",
              "  <tbody>\n",
              "    <tr>\n",
              "      <th>0</th>\n",
              "      <td>0</td>\n",
              "      <td>0</td>\n",
              "      <td>29</td>\n",
              "    </tr>\n",
              "    <tr>\n",
              "      <th>1</th>\n",
              "      <td>1</td>\n",
              "      <td>1</td>\n",
              "      <td>9</td>\n",
              "    </tr>\n",
              "    <tr>\n",
              "      <th>2</th>\n",
              "      <td>2</td>\n",
              "      <td>1</td>\n",
              "      <td>10</td>\n",
              "    </tr>\n",
              "    <tr>\n",
              "      <th>3</th>\n",
              "      <td>3</td>\n",
              "      <td>1</td>\n",
              "      <td>11</td>\n",
              "    </tr>\n",
              "    <tr>\n",
              "      <th>4</th>\n",
              "      <td>4</td>\n",
              "      <td>1</td>\n",
              "      <td>13</td>\n",
              "    </tr>\n",
              "  </tbody>\n",
              "</table>\n",
              "</div>"
            ],
            "text/plain": [
              "   item_category_id  type_code  subtype_code\n",
              "0                 0          0            29\n",
              "1                 1          1             9\n",
              "2                 2          1            10\n",
              "3                 3          1            11\n",
              "4                 4          1            13"
            ]
          },
          "metadata": {
            "tags": []
          },
          "execution_count": 38
        }
      ]
    },
    {
      "cell_type": "code",
      "metadata": {
        "id": "__Gt589ZO5J5",
        "colab_type": "code",
        "colab": {}
      },
      "source": [
        "# cleaning items"
      ],
      "execution_count": 0,
      "outputs": []
    },
    {
      "cell_type": "code",
      "metadata": {
        "id": "eUIYMVbtO5J-",
        "colab_type": "code",
        "colab": {}
      },
      "source": [
        "items.drop(['item_name'], axis=1, inplace=True)"
      ],
      "execution_count": 0,
      "outputs": []
    },
    {
      "cell_type": "code",
      "metadata": {
        "id": "du3DapwDO5KE",
        "colab_type": "code",
        "colab": {},
        "outputId": "9c104d54-6fa3-4323-f81e-acfc1521f360"
      },
      "source": [
        "items.head()"
      ],
      "execution_count": 0,
      "outputs": [
        {
          "output_type": "execute_result",
          "data": {
            "text/html": [
              "<div>\n",
              "<style scoped>\n",
              "    .dataframe tbody tr th:only-of-type {\n",
              "        vertical-align: middle;\n",
              "    }\n",
              "\n",
              "    .dataframe tbody tr th {\n",
              "        vertical-align: top;\n",
              "    }\n",
              "\n",
              "    .dataframe thead th {\n",
              "        text-align: right;\n",
              "    }\n",
              "</style>\n",
              "<table border=\"1\" class=\"dataframe\">\n",
              "  <thead>\n",
              "    <tr style=\"text-align: right;\">\n",
              "      <th></th>\n",
              "      <th>item_id</th>\n",
              "      <th>item_category_id</th>\n",
              "    </tr>\n",
              "  </thead>\n",
              "  <tbody>\n",
              "    <tr>\n",
              "      <th>0</th>\n",
              "      <td>0</td>\n",
              "      <td>40</td>\n",
              "    </tr>\n",
              "    <tr>\n",
              "      <th>1</th>\n",
              "      <td>1</td>\n",
              "      <td>76</td>\n",
              "    </tr>\n",
              "    <tr>\n",
              "      <th>2</th>\n",
              "      <td>2</td>\n",
              "      <td>40</td>\n",
              "    </tr>\n",
              "    <tr>\n",
              "      <th>3</th>\n",
              "      <td>3</td>\n",
              "      <td>40</td>\n",
              "    </tr>\n",
              "    <tr>\n",
              "      <th>4</th>\n",
              "      <td>4</td>\n",
              "      <td>40</td>\n",
              "    </tr>\n",
              "  </tbody>\n",
              "</table>\n",
              "</div>"
            ],
            "text/plain": [
              "   item_id  item_category_id\n",
              "0        0                40\n",
              "1        1                76\n",
              "2        2                40\n",
              "3        3                40\n",
              "4        4                40"
            ]
          },
          "metadata": {
            "tags": []
          },
          "execution_count": 41
        }
      ]
    },
    {
      "cell_type": "code",
      "metadata": {
        "id": "j56qTtFEO5KM",
        "colab_type": "code",
        "colab": {},
        "outputId": "4512d8af-2db5-4e30-878c-3b84421f5eac"
      },
      "source": [
        "len(list(set(test.item_id) - set(test.item_id).intersection(set(train.item_id)))), len(list(set(test.item_id))), len(test)"
      ],
      "execution_count": 0,
      "outputs": [
        {
          "output_type": "execute_result",
          "data": {
            "text/plain": [
              "(363, 5100, 214200)"
            ]
          },
          "metadata": {
            "tags": []
          },
          "execution_count": 42
        }
      ]
    },
    {
      "cell_type": "code",
      "metadata": {
        "id": "_5Ow4UimO5KT",
        "colab_type": "code",
        "colab": {}
      },
      "source": [
        "ts = time.time()\n",
        "matrix = []\n",
        "cols = ['date_block_num', 'shop_id', 'item_id']"
      ],
      "execution_count": 0,
      "outputs": []
    },
    {
      "cell_type": "code",
      "metadata": {
        "id": "6B33jNA0O5KY",
        "colab_type": "code",
        "colab": {},
        "outputId": "97e6fe0d-d23d-45c7-c738-35b878f24af1"
      },
      "source": [
        "ts"
      ],
      "execution_count": 0,
      "outputs": [
        {
          "output_type": "execute_result",
          "data": {
            "text/plain": [
              "1582158897.1219485"
            ]
          },
          "metadata": {
            "tags": []
          },
          "execution_count": 44
        }
      ]
    },
    {
      "cell_type": "code",
      "metadata": {
        "id": "9O_3QgfSO5Kd",
        "colab_type": "code",
        "colab": {}
      },
      "source": [
        "for i in range(34):\n",
        "    sales = train[train.date_block_num==i]\n",
        "    matrix.append(np.array(list(product([i], sales.shop_id.unique(), sales.item_id.unique())), dtype='int16'))"
      ],
      "execution_count": 0,
      "outputs": []
    },
    {
      "cell_type": "code",
      "metadata": {
        "id": "TU9-SmaaO5Ki",
        "colab_type": "code",
        "colab": {},
        "outputId": "9818dd34-a5c9-4022-d2d5-8087903dd0b9"
      },
      "source": [
        "matrix = pd.DataFrame(np.vstack(matrix), columns=cols)\n",
        "matrix['date_block_num'] = matrix['date_block_num'].astype(np.int8)\n",
        "matrix['shop_id'] = matrix['shop_id'].astype(np.int8)\n",
        "matrix['item_id'] = matrix['item_id'].astype(np.int16)\n",
        "matrix.sort_values(cols, inplace=True)\n",
        "time.time() - ts"
      ],
      "execution_count": 0,
      "outputs": [
        {
          "output_type": "execute_result",
          "data": {
            "text/plain": [
              "13.581314325332642"
            ]
          },
          "metadata": {
            "tags": []
          },
          "execution_count": 46
        }
      ]
    },
    {
      "cell_type": "code",
      "metadata": {
        "id": "HW8vVHCpO5Ks",
        "colab_type": "code",
        "colab": {},
        "outputId": "5df8d888-7731-440d-8cb1-b5e52ff6d12a"
      },
      "source": [
        "matrix.head()"
      ],
      "execution_count": 0,
      "outputs": [
        {
          "output_type": "execute_result",
          "data": {
            "text/html": [
              "<div>\n",
              "<style scoped>\n",
              "    .dataframe tbody tr th:only-of-type {\n",
              "        vertical-align: middle;\n",
              "    }\n",
              "\n",
              "    .dataframe tbody tr th {\n",
              "        vertical-align: top;\n",
              "    }\n",
              "\n",
              "    .dataframe thead th {\n",
              "        text-align: right;\n",
              "    }\n",
              "</style>\n",
              "<table border=\"1\" class=\"dataframe\">\n",
              "  <thead>\n",
              "    <tr style=\"text-align: right;\">\n",
              "      <th></th>\n",
              "      <th>date_block_num</th>\n",
              "      <th>shop_id</th>\n",
              "      <th>item_id</th>\n",
              "    </tr>\n",
              "  </thead>\n",
              "  <tbody>\n",
              "    <tr>\n",
              "      <th>139255</th>\n",
              "      <td>0</td>\n",
              "      <td>0</td>\n",
              "      <td>19</td>\n",
              "    </tr>\n",
              "    <tr>\n",
              "      <th>141495</th>\n",
              "      <td>0</td>\n",
              "      <td>0</td>\n",
              "      <td>27</td>\n",
              "    </tr>\n",
              "    <tr>\n",
              "      <th>144968</th>\n",
              "      <td>0</td>\n",
              "      <td>0</td>\n",
              "      <td>28</td>\n",
              "    </tr>\n",
              "    <tr>\n",
              "      <th>142661</th>\n",
              "      <td>0</td>\n",
              "      <td>0</td>\n",
              "      <td>29</td>\n",
              "    </tr>\n",
              "    <tr>\n",
              "      <th>138947</th>\n",
              "      <td>0</td>\n",
              "      <td>0</td>\n",
              "      <td>32</td>\n",
              "    </tr>\n",
              "  </tbody>\n",
              "</table>\n",
              "</div>"
            ],
            "text/plain": [
              "        date_block_num  shop_id  item_id\n",
              "139255               0        0       19\n",
              "141495               0        0       27\n",
              "144968               0        0       28\n",
              "142661               0        0       29\n",
              "138947               0        0       32"
            ]
          },
          "metadata": {
            "tags": []
          },
          "execution_count": 47
        }
      ]
    },
    {
      "cell_type": "code",
      "metadata": {
        "id": "V1Mn_OhFO5Kw",
        "colab_type": "code",
        "colab": {}
      },
      "source": [
        "train['revenue'] = train['item_price'] * train['item_cnt_day']"
      ],
      "execution_count": 0,
      "outputs": []
    },
    {
      "cell_type": "code",
      "metadata": {
        "id": "QR5SJyhbO5K0",
        "colab_type": "code",
        "colab": {}
      },
      "source": [
        "ts = time.time()\n",
        "group = train.groupby(['date_block_num', 'shop_id', 'item_id']).agg({'item_cnt_day':['sum']})\n",
        "group.columns = ['item_cnt_month']\n",
        "group.reset_index(inplace=True)"
      ],
      "execution_count": 0,
      "outputs": []
    },
    {
      "cell_type": "code",
      "metadata": {
        "id": "vEla0MJTO5K4",
        "colab_type": "code",
        "colab": {},
        "outputId": "7e887d94-a57d-4d85-ebd5-0f366e2c631a"
      },
      "source": [
        "group.head()"
      ],
      "execution_count": 0,
      "outputs": [
        {
          "output_type": "execute_result",
          "data": {
            "text/html": [
              "<div>\n",
              "<style scoped>\n",
              "    .dataframe tbody tr th:only-of-type {\n",
              "        vertical-align: middle;\n",
              "    }\n",
              "\n",
              "    .dataframe tbody tr th {\n",
              "        vertical-align: top;\n",
              "    }\n",
              "\n",
              "    .dataframe thead th {\n",
              "        text-align: right;\n",
              "    }\n",
              "</style>\n",
              "<table border=\"1\" class=\"dataframe\">\n",
              "  <thead>\n",
              "    <tr style=\"text-align: right;\">\n",
              "      <th></th>\n",
              "      <th>date_block_num</th>\n",
              "      <th>shop_id</th>\n",
              "      <th>item_id</th>\n",
              "      <th>item_cnt_month</th>\n",
              "    </tr>\n",
              "  </thead>\n",
              "  <tbody>\n",
              "    <tr>\n",
              "      <th>0</th>\n",
              "      <td>0</td>\n",
              "      <td>0</td>\n",
              "      <td>32</td>\n",
              "      <td>6.0</td>\n",
              "    </tr>\n",
              "    <tr>\n",
              "      <th>1</th>\n",
              "      <td>0</td>\n",
              "      <td>0</td>\n",
              "      <td>33</td>\n",
              "      <td>3.0</td>\n",
              "    </tr>\n",
              "    <tr>\n",
              "      <th>2</th>\n",
              "      <td>0</td>\n",
              "      <td>0</td>\n",
              "      <td>35</td>\n",
              "      <td>1.0</td>\n",
              "    </tr>\n",
              "    <tr>\n",
              "      <th>3</th>\n",
              "      <td>0</td>\n",
              "      <td>0</td>\n",
              "      <td>43</td>\n",
              "      <td>1.0</td>\n",
              "    </tr>\n",
              "    <tr>\n",
              "      <th>4</th>\n",
              "      <td>0</td>\n",
              "      <td>0</td>\n",
              "      <td>51</td>\n",
              "      <td>2.0</td>\n",
              "    </tr>\n",
              "  </tbody>\n",
              "</table>\n",
              "</div>"
            ],
            "text/plain": [
              "   date_block_num  shop_id  item_id  item_cnt_month\n",
              "0               0        0       32             6.0\n",
              "1               0        0       33             3.0\n",
              "2               0        0       35             1.0\n",
              "3               0        0       43             1.0\n",
              "4               0        0       51             2.0"
            ]
          },
          "metadata": {
            "tags": []
          },
          "execution_count": 50
        }
      ]
    },
    {
      "cell_type": "code",
      "metadata": {
        "id": "I-Kf-0yGO5K8",
        "colab_type": "code",
        "colab": {}
      },
      "source": [
        "matrix = pd.merge(matrix, group, on=cols, how='left')\n",
        "matrix['item_cnt_month'] = (matrix['item_cnt_month'].fillna(0).clip(0,20).astype(np.float16))"
      ],
      "execution_count": 0,
      "outputs": []
    },
    {
      "cell_type": "code",
      "metadata": {
        "id": "gxuvmUQ3O5LA",
        "colab_type": "code",
        "colab": {},
        "outputId": "d3abb435-df18-44a0-c380-c7b9f30a7f12"
      },
      "source": [
        "matrix.head()"
      ],
      "execution_count": 0,
      "outputs": [
        {
          "output_type": "execute_result",
          "data": {
            "text/html": [
              "<div>\n",
              "<style scoped>\n",
              "    .dataframe tbody tr th:only-of-type {\n",
              "        vertical-align: middle;\n",
              "    }\n",
              "\n",
              "    .dataframe tbody tr th {\n",
              "        vertical-align: top;\n",
              "    }\n",
              "\n",
              "    .dataframe thead th {\n",
              "        text-align: right;\n",
              "    }\n",
              "</style>\n",
              "<table border=\"1\" class=\"dataframe\">\n",
              "  <thead>\n",
              "    <tr style=\"text-align: right;\">\n",
              "      <th></th>\n",
              "      <th>date_block_num</th>\n",
              "      <th>shop_id</th>\n",
              "      <th>item_id</th>\n",
              "      <th>item_cnt_month</th>\n",
              "    </tr>\n",
              "  </thead>\n",
              "  <tbody>\n",
              "    <tr>\n",
              "      <th>0</th>\n",
              "      <td>0</td>\n",
              "      <td>0</td>\n",
              "      <td>19</td>\n",
              "      <td>0.0</td>\n",
              "    </tr>\n",
              "    <tr>\n",
              "      <th>1</th>\n",
              "      <td>0</td>\n",
              "      <td>0</td>\n",
              "      <td>27</td>\n",
              "      <td>0.0</td>\n",
              "    </tr>\n",
              "    <tr>\n",
              "      <th>2</th>\n",
              "      <td>0</td>\n",
              "      <td>0</td>\n",
              "      <td>28</td>\n",
              "      <td>0.0</td>\n",
              "    </tr>\n",
              "    <tr>\n",
              "      <th>3</th>\n",
              "      <td>0</td>\n",
              "      <td>0</td>\n",
              "      <td>29</td>\n",
              "      <td>0.0</td>\n",
              "    </tr>\n",
              "    <tr>\n",
              "      <th>4</th>\n",
              "      <td>0</td>\n",
              "      <td>0</td>\n",
              "      <td>32</td>\n",
              "      <td>6.0</td>\n",
              "    </tr>\n",
              "  </tbody>\n",
              "</table>\n",
              "</div>"
            ],
            "text/plain": [
              "   date_block_num  shop_id  item_id  item_cnt_month\n",
              "0               0        0       19             0.0\n",
              "1               0        0       27             0.0\n",
              "2               0        0       28             0.0\n",
              "3               0        0       29             0.0\n",
              "4               0        0       32             6.0"
            ]
          },
          "metadata": {
            "tags": []
          },
          "execution_count": 52
        }
      ]
    },
    {
      "cell_type": "code",
      "metadata": {
        "id": "rtQf92m4O5LF",
        "colab_type": "code",
        "colab": {},
        "outputId": "ddbca82a-64e9-4af2-b931-d05737c57d4f"
      },
      "source": [
        "time.time() - ts"
      ],
      "execution_count": 0,
      "outputs": [
        {
          "output_type": "execute_result",
          "data": {
            "text/plain": [
              "6.981455087661743"
            ]
          },
          "metadata": {
            "tags": []
          },
          "execution_count": 53
        }
      ]
    },
    {
      "cell_type": "code",
      "metadata": {
        "id": "BQZYjPtoO5LK",
        "colab_type": "code",
        "colab": {}
      },
      "source": [
        "# test set"
      ],
      "execution_count": 0,
      "outputs": []
    },
    {
      "cell_type": "code",
      "metadata": {
        "id": "jORlFw3bO5LN",
        "colab_type": "code",
        "colab": {}
      },
      "source": [
        "test['date_block_num'] = 34\n",
        "test['date_block_num'] = test['date_block_num'].astype(np.int8)\n",
        "test['shop_id'] = test['shop_id'].astype(np.int8)\n",
        "test['item_id'] = test['item_id'].astype(np.int16)"
      ],
      "execution_count": 0,
      "outputs": []
    },
    {
      "cell_type": "code",
      "metadata": {
        "id": "yrx9kVnaO5LR",
        "colab_type": "code",
        "colab": {},
        "outputId": "4601fe61-ae9f-4ffb-f0c0-80984da07920"
      },
      "source": [
        "test.head()"
      ],
      "execution_count": 0,
      "outputs": [
        {
          "output_type": "execute_result",
          "data": {
            "text/html": [
              "<div>\n",
              "<style scoped>\n",
              "    .dataframe tbody tr th:only-of-type {\n",
              "        vertical-align: middle;\n",
              "    }\n",
              "\n",
              "    .dataframe tbody tr th {\n",
              "        vertical-align: top;\n",
              "    }\n",
              "\n",
              "    .dataframe thead th {\n",
              "        text-align: right;\n",
              "    }\n",
              "</style>\n",
              "<table border=\"1\" class=\"dataframe\">\n",
              "  <thead>\n",
              "    <tr style=\"text-align: right;\">\n",
              "      <th></th>\n",
              "      <th>shop_id</th>\n",
              "      <th>item_id</th>\n",
              "      <th>date_block_num</th>\n",
              "    </tr>\n",
              "    <tr>\n",
              "      <th>ID</th>\n",
              "      <th></th>\n",
              "      <th></th>\n",
              "      <th></th>\n",
              "    </tr>\n",
              "  </thead>\n",
              "  <tbody>\n",
              "    <tr>\n",
              "      <th>0</th>\n",
              "      <td>5</td>\n",
              "      <td>5037</td>\n",
              "      <td>34</td>\n",
              "    </tr>\n",
              "    <tr>\n",
              "      <th>1</th>\n",
              "      <td>5</td>\n",
              "      <td>5320</td>\n",
              "      <td>34</td>\n",
              "    </tr>\n",
              "    <tr>\n",
              "      <th>2</th>\n",
              "      <td>5</td>\n",
              "      <td>5233</td>\n",
              "      <td>34</td>\n",
              "    </tr>\n",
              "    <tr>\n",
              "      <th>3</th>\n",
              "      <td>5</td>\n",
              "      <td>5232</td>\n",
              "      <td>34</td>\n",
              "    </tr>\n",
              "    <tr>\n",
              "      <th>4</th>\n",
              "      <td>5</td>\n",
              "      <td>5268</td>\n",
              "      <td>34</td>\n",
              "    </tr>\n",
              "  </tbody>\n",
              "</table>\n",
              "</div>"
            ],
            "text/plain": [
              "    shop_id  item_id  date_block_num\n",
              "ID                                  \n",
              "0         5     5037              34\n",
              "1         5     5320              34\n",
              "2         5     5233              34\n",
              "3         5     5232              34\n",
              "4         5     5268              34"
            ]
          },
          "metadata": {
            "tags": []
          },
          "execution_count": 56
        }
      ]
    },
    {
      "cell_type": "code",
      "metadata": {
        "id": "WS3z5SJUO5LU",
        "colab_type": "code",
        "colab": {}
      },
      "source": [
        "ts = time.time()\n",
        "matrix = pd.concat([matrix, test], ignore_index=True, sort=False, keys=cols)\n",
        "matrix.fillna(0, inplace=True)"
      ],
      "execution_count": 0,
      "outputs": []
    },
    {
      "cell_type": "code",
      "metadata": {
        "id": "2UIVn5sQO5LX",
        "colab_type": "code",
        "colab": {},
        "outputId": "40acf296-a292-4824-c059-f6881938e245"
      },
      "source": [
        "matrix"
      ],
      "execution_count": 0,
      "outputs": [
        {
          "output_type": "execute_result",
          "data": {
            "text/html": [
              "<div>\n",
              "<style scoped>\n",
              "    .dataframe tbody tr th:only-of-type {\n",
              "        vertical-align: middle;\n",
              "    }\n",
              "\n",
              "    .dataframe tbody tr th {\n",
              "        vertical-align: top;\n",
              "    }\n",
              "\n",
              "    .dataframe thead th {\n",
              "        text-align: right;\n",
              "    }\n",
              "</style>\n",
              "<table border=\"1\" class=\"dataframe\">\n",
              "  <thead>\n",
              "    <tr style=\"text-align: right;\">\n",
              "      <th></th>\n",
              "      <th>date_block_num</th>\n",
              "      <th>shop_id</th>\n",
              "      <th>item_id</th>\n",
              "      <th>item_cnt_month</th>\n",
              "    </tr>\n",
              "  </thead>\n",
              "  <tbody>\n",
              "    <tr>\n",
              "      <th>0</th>\n",
              "      <td>0</td>\n",
              "      <td>0</td>\n",
              "      <td>19</td>\n",
              "      <td>0.0</td>\n",
              "    </tr>\n",
              "    <tr>\n",
              "      <th>1</th>\n",
              "      <td>0</td>\n",
              "      <td>0</td>\n",
              "      <td>27</td>\n",
              "      <td>0.0</td>\n",
              "    </tr>\n",
              "    <tr>\n",
              "      <th>2</th>\n",
              "      <td>0</td>\n",
              "      <td>0</td>\n",
              "      <td>28</td>\n",
              "      <td>0.0</td>\n",
              "    </tr>\n",
              "    <tr>\n",
              "      <th>3</th>\n",
              "      <td>0</td>\n",
              "      <td>0</td>\n",
              "      <td>29</td>\n",
              "      <td>0.0</td>\n",
              "    </tr>\n",
              "    <tr>\n",
              "      <th>4</th>\n",
              "      <td>0</td>\n",
              "      <td>0</td>\n",
              "      <td>32</td>\n",
              "      <td>6.0</td>\n",
              "    </tr>\n",
              "    <tr>\n",
              "      <th>...</th>\n",
              "      <td>...</td>\n",
              "      <td>...</td>\n",
              "      <td>...</td>\n",
              "      <td>...</td>\n",
              "    </tr>\n",
              "    <tr>\n",
              "      <th>11127999</th>\n",
              "      <td>34</td>\n",
              "      <td>45</td>\n",
              "      <td>18454</td>\n",
              "      <td>0.0</td>\n",
              "    </tr>\n",
              "    <tr>\n",
              "      <th>11128000</th>\n",
              "      <td>34</td>\n",
              "      <td>45</td>\n",
              "      <td>16188</td>\n",
              "      <td>0.0</td>\n",
              "    </tr>\n",
              "    <tr>\n",
              "      <th>11128001</th>\n",
              "      <td>34</td>\n",
              "      <td>45</td>\n",
              "      <td>15757</td>\n",
              "      <td>0.0</td>\n",
              "    </tr>\n",
              "    <tr>\n",
              "      <th>11128002</th>\n",
              "      <td>34</td>\n",
              "      <td>45</td>\n",
              "      <td>19648</td>\n",
              "      <td>0.0</td>\n",
              "    </tr>\n",
              "    <tr>\n",
              "      <th>11128003</th>\n",
              "      <td>34</td>\n",
              "      <td>45</td>\n",
              "      <td>969</td>\n",
              "      <td>0.0</td>\n",
              "    </tr>\n",
              "  </tbody>\n",
              "</table>\n",
              "<p>11128004 rows × 4 columns</p>\n",
              "</div>"
            ],
            "text/plain": [
              "          date_block_num  shop_id  item_id  item_cnt_month\n",
              "0                      0        0       19             0.0\n",
              "1                      0        0       27             0.0\n",
              "2                      0        0       28             0.0\n",
              "3                      0        0       29             0.0\n",
              "4                      0        0       32             6.0\n",
              "...                  ...      ...      ...             ...\n",
              "11127999              34       45    18454             0.0\n",
              "11128000              34       45    16188             0.0\n",
              "11128001              34       45    15757             0.0\n",
              "11128002              34       45    19648             0.0\n",
              "11128003              34       45      969             0.0\n",
              "\n",
              "[11128004 rows x 4 columns]"
            ]
          },
          "metadata": {
            "tags": []
          },
          "execution_count": 58
        }
      ]
    },
    {
      "cell_type": "code",
      "metadata": {
        "id": "2WgtgV7CO5La",
        "colab_type": "code",
        "colab": {},
        "outputId": "9c611b35-77fe-4e73-b54e-d8a856cdb311"
      },
      "source": [
        "time.time() - ts"
      ],
      "execution_count": 0,
      "outputs": [
        {
          "output_type": "execute_result",
          "data": {
            "text/plain": [
              "1.0059211254119873"
            ]
          },
          "metadata": {
            "tags": []
          },
          "execution_count": 59
        }
      ]
    },
    {
      "cell_type": "code",
      "metadata": {
        "id": "NGqLPvbYO5Le",
        "colab_type": "code",
        "colab": {}
      },
      "source": [
        "# shops, items, cats features"
      ],
      "execution_count": 0,
      "outputs": []
    },
    {
      "cell_type": "code",
      "metadata": {
        "id": "nh9aaJoWO5Lm",
        "colab_type": "code",
        "colab": {}
      },
      "source": [
        "ts = time.time()\n",
        "matrix = pd.merge(matrix, shops, on=['shop_id'], how='left')\n",
        "matrix = pd.merge(matrix, items, on=['item_id'], how='left')\n",
        "matrix = pd.merge(matrix, cats, on=['item_category_id'], how='left')\n",
        "matrix['city_code'] = matrix['city_code'].astype(np.int8)\n",
        "matrix['item_category_id'] = matrix['item_category_id'].astype(np.int8)\n",
        "matrix['type_code'] = matrix['type_code'].astype(np.int8)\n",
        "matrix['subtype_code'] = matrix['subtype_code'].astype(np.int8)"
      ],
      "execution_count": 0,
      "outputs": []
    },
    {
      "cell_type": "code",
      "metadata": {
        "id": "5RjHWElYO5Lt",
        "colab_type": "code",
        "colab": {},
        "outputId": "86e3b7cd-2939-42d7-e447-baa3718af5ef"
      },
      "source": [
        "matrix"
      ],
      "execution_count": 0,
      "outputs": [
        {
          "output_type": "execute_result",
          "data": {
            "text/html": [
              "<div>\n",
              "<style scoped>\n",
              "    .dataframe tbody tr th:only-of-type {\n",
              "        vertical-align: middle;\n",
              "    }\n",
              "\n",
              "    .dataframe tbody tr th {\n",
              "        vertical-align: top;\n",
              "    }\n",
              "\n",
              "    .dataframe thead th {\n",
              "        text-align: right;\n",
              "    }\n",
              "</style>\n",
              "<table border=\"1\" class=\"dataframe\">\n",
              "  <thead>\n",
              "    <tr style=\"text-align: right;\">\n",
              "      <th></th>\n",
              "      <th>date_block_num</th>\n",
              "      <th>shop_id</th>\n",
              "      <th>item_id</th>\n",
              "      <th>item_cnt_month</th>\n",
              "      <th>city_code</th>\n",
              "      <th>item_category_id</th>\n",
              "      <th>type_code</th>\n",
              "      <th>subtype_code</th>\n",
              "    </tr>\n",
              "  </thead>\n",
              "  <tbody>\n",
              "    <tr>\n",
              "      <th>0</th>\n",
              "      <td>0</td>\n",
              "      <td>0</td>\n",
              "      <td>19</td>\n",
              "      <td>0.0</td>\n",
              "      <td>0</td>\n",
              "      <td>40</td>\n",
              "      <td>11</td>\n",
              "      <td>4</td>\n",
              "    </tr>\n",
              "    <tr>\n",
              "      <th>1</th>\n",
              "      <td>0</td>\n",
              "      <td>0</td>\n",
              "      <td>27</td>\n",
              "      <td>0.0</td>\n",
              "      <td>0</td>\n",
              "      <td>19</td>\n",
              "      <td>5</td>\n",
              "      <td>10</td>\n",
              "    </tr>\n",
              "    <tr>\n",
              "      <th>2</th>\n",
              "      <td>0</td>\n",
              "      <td>0</td>\n",
              "      <td>28</td>\n",
              "      <td>0.0</td>\n",
              "      <td>0</td>\n",
              "      <td>30</td>\n",
              "      <td>8</td>\n",
              "      <td>55</td>\n",
              "    </tr>\n",
              "    <tr>\n",
              "      <th>3</th>\n",
              "      <td>0</td>\n",
              "      <td>0</td>\n",
              "      <td>29</td>\n",
              "      <td>0.0</td>\n",
              "      <td>0</td>\n",
              "      <td>23</td>\n",
              "      <td>5</td>\n",
              "      <td>16</td>\n",
              "    </tr>\n",
              "    <tr>\n",
              "      <th>4</th>\n",
              "      <td>0</td>\n",
              "      <td>0</td>\n",
              "      <td>32</td>\n",
              "      <td>6.0</td>\n",
              "      <td>0</td>\n",
              "      <td>40</td>\n",
              "      <td>11</td>\n",
              "      <td>4</td>\n",
              "    </tr>\n",
              "    <tr>\n",
              "      <th>...</th>\n",
              "      <td>...</td>\n",
              "      <td>...</td>\n",
              "      <td>...</td>\n",
              "      <td>...</td>\n",
              "      <td>...</td>\n",
              "      <td>...</td>\n",
              "      <td>...</td>\n",
              "      <td>...</td>\n",
              "    </tr>\n",
              "    <tr>\n",
              "      <th>11127999</th>\n",
              "      <td>34</td>\n",
              "      <td>45</td>\n",
              "      <td>18454</td>\n",
              "      <td>0.0</td>\n",
              "      <td>0</td>\n",
              "      <td>55</td>\n",
              "      <td>13</td>\n",
              "      <td>2</td>\n",
              "    </tr>\n",
              "    <tr>\n",
              "      <th>11128000</th>\n",
              "      <td>34</td>\n",
              "      <td>45</td>\n",
              "      <td>16188</td>\n",
              "      <td>0.0</td>\n",
              "      <td>0</td>\n",
              "      <td>64</td>\n",
              "      <td>14</td>\n",
              "      <td>42</td>\n",
              "    </tr>\n",
              "    <tr>\n",
              "      <th>11128001</th>\n",
              "      <td>34</td>\n",
              "      <td>45</td>\n",
              "      <td>15757</td>\n",
              "      <td>0.0</td>\n",
              "      <td>0</td>\n",
              "      <td>55</td>\n",
              "      <td>13</td>\n",
              "      <td>2</td>\n",
              "    </tr>\n",
              "    <tr>\n",
              "      <th>11128002</th>\n",
              "      <td>34</td>\n",
              "      <td>45</td>\n",
              "      <td>19648</td>\n",
              "      <td>0.0</td>\n",
              "      <td>0</td>\n",
              "      <td>40</td>\n",
              "      <td>11</td>\n",
              "      <td>4</td>\n",
              "    </tr>\n",
              "    <tr>\n",
              "      <th>11128003</th>\n",
              "      <td>34</td>\n",
              "      <td>45</td>\n",
              "      <td>969</td>\n",
              "      <td>0.0</td>\n",
              "      <td>0</td>\n",
              "      <td>37</td>\n",
              "      <td>11</td>\n",
              "      <td>1</td>\n",
              "    </tr>\n",
              "  </tbody>\n",
              "</table>\n",
              "<p>11128004 rows × 8 columns</p>\n",
              "</div>"
            ],
            "text/plain": [
              "          date_block_num  shop_id  item_id  item_cnt_month  city_code  \\\n",
              "0                      0        0       19             0.0          0   \n",
              "1                      0        0       27             0.0          0   \n",
              "2                      0        0       28             0.0          0   \n",
              "3                      0        0       29             0.0          0   \n",
              "4                      0        0       32             6.0          0   \n",
              "...                  ...      ...      ...             ...        ...   \n",
              "11127999              34       45    18454             0.0          0   \n",
              "11128000              34       45    16188             0.0          0   \n",
              "11128001              34       45    15757             0.0          0   \n",
              "11128002              34       45    19648             0.0          0   \n",
              "11128003              34       45      969             0.0          0   \n",
              "\n",
              "          item_category_id  type_code  subtype_code  \n",
              "0                       40         11             4  \n",
              "1                       19          5            10  \n",
              "2                       30          8            55  \n",
              "3                       23          5            16  \n",
              "4                       40         11             4  \n",
              "...                    ...        ...           ...  \n",
              "11127999                55         13             2  \n",
              "11128000                64         14            42  \n",
              "11128001                55         13             2  \n",
              "11128002                40         11             4  \n",
              "11128003                37         11             1  \n",
              "\n",
              "[11128004 rows x 8 columns]"
            ]
          },
          "metadata": {
            "tags": []
          },
          "execution_count": 62
        }
      ]
    },
    {
      "cell_type": "code",
      "metadata": {
        "id": "Lmb6_5k8O5MG",
        "colab_type": "code",
        "colab": {},
        "outputId": "1f511d49-34d0-47d7-d732-cbec1cafbfb0"
      },
      "source": [
        "time.time() - ts"
      ],
      "execution_count": 0,
      "outputs": [
        {
          "output_type": "execute_result",
          "data": {
            "text/plain": [
              "7.037731170654297"
            ]
          },
          "metadata": {
            "tags": []
          },
          "execution_count": 63
        }
      ]
    },
    {
      "cell_type": "code",
      "metadata": {
        "id": "qtZbsPosO5MN",
        "colab_type": "code",
        "colab": {}
      },
      "source": [
        "# target lags"
      ],
      "execution_count": 0,
      "outputs": []
    },
    {
      "cell_type": "code",
      "metadata": {
        "id": "my6IOGV4O5MT",
        "colab_type": "code",
        "colab": {}
      },
      "source": [
        "def lag_feature(df, lags, col):\n",
        "    tmp = df[['date_block_num', 'shop_id', 'item_id', col]]\n",
        "    for i in lags:\n",
        "        shifted = tmp.copy()\n",
        "        shifted.columns = ['date_block_num', 'shop_id', 'item_id', col+'_lag_'+str(i)]\n",
        "        shifted['date_block_num'] += 1\n",
        "        df = pd.merge(df, shifted, on=['date_block_num', 'shop_id', 'item_id'], how='left')\n",
        "    return df"
      ],
      "execution_count": 0,
      "outputs": []
    },
    {
      "cell_type": "code",
      "metadata": {
        "id": "3W0HGWaWO5MW",
        "colab_type": "code",
        "colab": {}
      },
      "source": [
        "ts = time.time()\n",
        "matrix = lag_feature(matrix, [1,2,3,6,12], 'item_cnt_month')"
      ],
      "execution_count": 0,
      "outputs": []
    },
    {
      "cell_type": "code",
      "metadata": {
        "id": "ZY-x43COO5MZ",
        "colab_type": "code",
        "colab": {},
        "outputId": "22822882-9b32-4897-b10e-0190f74d1c03"
      },
      "source": [
        "matrix"
      ],
      "execution_count": 0,
      "outputs": [
        {
          "output_type": "execute_result",
          "data": {
            "text/html": [
              "<div>\n",
              "<style scoped>\n",
              "    .dataframe tbody tr th:only-of-type {\n",
              "        vertical-align: middle;\n",
              "    }\n",
              "\n",
              "    .dataframe tbody tr th {\n",
              "        vertical-align: top;\n",
              "    }\n",
              "\n",
              "    .dataframe thead th {\n",
              "        text-align: right;\n",
              "    }\n",
              "</style>\n",
              "<table border=\"1\" class=\"dataframe\">\n",
              "  <thead>\n",
              "    <tr style=\"text-align: right;\">\n",
              "      <th></th>\n",
              "      <th>date_block_num</th>\n",
              "      <th>shop_id</th>\n",
              "      <th>item_id</th>\n",
              "      <th>item_cnt_month</th>\n",
              "      <th>city_code</th>\n",
              "      <th>item_category_id</th>\n",
              "      <th>type_code</th>\n",
              "      <th>subtype_code</th>\n",
              "      <th>item_cnt_month_lag_1</th>\n",
              "      <th>item_cnt_month_lag_2</th>\n",
              "      <th>item_cnt_month_lag_3</th>\n",
              "      <th>item_cnt_month_lag_6</th>\n",
              "      <th>item_cnt_month_lag_12</th>\n",
              "    </tr>\n",
              "  </thead>\n",
              "  <tbody>\n",
              "    <tr>\n",
              "      <th>0</th>\n",
              "      <td>0</td>\n",
              "      <td>0</td>\n",
              "      <td>19</td>\n",
              "      <td>0.0</td>\n",
              "      <td>0</td>\n",
              "      <td>40</td>\n",
              "      <td>11</td>\n",
              "      <td>4</td>\n",
              "      <td>NaN</td>\n",
              "      <td>NaN</td>\n",
              "      <td>NaN</td>\n",
              "      <td>NaN</td>\n",
              "      <td>NaN</td>\n",
              "    </tr>\n",
              "    <tr>\n",
              "      <th>1</th>\n",
              "      <td>0</td>\n",
              "      <td>0</td>\n",
              "      <td>27</td>\n",
              "      <td>0.0</td>\n",
              "      <td>0</td>\n",
              "      <td>19</td>\n",
              "      <td>5</td>\n",
              "      <td>10</td>\n",
              "      <td>NaN</td>\n",
              "      <td>NaN</td>\n",
              "      <td>NaN</td>\n",
              "      <td>NaN</td>\n",
              "      <td>NaN</td>\n",
              "    </tr>\n",
              "    <tr>\n",
              "      <th>2</th>\n",
              "      <td>0</td>\n",
              "      <td>0</td>\n",
              "      <td>28</td>\n",
              "      <td>0.0</td>\n",
              "      <td>0</td>\n",
              "      <td>30</td>\n",
              "      <td>8</td>\n",
              "      <td>55</td>\n",
              "      <td>NaN</td>\n",
              "      <td>NaN</td>\n",
              "      <td>NaN</td>\n",
              "      <td>NaN</td>\n",
              "      <td>NaN</td>\n",
              "    </tr>\n",
              "    <tr>\n",
              "      <th>3</th>\n",
              "      <td>0</td>\n",
              "      <td>0</td>\n",
              "      <td>29</td>\n",
              "      <td>0.0</td>\n",
              "      <td>0</td>\n",
              "      <td>23</td>\n",
              "      <td>5</td>\n",
              "      <td>16</td>\n",
              "      <td>NaN</td>\n",
              "      <td>NaN</td>\n",
              "      <td>NaN</td>\n",
              "      <td>NaN</td>\n",
              "      <td>NaN</td>\n",
              "    </tr>\n",
              "    <tr>\n",
              "      <th>4</th>\n",
              "      <td>0</td>\n",
              "      <td>0</td>\n",
              "      <td>32</td>\n",
              "      <td>6.0</td>\n",
              "      <td>0</td>\n",
              "      <td>40</td>\n",
              "      <td>11</td>\n",
              "      <td>4</td>\n",
              "      <td>NaN</td>\n",
              "      <td>NaN</td>\n",
              "      <td>NaN</td>\n",
              "      <td>NaN</td>\n",
              "      <td>NaN</td>\n",
              "    </tr>\n",
              "    <tr>\n",
              "      <th>...</th>\n",
              "      <td>...</td>\n",
              "      <td>...</td>\n",
              "      <td>...</td>\n",
              "      <td>...</td>\n",
              "      <td>...</td>\n",
              "      <td>...</td>\n",
              "      <td>...</td>\n",
              "      <td>...</td>\n",
              "      <td>...</td>\n",
              "      <td>...</td>\n",
              "      <td>...</td>\n",
              "      <td>...</td>\n",
              "      <td>...</td>\n",
              "    </tr>\n",
              "    <tr>\n",
              "      <th>11127999</th>\n",
              "      <td>34</td>\n",
              "      <td>45</td>\n",
              "      <td>18454</td>\n",
              "      <td>0.0</td>\n",
              "      <td>0</td>\n",
              "      <td>55</td>\n",
              "      <td>13</td>\n",
              "      <td>2</td>\n",
              "      <td>1.0</td>\n",
              "      <td>1.0</td>\n",
              "      <td>1.0</td>\n",
              "      <td>1.0</td>\n",
              "      <td>1.0</td>\n",
              "    </tr>\n",
              "    <tr>\n",
              "      <th>11128000</th>\n",
              "      <td>34</td>\n",
              "      <td>45</td>\n",
              "      <td>16188</td>\n",
              "      <td>0.0</td>\n",
              "      <td>0</td>\n",
              "      <td>64</td>\n",
              "      <td>14</td>\n",
              "      <td>42</td>\n",
              "      <td>0.0</td>\n",
              "      <td>0.0</td>\n",
              "      <td>0.0</td>\n",
              "      <td>0.0</td>\n",
              "      <td>0.0</td>\n",
              "    </tr>\n",
              "    <tr>\n",
              "      <th>11128001</th>\n",
              "      <td>34</td>\n",
              "      <td>45</td>\n",
              "      <td>15757</td>\n",
              "      <td>0.0</td>\n",
              "      <td>0</td>\n",
              "      <td>55</td>\n",
              "      <td>13</td>\n",
              "      <td>2</td>\n",
              "      <td>0.0</td>\n",
              "      <td>0.0</td>\n",
              "      <td>0.0</td>\n",
              "      <td>0.0</td>\n",
              "      <td>0.0</td>\n",
              "    </tr>\n",
              "    <tr>\n",
              "      <th>11128002</th>\n",
              "      <td>34</td>\n",
              "      <td>45</td>\n",
              "      <td>19648</td>\n",
              "      <td>0.0</td>\n",
              "      <td>0</td>\n",
              "      <td>40</td>\n",
              "      <td>11</td>\n",
              "      <td>4</td>\n",
              "      <td>0.0</td>\n",
              "      <td>0.0</td>\n",
              "      <td>0.0</td>\n",
              "      <td>0.0</td>\n",
              "      <td>0.0</td>\n",
              "    </tr>\n",
              "    <tr>\n",
              "      <th>11128003</th>\n",
              "      <td>34</td>\n",
              "      <td>45</td>\n",
              "      <td>969</td>\n",
              "      <td>0.0</td>\n",
              "      <td>0</td>\n",
              "      <td>37</td>\n",
              "      <td>11</td>\n",
              "      <td>1</td>\n",
              "      <td>0.0</td>\n",
              "      <td>0.0</td>\n",
              "      <td>0.0</td>\n",
              "      <td>0.0</td>\n",
              "      <td>0.0</td>\n",
              "    </tr>\n",
              "  </tbody>\n",
              "</table>\n",
              "<p>11128004 rows × 13 columns</p>\n",
              "</div>"
            ],
            "text/plain": [
              "          date_block_num  shop_id  item_id  item_cnt_month  city_code  \\\n",
              "0                      0        0       19             0.0          0   \n",
              "1                      0        0       27             0.0          0   \n",
              "2                      0        0       28             0.0          0   \n",
              "3                      0        0       29             0.0          0   \n",
              "4                      0        0       32             6.0          0   \n",
              "...                  ...      ...      ...             ...        ...   \n",
              "11127999              34       45    18454             0.0          0   \n",
              "11128000              34       45    16188             0.0          0   \n",
              "11128001              34       45    15757             0.0          0   \n",
              "11128002              34       45    19648             0.0          0   \n",
              "11128003              34       45      969             0.0          0   \n",
              "\n",
              "          item_category_id  type_code  subtype_code  item_cnt_month_lag_1  \\\n",
              "0                       40         11             4                   NaN   \n",
              "1                       19          5            10                   NaN   \n",
              "2                       30          8            55                   NaN   \n",
              "3                       23          5            16                   NaN   \n",
              "4                       40         11             4                   NaN   \n",
              "...                    ...        ...           ...                   ...   \n",
              "11127999                55         13             2                   1.0   \n",
              "11128000                64         14            42                   0.0   \n",
              "11128001                55         13             2                   0.0   \n",
              "11128002                40         11             4                   0.0   \n",
              "11128003                37         11             1                   0.0   \n",
              "\n",
              "          item_cnt_month_lag_2  item_cnt_month_lag_3  item_cnt_month_lag_6  \\\n",
              "0                          NaN                   NaN                   NaN   \n",
              "1                          NaN                   NaN                   NaN   \n",
              "2                          NaN                   NaN                   NaN   \n",
              "3                          NaN                   NaN                   NaN   \n",
              "4                          NaN                   NaN                   NaN   \n",
              "...                        ...                   ...                   ...   \n",
              "11127999                   1.0                   1.0                   1.0   \n",
              "11128000                   0.0                   0.0                   0.0   \n",
              "11128001                   0.0                   0.0                   0.0   \n",
              "11128002                   0.0                   0.0                   0.0   \n",
              "11128003                   0.0                   0.0                   0.0   \n",
              "\n",
              "          item_cnt_month_lag_12  \n",
              "0                           NaN  \n",
              "1                           NaN  \n",
              "2                           NaN  \n",
              "3                           NaN  \n",
              "4                           NaN  \n",
              "...                         ...  \n",
              "11127999                    1.0  \n",
              "11128000                    0.0  \n",
              "11128001                    0.0  \n",
              "11128002                    0.0  \n",
              "11128003                    0.0  \n",
              "\n",
              "[11128004 rows x 13 columns]"
            ]
          },
          "metadata": {
            "tags": []
          },
          "execution_count": 67
        }
      ]
    },
    {
      "cell_type": "code",
      "metadata": {
        "id": "6HTfeZLYO5Me",
        "colab_type": "code",
        "colab": {},
        "outputId": "4ddcfe94-a9a7-42cd-f14a-eba955c3eea8"
      },
      "source": [
        "time.time() - ts"
      ],
      "execution_count": 0,
      "outputs": [
        {
          "output_type": "execute_result",
          "data": {
            "text/plain": [
              "37.388487577438354"
            ]
          },
          "metadata": {
            "tags": []
          },
          "execution_count": 68
        }
      ]
    },
    {
      "cell_type": "code",
      "metadata": {
        "id": "PVBd2hk_O5Mq",
        "colab_type": "code",
        "colab": {}
      },
      "source": [
        "# mean encoded features"
      ],
      "execution_count": 0,
      "outputs": []
    },
    {
      "cell_type": "code",
      "metadata": {
        "id": "bX-QE0YXO5Mu",
        "colab_type": "code",
        "colab": {}
      },
      "source": [
        "ts = time.time()\n",
        "group = matrix.groupby(['date_block_num']).agg({'item_cnt_month':['mean']})\n",
        "group.columns = ['date_avg_item_cnt']\n",
        "group.reset_index(inplace=True)"
      ],
      "execution_count": 0,
      "outputs": []
    },
    {
      "cell_type": "code",
      "metadata": {
        "id": "Cd9T68doO5Mx",
        "colab_type": "code",
        "colab": {},
        "outputId": "9c1d78d0-1c45-45d0-9538-a11ecc2a4a8b"
      },
      "source": [
        "group.head()"
      ],
      "execution_count": 0,
      "outputs": [
        {
          "output_type": "execute_result",
          "data": {
            "text/html": [
              "<div>\n",
              "<style scoped>\n",
              "    .dataframe tbody tr th:only-of-type {\n",
              "        vertical-align: middle;\n",
              "    }\n",
              "\n",
              "    .dataframe tbody tr th {\n",
              "        vertical-align: top;\n",
              "    }\n",
              "\n",
              "    .dataframe thead th {\n",
              "        text-align: right;\n",
              "    }\n",
              "</style>\n",
              "<table border=\"1\" class=\"dataframe\">\n",
              "  <thead>\n",
              "    <tr style=\"text-align: right;\">\n",
              "      <th></th>\n",
              "      <th>date_block_num</th>\n",
              "      <th>date_avg_item_cnt</th>\n",
              "    </tr>\n",
              "  </thead>\n",
              "  <tbody>\n",
              "    <tr>\n",
              "      <th>0</th>\n",
              "      <td>0</td>\n",
              "      <td>0.347168</td>\n",
              "    </tr>\n",
              "    <tr>\n",
              "      <th>1</th>\n",
              "      <td>1</td>\n",
              "      <td>0.324463</td>\n",
              "    </tr>\n",
              "    <tr>\n",
              "      <th>2</th>\n",
              "      <td>2</td>\n",
              "      <td>0.355469</td>\n",
              "    </tr>\n",
              "    <tr>\n",
              "      <th>3</th>\n",
              "      <td>3</td>\n",
              "      <td>0.275391</td>\n",
              "    </tr>\n",
              "    <tr>\n",
              "      <th>4</th>\n",
              "      <td>4</td>\n",
              "      <td>0.265137</td>\n",
              "    </tr>\n",
              "  </tbody>\n",
              "</table>\n",
              "</div>"
            ],
            "text/plain": [
              "   date_block_num  date_avg_item_cnt\n",
              "0               0           0.347168\n",
              "1               1           0.324463\n",
              "2               2           0.355469\n",
              "3               3           0.275391\n",
              "4               4           0.265137"
            ]
          },
          "metadata": {
            "tags": []
          },
          "execution_count": 71
        }
      ]
    },
    {
      "cell_type": "code",
      "metadata": {
        "id": "VCLp9uVHO5M2",
        "colab_type": "code",
        "colab": {}
      },
      "source": [
        "matrix = pd.merge(matrix, group, on=['date_block_num'], how='left')\n",
        "matrix['date_avg_item_cnt'] = matrix['date_avg_item_cnt'].astype(np.float16)\n",
        "matrix = lag_feature(matrix, [1], 'date_avg_item_cnt')\n",
        "matrix.drop(['date_avg_item_cnt'], axis=1, inplace=True)"
      ],
      "execution_count": 0,
      "outputs": []
    },
    {
      "cell_type": "code",
      "metadata": {
        "id": "DpD0iXQUO5M6",
        "colab_type": "code",
        "colab": {},
        "outputId": "fb5f0427-e92e-4313-d6bd-311311347b58"
      },
      "source": [
        "matrix"
      ],
      "execution_count": 0,
      "outputs": [
        {
          "output_type": "execute_result",
          "data": {
            "text/html": [
              "<div>\n",
              "<style scoped>\n",
              "    .dataframe tbody tr th:only-of-type {\n",
              "        vertical-align: middle;\n",
              "    }\n",
              "\n",
              "    .dataframe tbody tr th {\n",
              "        vertical-align: top;\n",
              "    }\n",
              "\n",
              "    .dataframe thead th {\n",
              "        text-align: right;\n",
              "    }\n",
              "</style>\n",
              "<table border=\"1\" class=\"dataframe\">\n",
              "  <thead>\n",
              "    <tr style=\"text-align: right;\">\n",
              "      <th></th>\n",
              "      <th>date_block_num</th>\n",
              "      <th>shop_id</th>\n",
              "      <th>item_id</th>\n",
              "      <th>item_cnt_month</th>\n",
              "      <th>city_code</th>\n",
              "      <th>item_category_id</th>\n",
              "      <th>type_code</th>\n",
              "      <th>subtype_code</th>\n",
              "      <th>item_cnt_month_lag_1</th>\n",
              "      <th>item_cnt_month_lag_2</th>\n",
              "      <th>item_cnt_month_lag_3</th>\n",
              "      <th>item_cnt_month_lag_6</th>\n",
              "      <th>item_cnt_month_lag_12</th>\n",
              "      <th>date_avg_item_cnt_lag_1</th>\n",
              "    </tr>\n",
              "  </thead>\n",
              "  <tbody>\n",
              "    <tr>\n",
              "      <th>0</th>\n",
              "      <td>0</td>\n",
              "      <td>0</td>\n",
              "      <td>19</td>\n",
              "      <td>0.0</td>\n",
              "      <td>0</td>\n",
              "      <td>40</td>\n",
              "      <td>11</td>\n",
              "      <td>4</td>\n",
              "      <td>NaN</td>\n",
              "      <td>NaN</td>\n",
              "      <td>NaN</td>\n",
              "      <td>NaN</td>\n",
              "      <td>NaN</td>\n",
              "      <td>NaN</td>\n",
              "    </tr>\n",
              "    <tr>\n",
              "      <th>1</th>\n",
              "      <td>0</td>\n",
              "      <td>0</td>\n",
              "      <td>27</td>\n",
              "      <td>0.0</td>\n",
              "      <td>0</td>\n",
              "      <td>19</td>\n",
              "      <td>5</td>\n",
              "      <td>10</td>\n",
              "      <td>NaN</td>\n",
              "      <td>NaN</td>\n",
              "      <td>NaN</td>\n",
              "      <td>NaN</td>\n",
              "      <td>NaN</td>\n",
              "      <td>NaN</td>\n",
              "    </tr>\n",
              "    <tr>\n",
              "      <th>2</th>\n",
              "      <td>0</td>\n",
              "      <td>0</td>\n",
              "      <td>28</td>\n",
              "      <td>0.0</td>\n",
              "      <td>0</td>\n",
              "      <td>30</td>\n",
              "      <td>8</td>\n",
              "      <td>55</td>\n",
              "      <td>NaN</td>\n",
              "      <td>NaN</td>\n",
              "      <td>NaN</td>\n",
              "      <td>NaN</td>\n",
              "      <td>NaN</td>\n",
              "      <td>NaN</td>\n",
              "    </tr>\n",
              "    <tr>\n",
              "      <th>3</th>\n",
              "      <td>0</td>\n",
              "      <td>0</td>\n",
              "      <td>29</td>\n",
              "      <td>0.0</td>\n",
              "      <td>0</td>\n",
              "      <td>23</td>\n",
              "      <td>5</td>\n",
              "      <td>16</td>\n",
              "      <td>NaN</td>\n",
              "      <td>NaN</td>\n",
              "      <td>NaN</td>\n",
              "      <td>NaN</td>\n",
              "      <td>NaN</td>\n",
              "      <td>NaN</td>\n",
              "    </tr>\n",
              "    <tr>\n",
              "      <th>4</th>\n",
              "      <td>0</td>\n",
              "      <td>0</td>\n",
              "      <td>32</td>\n",
              "      <td>6.0</td>\n",
              "      <td>0</td>\n",
              "      <td>40</td>\n",
              "      <td>11</td>\n",
              "      <td>4</td>\n",
              "      <td>NaN</td>\n",
              "      <td>NaN</td>\n",
              "      <td>NaN</td>\n",
              "      <td>NaN</td>\n",
              "      <td>NaN</td>\n",
              "      <td>NaN</td>\n",
              "    </tr>\n",
              "    <tr>\n",
              "      <th>...</th>\n",
              "      <td>...</td>\n",
              "      <td>...</td>\n",
              "      <td>...</td>\n",
              "      <td>...</td>\n",
              "      <td>...</td>\n",
              "      <td>...</td>\n",
              "      <td>...</td>\n",
              "      <td>...</td>\n",
              "      <td>...</td>\n",
              "      <td>...</td>\n",
              "      <td>...</td>\n",
              "      <td>...</td>\n",
              "      <td>...</td>\n",
              "      <td>...</td>\n",
              "    </tr>\n",
              "    <tr>\n",
              "      <th>11127999</th>\n",
              "      <td>34</td>\n",
              "      <td>45</td>\n",
              "      <td>18454</td>\n",
              "      <td>0.0</td>\n",
              "      <td>0</td>\n",
              "      <td>55</td>\n",
              "      <td>13</td>\n",
              "      <td>2</td>\n",
              "      <td>1.0</td>\n",
              "      <td>1.0</td>\n",
              "      <td>1.0</td>\n",
              "      <td>1.0</td>\n",
              "      <td>1.0</td>\n",
              "      <td>0.258545</td>\n",
              "    </tr>\n",
              "    <tr>\n",
              "      <th>11128000</th>\n",
              "      <td>34</td>\n",
              "      <td>45</td>\n",
              "      <td>16188</td>\n",
              "      <td>0.0</td>\n",
              "      <td>0</td>\n",
              "      <td>64</td>\n",
              "      <td>14</td>\n",
              "      <td>42</td>\n",
              "      <td>0.0</td>\n",
              "      <td>0.0</td>\n",
              "      <td>0.0</td>\n",
              "      <td>0.0</td>\n",
              "      <td>0.0</td>\n",
              "      <td>0.258545</td>\n",
              "    </tr>\n",
              "    <tr>\n",
              "      <th>11128001</th>\n",
              "      <td>34</td>\n",
              "      <td>45</td>\n",
              "      <td>15757</td>\n",
              "      <td>0.0</td>\n",
              "      <td>0</td>\n",
              "      <td>55</td>\n",
              "      <td>13</td>\n",
              "      <td>2</td>\n",
              "      <td>0.0</td>\n",
              "      <td>0.0</td>\n",
              "      <td>0.0</td>\n",
              "      <td>0.0</td>\n",
              "      <td>0.0</td>\n",
              "      <td>0.258545</td>\n",
              "    </tr>\n",
              "    <tr>\n",
              "      <th>11128002</th>\n",
              "      <td>34</td>\n",
              "      <td>45</td>\n",
              "      <td>19648</td>\n",
              "      <td>0.0</td>\n",
              "      <td>0</td>\n",
              "      <td>40</td>\n",
              "      <td>11</td>\n",
              "      <td>4</td>\n",
              "      <td>0.0</td>\n",
              "      <td>0.0</td>\n",
              "      <td>0.0</td>\n",
              "      <td>0.0</td>\n",
              "      <td>0.0</td>\n",
              "      <td>0.258545</td>\n",
              "    </tr>\n",
              "    <tr>\n",
              "      <th>11128003</th>\n",
              "      <td>34</td>\n",
              "      <td>45</td>\n",
              "      <td>969</td>\n",
              "      <td>0.0</td>\n",
              "      <td>0</td>\n",
              "      <td>37</td>\n",
              "      <td>11</td>\n",
              "      <td>1</td>\n",
              "      <td>0.0</td>\n",
              "      <td>0.0</td>\n",
              "      <td>0.0</td>\n",
              "      <td>0.0</td>\n",
              "      <td>0.0</td>\n",
              "      <td>0.258545</td>\n",
              "    </tr>\n",
              "  </tbody>\n",
              "</table>\n",
              "<p>11128004 rows × 14 columns</p>\n",
              "</div>"
            ],
            "text/plain": [
              "          date_block_num  shop_id  item_id  item_cnt_month  city_code  \\\n",
              "0                      0        0       19             0.0          0   \n",
              "1                      0        0       27             0.0          0   \n",
              "2                      0        0       28             0.0          0   \n",
              "3                      0        0       29             0.0          0   \n",
              "4                      0        0       32             6.0          0   \n",
              "...                  ...      ...      ...             ...        ...   \n",
              "11127999              34       45    18454             0.0          0   \n",
              "11128000              34       45    16188             0.0          0   \n",
              "11128001              34       45    15757             0.0          0   \n",
              "11128002              34       45    19648             0.0          0   \n",
              "11128003              34       45      969             0.0          0   \n",
              "\n",
              "          item_category_id  type_code  subtype_code  item_cnt_month_lag_1  \\\n",
              "0                       40         11             4                   NaN   \n",
              "1                       19          5            10                   NaN   \n",
              "2                       30          8            55                   NaN   \n",
              "3                       23          5            16                   NaN   \n",
              "4                       40         11             4                   NaN   \n",
              "...                    ...        ...           ...                   ...   \n",
              "11127999                55         13             2                   1.0   \n",
              "11128000                64         14            42                   0.0   \n",
              "11128001                55         13             2                   0.0   \n",
              "11128002                40         11             4                   0.0   \n",
              "11128003                37         11             1                   0.0   \n",
              "\n",
              "          item_cnt_month_lag_2  item_cnt_month_lag_3  item_cnt_month_lag_6  \\\n",
              "0                          NaN                   NaN                   NaN   \n",
              "1                          NaN                   NaN                   NaN   \n",
              "2                          NaN                   NaN                   NaN   \n",
              "3                          NaN                   NaN                   NaN   \n",
              "4                          NaN                   NaN                   NaN   \n",
              "...                        ...                   ...                   ...   \n",
              "11127999                   1.0                   1.0                   1.0   \n",
              "11128000                   0.0                   0.0                   0.0   \n",
              "11128001                   0.0                   0.0                   0.0   \n",
              "11128002                   0.0                   0.0                   0.0   \n",
              "11128003                   0.0                   0.0                   0.0   \n",
              "\n",
              "          item_cnt_month_lag_12  date_avg_item_cnt_lag_1  \n",
              "0                           NaN                      NaN  \n",
              "1                           NaN                      NaN  \n",
              "2                           NaN                      NaN  \n",
              "3                           NaN                      NaN  \n",
              "4                           NaN                      NaN  \n",
              "...                         ...                      ...  \n",
              "11127999                    1.0                 0.258545  \n",
              "11128000                    0.0                 0.258545  \n",
              "11128001                    0.0                 0.258545  \n",
              "11128002                    0.0                 0.258545  \n",
              "11128003                    0.0                 0.258545  \n",
              "\n",
              "[11128004 rows x 14 columns]"
            ]
          },
          "metadata": {
            "tags": []
          },
          "execution_count": 73
        }
      ]
    },
    {
      "cell_type": "code",
      "metadata": {
        "id": "MlbQqPkVO5M9",
        "colab_type": "code",
        "colab": {},
        "outputId": "15489fbf-ebe7-4145-897f-06b1acda966c"
      },
      "source": [
        "time.time() - ts"
      ],
      "execution_count": 0,
      "outputs": [
        {
          "output_type": "execute_result",
          "data": {
            "text/plain": [
              "16.58680510520935"
            ]
          },
          "metadata": {
            "tags": []
          },
          "execution_count": 74
        }
      ]
    },
    {
      "cell_type": "code",
      "metadata": {
        "id": "BsTrdupGO5NB",
        "colab_type": "code",
        "colab": {}
      },
      "source": [
        "ts = time.time()\n",
        "group = matrix.groupby(['date_block_num', 'item_id']).agg({'item_cnt_month':['mean']})\n",
        "group.columns = ['date_item_avg_item_cnt']\n",
        "group.reset_index(inplace=True)"
      ],
      "execution_count": 0,
      "outputs": []
    },
    {
      "cell_type": "code",
      "metadata": {
        "id": "qFW_EummO5NF",
        "colab_type": "code",
        "colab": {}
      },
      "source": [
        "matrix = pd.merge(matrix, group, on=['date_block_num', 'item_id'], how='left')\n",
        "matrix['date_item_avg_item_cnt'] = matrix['date_item_avg_item_cnt'].astype(np.float16)\n",
        "matrix = lag_feature(matrix, [1,2,3,6,12], 'date_item_avg_item_cnt')\n",
        "matrix.drop(['date_item_avg_item_cnt'], axis=1, inplace=True)"
      ],
      "execution_count": 0,
      "outputs": []
    },
    {
      "cell_type": "code",
      "metadata": {
        "id": "SFK7lApaO5NI",
        "colab_type": "code",
        "colab": {},
        "outputId": "ba2f327f-386e-4222-be6e-3e73ffd1ceeb"
      },
      "source": [
        "time.time() - ts"
      ],
      "execution_count": 0,
      "outputs": [
        {
          "output_type": "execute_result",
          "data": {
            "text/plain": [
              "49.12637114524841"
            ]
          },
          "metadata": {
            "tags": []
          },
          "execution_count": 77
        }
      ]
    },
    {
      "cell_type": "code",
      "metadata": {
        "id": "T55F6JlUO5NM",
        "colab_type": "code",
        "colab": {}
      },
      "source": [
        "ts = time.time()\n",
        "group = matrix.groupby(['date_block_num', 'shop_id']).agg({'item_cnt_month':['mean']})\n",
        "group.columns = ['date_shop_avg_item_cnt']\n",
        "group.reset_index(inplace=True)"
      ],
      "execution_count": 0,
      "outputs": []
    },
    {
      "cell_type": "code",
      "metadata": {
        "id": "9A8oXObbO5NO",
        "colab_type": "code",
        "colab": {}
      },
      "source": [
        "matrix = pd.merge(matrix, group, on=['date_block_num', 'shop_id'], how='left')\n",
        "matrix['date_shop_avg_item_cnt'] = matrix['date_shop_avg_item_cnt'].astype(np.float16)\n",
        "matrix = lag_feature(matrix, [1,2,3,6,12], 'date_shop_avg_item_cnt')\n",
        "matrix.drop(['date_shop_avg_item_cnt'], axis=1, inplace=True)"
      ],
      "execution_count": 0,
      "outputs": []
    },
    {
      "cell_type": "code",
      "metadata": {
        "id": "5b9ygNqoO5NR",
        "colab_type": "code",
        "colab": {},
        "outputId": "7db0321f-5806-4ab5-a8b3-ffc50b58a756"
      },
      "source": [
        "time.time() - ts"
      ],
      "execution_count": 0,
      "outputs": [
        {
          "output_type": "execute_result",
          "data": {
            "text/plain": [
              "47.569865226745605"
            ]
          },
          "metadata": {
            "tags": []
          },
          "execution_count": 80
        }
      ]
    },
    {
      "cell_type": "code",
      "metadata": {
        "id": "qLnIcuWDO5NX",
        "colab_type": "code",
        "colab": {}
      },
      "source": [
        "ts = time.time()\n",
        "group = matrix.groupby(['date_block_num', 'item_category_id']).agg({'item_cnt_month':['mean']})\n",
        "group.columns = ['date_cat_avg_item_cnt']\n",
        "group.reset_index(inplace=True)"
      ],
      "execution_count": 0,
      "outputs": []
    },
    {
      "cell_type": "code",
      "metadata": {
        "id": "t0BeftT0O5Nb",
        "colab_type": "code",
        "colab": {}
      },
      "source": [
        "matrix = pd.merge(matrix, group, on=['date_block_num', 'item_category_id'], how='left')\n",
        "matrix['date_cat_avg_item_cnt'] = matrix['date_cat_avg_item_cnt'].astype(np.float16)\n",
        "matrix = lag_feature(matrix, [1,2,3,6,12], 'date_cat_avg_item_cnt')\n",
        "matrix.drop(['date_cat_avg_item_cnt'], axis=1, inplace=True)"
      ],
      "execution_count": 0,
      "outputs": []
    },
    {
      "cell_type": "code",
      "metadata": {
        "id": "D8bJLMfgO5Ne",
        "colab_type": "code",
        "colab": {},
        "outputId": "514754e1-7985-4859-a2a9-610b0b83dc0b"
      },
      "source": [
        "time.time() - ts"
      ],
      "execution_count": 0,
      "outputs": [
        {
          "output_type": "execute_result",
          "data": {
            "text/plain": [
              "50.86422157287598"
            ]
          },
          "metadata": {
            "tags": []
          },
          "execution_count": 83
        }
      ]
    },
    {
      "cell_type": "code",
      "metadata": {
        "id": "LntlyiKiO5Nh",
        "colab_type": "code",
        "colab": {}
      },
      "source": [
        "ts = time.time()\n",
        "group = matrix.groupby(['date_block_num', 'shop_id', 'item_category_id']).agg({'item_cnt_month':['mean']})\n",
        "group.columns = ['date_shop_cat_avg_item_cnt']\n",
        "group.reset_index(inplace=True)"
      ],
      "execution_count": 0,
      "outputs": []
    },
    {
      "cell_type": "code",
      "metadata": {
        "id": "E5CTgmJwO5Nl",
        "colab_type": "code",
        "colab": {}
      },
      "source": [
        "matrix = pd.merge(matrix, group, on=['date_block_num', 'shop_id', 'item_category_id'], how='left')\n",
        "matrix['date_shop_cat_avg_item_cnt'] = matrix['date_shop_cat_avg_item_cnt'].astype(np.float16)\n",
        "matrix = lag_feature(matrix, [1,2,3,6,12], 'date_shop_cat_avg_item_cnt')\n",
        "matrix.drop(['date_shop_cat_avg_item_cnt'], axis=1, inplace=True)"
      ],
      "execution_count": 0,
      "outputs": []
    },
    {
      "cell_type": "code",
      "metadata": {
        "id": "cxNc12FcO5No",
        "colab_type": "code",
        "colab": {},
        "outputId": "14a0a872-8689-4f7c-c074-532d13336338"
      },
      "source": [
        "time.time() - ts"
      ],
      "execution_count": 0,
      "outputs": [
        {
          "output_type": "execute_result",
          "data": {
            "text/plain": [
              "53.27489686012268"
            ]
          },
          "metadata": {
            "tags": []
          },
          "execution_count": 86
        }
      ]
    },
    {
      "cell_type": "code",
      "metadata": {
        "id": "NOnwLo4oO5Ns",
        "colab_type": "code",
        "colab": {},
        "outputId": "2980ad6e-c011-4482-f102-61d105b4d674"
      },
      "source": [
        "ts = time.time()\n",
        "group = matrix.groupby(['date_block_num', 'shop_id', 'type_code']).agg({'item_cnt_month': ['mean']})\n",
        "group.columns = ['date_shop_type_avg_item_cnt']\n",
        "group.reset_index(inplace=True)\n",
        "\n",
        "matrix = pd.merge(matrix, group, on=['date_block_num', 'shop_id', 'type_code'], how='left')\n",
        "matrix['date_shop_type_avg_item_cnt'] = matrix['date_shop_type_avg_item_cnt'].astype(np.float16)\n",
        "matrix = lag_feature(matrix, [1], 'date_shop_type_avg_item_cnt')\n",
        "matrix.drop(['date_shop_type_avg_item_cnt'], axis=1, inplace=True)\n",
        "time.time() - ts"
      ],
      "execution_count": 0,
      "outputs": [
        {
          "output_type": "execute_result",
          "data": {
            "text/plain": [
              "21.125673055648804"
            ]
          },
          "metadata": {
            "tags": []
          },
          "execution_count": 87
        }
      ]
    },
    {
      "cell_type": "code",
      "metadata": {
        "id": "LdmusPuaO5Nv",
        "colab_type": "code",
        "colab": {},
        "outputId": "e343ba3c-6f3e-46d3-c8e4-df132a8b858f"
      },
      "source": [
        "ts = time.time()\n",
        "group = matrix.groupby(['date_block_num', 'shop_id', 'subtype_code']).agg({'item_cnt_month': ['mean']})\n",
        "group.columns = ['date_shop_subtype_avg_item_cnt']\n",
        "group.reset_index(inplace=True)\n",
        "\n",
        "matrix = pd.merge(matrix, group, on=['date_block_num', 'shop_id', 'subtype_code'], how='left')\n",
        "matrix['date_shop_subtype_avg_item_cnt'] = matrix['date_shop_subtype_avg_item_cnt'].astype(np.float16)\n",
        "matrix = lag_feature(matrix, [1], 'date_shop_subtype_avg_item_cnt')\n",
        "matrix.drop(['date_shop_subtype_avg_item_cnt'], axis=1, inplace=True)\n",
        "time.time() - ts"
      ],
      "execution_count": 0,
      "outputs": [
        {
          "output_type": "execute_result",
          "data": {
            "text/plain": [
              "21.44610095024109"
            ]
          },
          "metadata": {
            "tags": []
          },
          "execution_count": 88
        }
      ]
    },
    {
      "cell_type": "code",
      "metadata": {
        "id": "rgLA8--0O5Nz",
        "colab_type": "code",
        "colab": {},
        "outputId": "d08cdff5-841e-4d7b-cfe9-9daea76070ab"
      },
      "source": [
        "ts = time.time()\n",
        "group = matrix.groupby(['date_block_num', 'city_code']).agg({'item_cnt_month': ['mean']})\n",
        "group.columns = [ 'date_city_avg_item_cnt' ]\n",
        "group.reset_index(inplace=True)\n",
        "\n",
        "matrix = pd.merge(matrix, group, on=['date_block_num', 'city_code'], how='left')\n",
        "matrix['date_city_avg_item_cnt'] = matrix['date_city_avg_item_cnt'].astype(np.float16)\n",
        "matrix = lag_feature(matrix, [1], 'date_city_avg_item_cnt')\n",
        "matrix.drop(['date_city_avg_item_cnt'], axis=1, inplace=True)\n",
        "time.time() - ts"
      ],
      "execution_count": 0,
      "outputs": [
        {
          "output_type": "execute_result",
          "data": {
            "text/plain": [
              "21.643622398376465"
            ]
          },
          "metadata": {
            "tags": []
          },
          "execution_count": 89
        }
      ]
    },
    {
      "cell_type": "code",
      "metadata": {
        "id": "Bek3qiMKO5N5",
        "colab_type": "code",
        "colab": {},
        "outputId": "b8983967-0dba-4600-ab56-75d28613e09f"
      },
      "source": [
        "ts = time.time()\n",
        "group = matrix.groupby(['date_block_num', 'item_id', 'city_code']).agg({'item_cnt_month': ['mean']})\n",
        "group.columns = [ 'date_item_city_avg_item_cnt' ]\n",
        "group.reset_index(inplace=True)\n",
        "\n",
        "matrix = pd.merge(matrix, group, on=['date_block_num', 'item_id', 'city_code'], how='left')\n",
        "matrix['date_item_city_avg_item_cnt'] = matrix['date_item_city_avg_item_cnt'].astype(np.float16)\n",
        "matrix = lag_feature(matrix, [1], 'date_item_city_avg_item_cnt')\n",
        "matrix.drop(['date_item_city_avg_item_cnt'], axis=1, inplace=True)\n",
        "time.time() - ts"
      ],
      "execution_count": 0,
      "outputs": [
        {
          "output_type": "execute_result",
          "data": {
            "text/plain": [
              "24.16404914855957"
            ]
          },
          "metadata": {
            "tags": []
          },
          "execution_count": 90
        }
      ]
    },
    {
      "cell_type": "code",
      "metadata": {
        "id": "DtlZnCM1O5N8",
        "colab_type": "code",
        "colab": {},
        "outputId": "fdc1e17f-b5c1-4e5d-f5e3-45ce44e36c57"
      },
      "source": [
        "ts = time.time()\n",
        "group = matrix.groupby(['date_block_num', 'type_code']).agg({'item_cnt_month': ['mean']})\n",
        "group.columns = [ 'date_type_avg_item_cnt' ]\n",
        "group.reset_index(inplace=True)\n",
        "\n",
        "matrix = pd.merge(matrix, group, on=['date_block_num', 'type_code'], how='left')\n",
        "matrix['date_type_avg_item_cnt'] = matrix['date_type_avg_item_cnt'].astype(np.float16)\n",
        "matrix = lag_feature(matrix, [1], 'date_type_avg_item_cnt')\n",
        "matrix.drop(['date_type_avg_item_cnt'], axis=1, inplace=True)\n",
        "time.time() - ts"
      ],
      "execution_count": 0,
      "outputs": [
        {
          "output_type": "execute_result",
          "data": {
            "text/plain": [
              "21.85427188873291"
            ]
          },
          "metadata": {
            "tags": []
          },
          "execution_count": 91
        }
      ]
    },
    {
      "cell_type": "code",
      "metadata": {
        "id": "PmS7UjanO5OA",
        "colab_type": "code",
        "colab": {},
        "outputId": "7a832f05-0234-4dbd-b412-32b77f4965a7"
      },
      "source": [
        "ts = time.time()\n",
        "group = matrix.groupby(['date_block_num', 'subtype_code']).agg({'item_cnt_month': ['mean']})\n",
        "group.columns = [ 'date_subtype_avg_item_cnt' ]\n",
        "group.reset_index(inplace=True)\n",
        "\n",
        "matrix = pd.merge(matrix, group, on=['date_block_num', 'subtype_code'], how='left')\n",
        "matrix['date_subtype_avg_item_cnt'] = matrix['date_subtype_avg_item_cnt'].astype(np.float16)\n",
        "matrix = lag_feature(matrix, [1], 'date_subtype_avg_item_cnt')\n",
        "matrix.drop(['date_subtype_avg_item_cnt'], axis=1, inplace=True)\n",
        "time.time() - ts"
      ],
      "execution_count": 0,
      "outputs": [
        {
          "output_type": "execute_result",
          "data": {
            "text/plain": [
              "22.372653007507324"
            ]
          },
          "metadata": {
            "tags": []
          },
          "execution_count": 92
        }
      ]
    },
    {
      "cell_type": "code",
      "metadata": {
        "id": "YGhWNz3BO5OD",
        "colab_type": "code",
        "colab": {}
      },
      "source": [
        "# trend features"
      ],
      "execution_count": 0,
      "outputs": []
    },
    {
      "cell_type": "code",
      "metadata": {
        "id": "v3hZgnMJO5OP",
        "colab_type": "code",
        "colab": {}
      },
      "source": [
        "ts = time.time()\n",
        "group = train.groupby(['item_id']).agg({'item_price':['mean']})\n",
        "group.columns = ['item_avg_item_price']\n",
        "group.reset_index(inplace=True)"
      ],
      "execution_count": 0,
      "outputs": []
    },
    {
      "cell_type": "code",
      "metadata": {
        "id": "a0dmqfbcO5OV",
        "colab_type": "code",
        "colab": {}
      },
      "source": [
        "matrix = pd.merge(matrix, group, on=['item_id'], how='left')\n",
        "matrix['item_avg_item_price'] = matrix['item_avg_item_price'].astype(np.float16)"
      ],
      "execution_count": 0,
      "outputs": []
    },
    {
      "cell_type": "code",
      "metadata": {
        "id": "5-Np1ipzO5Oa",
        "colab_type": "code",
        "colab": {}
      },
      "source": [
        "group = train.groupby(['date_block_num', 'item_id']).agg({'item_price':['mean']})\n",
        "group.columns = ['date_item_avg_item_price']\n",
        "group.reset_index(inplace=True)"
      ],
      "execution_count": 0,
      "outputs": []
    },
    {
      "cell_type": "code",
      "metadata": {
        "id": "nLary4MLO5Od",
        "colab_type": "code",
        "colab": {}
      },
      "source": [
        "matrix = pd.merge(matrix, group, on=['date_block_num', 'item_id'], how='left')\n",
        "matrix['date_item_avg_item_price'] = matrix['date_item_avg_item_price'].astype(np.float16)"
      ],
      "execution_count": 0,
      "outputs": []
    },
    {
      "cell_type": "code",
      "metadata": {
        "id": "dEygHf5FO5Of",
        "colab_type": "code",
        "colab": {}
      },
      "source": [
        "lags = [1,2,3,4,5,6]\n",
        "matrix = lag_feature(matrix, lags, 'date_item_avg_item_price')"
      ],
      "execution_count": 0,
      "outputs": []
    },
    {
      "cell_type": "code",
      "metadata": {
        "id": "UDUReoHUO5Oi",
        "colab_type": "code",
        "colab": {}
      },
      "source": [
        "for i in lags:\n",
        "    matrix['delta_price_lag_'+str(i)] = \\\n",
        "        (matrix['date_item_avg_item_price_lag_'+str(i)] - matrix['item_avg_item_price']) / matrix['item_avg_item_price']"
      ],
      "execution_count": 0,
      "outputs": []
    },
    {
      "cell_type": "code",
      "metadata": {
        "id": "Ex93k13-O5Ol",
        "colab_type": "code",
        "colab": {}
      },
      "source": [
        "def select_trend(row):\n",
        "    for i in lags:\n",
        "        if row['delta_price_lag_'+str(i)]:\n",
        "            return row['delta_price_lag_'+str(i)]\n",
        "    return 0"
      ],
      "execution_count": 0,
      "outputs": []
    },
    {
      "cell_type": "code",
      "metadata": {
        "id": "ELcsflEvO5Om",
        "colab_type": "code",
        "colab": {}
      },
      "source": [
        "matrix['delta_price_lag'] = matrix.apply(select_trend, axis=1)\n",
        "matrix['delta_price_lag'] = matrix['delta_price_lag'].astype(np.float16)\n",
        "matrix['delta_price_lag'].fillna(0, inplace=True)"
      ],
      "execution_count": 0,
      "outputs": []
    },
    {
      "cell_type": "code",
      "metadata": {
        "id": "W7iweh85O5Oq",
        "colab_type": "code",
        "colab": {}
      },
      "source": [
        "features_to_drop = ['item_avg_item_price', 'date_item_avg_item_price']\n",
        "for i in lags:\n",
        "    features_to_drop += ['date_item_avg_item_price_lag_'+str(i)]\n",
        "    features_to_drop += ['delta_price_lag_'+str(i)]\n",
        "matrix.drop(features_to_drop, axis=1, inplace=True)"
      ],
      "execution_count": 0,
      "outputs": []
    },
    {
      "cell_type": "code",
      "metadata": {
        "id": "hSkg9cJIO5Ot",
        "colab_type": "code",
        "colab": {},
        "outputId": "ee164607-eb37-4c03-8999-cdd72a2132e6"
      },
      "source": [
        "matrix"
      ],
      "execution_count": 0,
      "outputs": [
        {
          "output_type": "execute_result",
          "data": {
            "text/html": [
              "<div>\n",
              "<style scoped>\n",
              "    .dataframe tbody tr th:only-of-type {\n",
              "        vertical-align: middle;\n",
              "    }\n",
              "\n",
              "    .dataframe tbody tr th {\n",
              "        vertical-align: top;\n",
              "    }\n",
              "\n",
              "    .dataframe thead th {\n",
              "        text-align: right;\n",
              "    }\n",
              "</style>\n",
              "<table border=\"1\" class=\"dataframe\">\n",
              "  <thead>\n",
              "    <tr style=\"text-align: right;\">\n",
              "      <th></th>\n",
              "      <th>date_block_num</th>\n",
              "      <th>shop_id</th>\n",
              "      <th>item_id</th>\n",
              "      <th>item_cnt_month</th>\n",
              "      <th>city_code</th>\n",
              "      <th>item_category_id</th>\n",
              "      <th>type_code</th>\n",
              "      <th>subtype_code</th>\n",
              "      <th>item_cnt_month_lag_1</th>\n",
              "      <th>item_cnt_month_lag_2</th>\n",
              "      <th>...</th>\n",
              "      <th>date_shop_cat_avg_item_cnt_lag_3</th>\n",
              "      <th>date_shop_cat_avg_item_cnt_lag_6</th>\n",
              "      <th>date_shop_cat_avg_item_cnt_lag_12</th>\n",
              "      <th>date_shop_type_avg_item_cnt_lag_1</th>\n",
              "      <th>date_shop_subtype_avg_item_cnt_lag_1</th>\n",
              "      <th>date_city_avg_item_cnt_lag_1</th>\n",
              "      <th>date_item_city_avg_item_cnt_lag_1</th>\n",
              "      <th>date_type_avg_item_cnt_lag_1</th>\n",
              "      <th>date_subtype_avg_item_cnt_lag_1</th>\n",
              "      <th>delta_price_lag</th>\n",
              "    </tr>\n",
              "  </thead>\n",
              "  <tbody>\n",
              "    <tr>\n",
              "      <th>0</th>\n",
              "      <td>0</td>\n",
              "      <td>0</td>\n",
              "      <td>19</td>\n",
              "      <td>0.0</td>\n",
              "      <td>0</td>\n",
              "      <td>40</td>\n",
              "      <td>11</td>\n",
              "      <td>4</td>\n",
              "      <td>NaN</td>\n",
              "      <td>NaN</td>\n",
              "      <td>...</td>\n",
              "      <td>NaN</td>\n",
              "      <td>NaN</td>\n",
              "      <td>NaN</td>\n",
              "      <td>NaN</td>\n",
              "      <td>NaN</td>\n",
              "      <td>NaN</td>\n",
              "      <td>NaN</td>\n",
              "      <td>NaN</td>\n",
              "      <td>NaN</td>\n",
              "      <td>0.000000</td>\n",
              "    </tr>\n",
              "    <tr>\n",
              "      <th>1</th>\n",
              "      <td>0</td>\n",
              "      <td>0</td>\n",
              "      <td>27</td>\n",
              "      <td>0.0</td>\n",
              "      <td>0</td>\n",
              "      <td>19</td>\n",
              "      <td>5</td>\n",
              "      <td>10</td>\n",
              "      <td>NaN</td>\n",
              "      <td>NaN</td>\n",
              "      <td>...</td>\n",
              "      <td>NaN</td>\n",
              "      <td>NaN</td>\n",
              "      <td>NaN</td>\n",
              "      <td>NaN</td>\n",
              "      <td>NaN</td>\n",
              "      <td>NaN</td>\n",
              "      <td>NaN</td>\n",
              "      <td>NaN</td>\n",
              "      <td>NaN</td>\n",
              "      <td>0.000000</td>\n",
              "    </tr>\n",
              "    <tr>\n",
              "      <th>2</th>\n",
              "      <td>0</td>\n",
              "      <td>0</td>\n",
              "      <td>28</td>\n",
              "      <td>0.0</td>\n",
              "      <td>0</td>\n",
              "      <td>30</td>\n",
              "      <td>8</td>\n",
              "      <td>55</td>\n",
              "      <td>NaN</td>\n",
              "      <td>NaN</td>\n",
              "      <td>...</td>\n",
              "      <td>NaN</td>\n",
              "      <td>NaN</td>\n",
              "      <td>NaN</td>\n",
              "      <td>NaN</td>\n",
              "      <td>NaN</td>\n",
              "      <td>NaN</td>\n",
              "      <td>NaN</td>\n",
              "      <td>NaN</td>\n",
              "      <td>NaN</td>\n",
              "      <td>0.000000</td>\n",
              "    </tr>\n",
              "    <tr>\n",
              "      <th>3</th>\n",
              "      <td>0</td>\n",
              "      <td>0</td>\n",
              "      <td>29</td>\n",
              "      <td>0.0</td>\n",
              "      <td>0</td>\n",
              "      <td>23</td>\n",
              "      <td>5</td>\n",
              "      <td>16</td>\n",
              "      <td>NaN</td>\n",
              "      <td>NaN</td>\n",
              "      <td>...</td>\n",
              "      <td>NaN</td>\n",
              "      <td>NaN</td>\n",
              "      <td>NaN</td>\n",
              "      <td>NaN</td>\n",
              "      <td>NaN</td>\n",
              "      <td>NaN</td>\n",
              "      <td>NaN</td>\n",
              "      <td>NaN</td>\n",
              "      <td>NaN</td>\n",
              "      <td>0.000000</td>\n",
              "    </tr>\n",
              "    <tr>\n",
              "      <th>4</th>\n",
              "      <td>0</td>\n",
              "      <td>0</td>\n",
              "      <td>32</td>\n",
              "      <td>6.0</td>\n",
              "      <td>0</td>\n",
              "      <td>40</td>\n",
              "      <td>11</td>\n",
              "      <td>4</td>\n",
              "      <td>NaN</td>\n",
              "      <td>NaN</td>\n",
              "      <td>...</td>\n",
              "      <td>NaN</td>\n",
              "      <td>NaN</td>\n",
              "      <td>NaN</td>\n",
              "      <td>NaN</td>\n",
              "      <td>NaN</td>\n",
              "      <td>NaN</td>\n",
              "      <td>NaN</td>\n",
              "      <td>NaN</td>\n",
              "      <td>NaN</td>\n",
              "      <td>0.000000</td>\n",
              "    </tr>\n",
              "    <tr>\n",
              "      <th>...</th>\n",
              "      <td>...</td>\n",
              "      <td>...</td>\n",
              "      <td>...</td>\n",
              "      <td>...</td>\n",
              "      <td>...</td>\n",
              "      <td>...</td>\n",
              "      <td>...</td>\n",
              "      <td>...</td>\n",
              "      <td>...</td>\n",
              "      <td>...</td>\n",
              "      <td>...</td>\n",
              "      <td>...</td>\n",
              "      <td>...</td>\n",
              "      <td>...</td>\n",
              "      <td>...</td>\n",
              "      <td>...</td>\n",
              "      <td>...</td>\n",
              "      <td>...</td>\n",
              "      <td>...</td>\n",
              "      <td>...</td>\n",
              "      <td>...</td>\n",
              "    </tr>\n",
              "    <tr>\n",
              "      <th>11127999</th>\n",
              "      <td>34</td>\n",
              "      <td>45</td>\n",
              "      <td>18454</td>\n",
              "      <td>0.0</td>\n",
              "      <td>0</td>\n",
              "      <td>55</td>\n",
              "      <td>13</td>\n",
              "      <td>2</td>\n",
              "      <td>1.0</td>\n",
              "      <td>1.0</td>\n",
              "      <td>...</td>\n",
              "      <td>0.126831</td>\n",
              "      <td>0.126831</td>\n",
              "      <td>0.126831</td>\n",
              "      <td>0.089294</td>\n",
              "      <td>0.126831</td>\n",
              "      <td>0.258545</td>\n",
              "      <td>0.045441</td>\n",
              "      <td>0.146973</td>\n",
              "      <td>0.196899</td>\n",
              "      <td>-0.475098</td>\n",
              "    </tr>\n",
              "    <tr>\n",
              "      <th>11128000</th>\n",
              "      <td>34</td>\n",
              "      <td>45</td>\n",
              "      <td>16188</td>\n",
              "      <td>0.0</td>\n",
              "      <td>0</td>\n",
              "      <td>64</td>\n",
              "      <td>14</td>\n",
              "      <td>42</td>\n",
              "      <td>0.0</td>\n",
              "      <td>0.0</td>\n",
              "      <td>...</td>\n",
              "      <td>0.094482</td>\n",
              "      <td>0.094482</td>\n",
              "      <td>0.094482</td>\n",
              "      <td>0.106201</td>\n",
              "      <td>0.094482</td>\n",
              "      <td>0.258545</td>\n",
              "      <td>0.022720</td>\n",
              "      <td>0.237305</td>\n",
              "      <td>0.155884</td>\n",
              "      <td>0.081116</td>\n",
              "    </tr>\n",
              "    <tr>\n",
              "      <th>11128001</th>\n",
              "      <td>34</td>\n",
              "      <td>45</td>\n",
              "      <td>15757</td>\n",
              "      <td>0.0</td>\n",
              "      <td>0</td>\n",
              "      <td>55</td>\n",
              "      <td>13</td>\n",
              "      <td>2</td>\n",
              "      <td>0.0</td>\n",
              "      <td>0.0</td>\n",
              "      <td>...</td>\n",
              "      <td>0.126831</td>\n",
              "      <td>0.126831</td>\n",
              "      <td>0.126831</td>\n",
              "      <td>0.089294</td>\n",
              "      <td>0.126831</td>\n",
              "      <td>0.258545</td>\n",
              "      <td>0.113647</td>\n",
              "      <td>0.146973</td>\n",
              "      <td>0.196899</td>\n",
              "      <td>0.155884</td>\n",
              "    </tr>\n",
              "    <tr>\n",
              "      <th>11128002</th>\n",
              "      <td>34</td>\n",
              "      <td>45</td>\n",
              "      <td>19648</td>\n",
              "      <td>0.0</td>\n",
              "      <td>0</td>\n",
              "      <td>40</td>\n",
              "      <td>11</td>\n",
              "      <td>4</td>\n",
              "      <td>0.0</td>\n",
              "      <td>0.0</td>\n",
              "      <td>...</td>\n",
              "      <td>0.083740</td>\n",
              "      <td>0.083740</td>\n",
              "      <td>0.083740</td>\n",
              "      <td>0.097046</td>\n",
              "      <td>0.083740</td>\n",
              "      <td>0.258545</td>\n",
              "      <td>0.045441</td>\n",
              "      <td>0.224243</td>\n",
              "      <td>0.220825</td>\n",
              "      <td>-0.091736</td>\n",
              "    </tr>\n",
              "    <tr>\n",
              "      <th>11128003</th>\n",
              "      <td>34</td>\n",
              "      <td>45</td>\n",
              "      <td>969</td>\n",
              "      <td>0.0</td>\n",
              "      <td>0</td>\n",
              "      <td>37</td>\n",
              "      <td>11</td>\n",
              "      <td>1</td>\n",
              "      <td>0.0</td>\n",
              "      <td>0.0</td>\n",
              "      <td>...</td>\n",
              "      <td>0.128174</td>\n",
              "      <td>0.128174</td>\n",
              "      <td>0.128174</td>\n",
              "      <td>0.097046</td>\n",
              "      <td>0.126343</td>\n",
              "      <td>0.258545</td>\n",
              "      <td>0.068176</td>\n",
              "      <td>0.224243</td>\n",
              "      <td>0.240967</td>\n",
              "      <td>-0.605957</td>\n",
              "    </tr>\n",
              "  </tbody>\n",
              "</table>\n",
              "<p>11128004 rows × 41 columns</p>\n",
              "</div>"
            ],
            "text/plain": [
              "          date_block_num  shop_id  item_id  item_cnt_month  city_code  \\\n",
              "0                      0        0       19             0.0          0   \n",
              "1                      0        0       27             0.0          0   \n",
              "2                      0        0       28             0.0          0   \n",
              "3                      0        0       29             0.0          0   \n",
              "4                      0        0       32             6.0          0   \n",
              "...                  ...      ...      ...             ...        ...   \n",
              "11127999              34       45    18454             0.0          0   \n",
              "11128000              34       45    16188             0.0          0   \n",
              "11128001              34       45    15757             0.0          0   \n",
              "11128002              34       45    19648             0.0          0   \n",
              "11128003              34       45      969             0.0          0   \n",
              "\n",
              "          item_category_id  type_code  subtype_code  item_cnt_month_lag_1  \\\n",
              "0                       40         11             4                   NaN   \n",
              "1                       19          5            10                   NaN   \n",
              "2                       30          8            55                   NaN   \n",
              "3                       23          5            16                   NaN   \n",
              "4                       40         11             4                   NaN   \n",
              "...                    ...        ...           ...                   ...   \n",
              "11127999                55         13             2                   1.0   \n",
              "11128000                64         14            42                   0.0   \n",
              "11128001                55         13             2                   0.0   \n",
              "11128002                40         11             4                   0.0   \n",
              "11128003                37         11             1                   0.0   \n",
              "\n",
              "          item_cnt_month_lag_2  ...  date_shop_cat_avg_item_cnt_lag_3  \\\n",
              "0                          NaN  ...                               NaN   \n",
              "1                          NaN  ...                               NaN   \n",
              "2                          NaN  ...                               NaN   \n",
              "3                          NaN  ...                               NaN   \n",
              "4                          NaN  ...                               NaN   \n",
              "...                        ...  ...                               ...   \n",
              "11127999                   1.0  ...                          0.126831   \n",
              "11128000                   0.0  ...                          0.094482   \n",
              "11128001                   0.0  ...                          0.126831   \n",
              "11128002                   0.0  ...                          0.083740   \n",
              "11128003                   0.0  ...                          0.128174   \n",
              "\n",
              "          date_shop_cat_avg_item_cnt_lag_6  date_shop_cat_avg_item_cnt_lag_12  \\\n",
              "0                                      NaN                                NaN   \n",
              "1                                      NaN                                NaN   \n",
              "2                                      NaN                                NaN   \n",
              "3                                      NaN                                NaN   \n",
              "4                                      NaN                                NaN   \n",
              "...                                    ...                                ...   \n",
              "11127999                          0.126831                           0.126831   \n",
              "11128000                          0.094482                           0.094482   \n",
              "11128001                          0.126831                           0.126831   \n",
              "11128002                          0.083740                           0.083740   \n",
              "11128003                          0.128174                           0.128174   \n",
              "\n",
              "          date_shop_type_avg_item_cnt_lag_1  \\\n",
              "0                                       NaN   \n",
              "1                                       NaN   \n",
              "2                                       NaN   \n",
              "3                                       NaN   \n",
              "4                                       NaN   \n",
              "...                                     ...   \n",
              "11127999                           0.089294   \n",
              "11128000                           0.106201   \n",
              "11128001                           0.089294   \n",
              "11128002                           0.097046   \n",
              "11128003                           0.097046   \n",
              "\n",
              "          date_shop_subtype_avg_item_cnt_lag_1  date_city_avg_item_cnt_lag_1  \\\n",
              "0                                          NaN                           NaN   \n",
              "1                                          NaN                           NaN   \n",
              "2                                          NaN                           NaN   \n",
              "3                                          NaN                           NaN   \n",
              "4                                          NaN                           NaN   \n",
              "...                                        ...                           ...   \n",
              "11127999                              0.126831                      0.258545   \n",
              "11128000                              0.094482                      0.258545   \n",
              "11128001                              0.126831                      0.258545   \n",
              "11128002                              0.083740                      0.258545   \n",
              "11128003                              0.126343                      0.258545   \n",
              "\n",
              "          date_item_city_avg_item_cnt_lag_1  date_type_avg_item_cnt_lag_1  \\\n",
              "0                                       NaN                           NaN   \n",
              "1                                       NaN                           NaN   \n",
              "2                                       NaN                           NaN   \n",
              "3                                       NaN                           NaN   \n",
              "4                                       NaN                           NaN   \n",
              "...                                     ...                           ...   \n",
              "11127999                           0.045441                      0.146973   \n",
              "11128000                           0.022720                      0.237305   \n",
              "11128001                           0.113647                      0.146973   \n",
              "11128002                           0.045441                      0.224243   \n",
              "11128003                           0.068176                      0.224243   \n",
              "\n",
              "          date_subtype_avg_item_cnt_lag_1  delta_price_lag  \n",
              "0                                     NaN         0.000000  \n",
              "1                                     NaN         0.000000  \n",
              "2                                     NaN         0.000000  \n",
              "3                                     NaN         0.000000  \n",
              "4                                     NaN         0.000000  \n",
              "...                                   ...              ...  \n",
              "11127999                         0.196899        -0.475098  \n",
              "11128000                         0.155884         0.081116  \n",
              "11128001                         0.196899         0.155884  \n",
              "11128002                         0.220825        -0.091736  \n",
              "11128003                         0.240967        -0.605957  \n",
              "\n",
              "[11128004 rows x 41 columns]"
            ]
          },
          "metadata": {
            "tags": []
          },
          "execution_count": 103
        }
      ]
    },
    {
      "cell_type": "code",
      "metadata": {
        "id": "35nr8_TjO5Ow",
        "colab_type": "code",
        "colab": {},
        "outputId": "658e80eb-b266-4181-9d65-d7316330eff7"
      },
      "source": [
        "time.time() - ts"
      ],
      "execution_count": 0,
      "outputs": [
        {
          "output_type": "execute_result",
          "data": {
            "text/plain": [
              "563.0098373889923"
            ]
          },
          "metadata": {
            "tags": []
          },
          "execution_count": 104
        }
      ]
    },
    {
      "cell_type": "code",
      "metadata": {
        "id": "byoov1HZO5O1",
        "colab_type": "code",
        "colab": {},
        "outputId": "0515c435-7c4d-4887-9bd0-eae32629755b"
      },
      "source": [
        "ts = time.time()\n",
        "group = train.groupby(['date_block_num','shop_id']).agg({'revenue': ['sum']})\n",
        "group.columns = ['date_shop_revenue']\n",
        "group.reset_index(inplace=True)\n",
        "\n",
        "matrix = pd.merge(matrix, group, on=['date_block_num','shop_id'], how='left')\n",
        "matrix['date_shop_revenue'] = matrix['date_shop_revenue'].astype(np.float32)\n",
        "\n",
        "group = group.groupby(['shop_id']).agg({'date_shop_revenue': ['mean']})\n",
        "group.columns = ['shop_avg_revenue']\n",
        "group.reset_index(inplace=True)\n",
        "\n",
        "matrix = pd.merge(matrix, group, on=['shop_id'], how='left')\n",
        "matrix['shop_avg_revenue'] = matrix['shop_avg_revenue'].astype(np.float32)\n",
        "\n",
        "matrix['delta_revenue'] = (matrix['date_shop_revenue'] - matrix['shop_avg_revenue']) / matrix['shop_avg_revenue']\n",
        "matrix['delta_revenue'] = matrix['delta_revenue'].astype(np.float16)\n",
        "\n",
        "matrix = lag_feature(matrix, [1], 'delta_revenue')\n",
        "\n",
        "matrix.drop(['date_shop_revenue','shop_avg_revenue','delta_revenue'], axis=1, inplace=True)\n",
        "time.time() - ts"
      ],
      "execution_count": 0,
      "outputs": [
        {
          "output_type": "execute_result",
          "data": {
            "text/plain": [
              "26.537419080734253"
            ]
          },
          "metadata": {
            "tags": []
          },
          "execution_count": 105
        }
      ]
    },
    {
      "cell_type": "code",
      "metadata": {
        "id": "7-LXmpG6O5O6",
        "colab_type": "code",
        "colab": {}
      },
      "source": [
        "# special features"
      ],
      "execution_count": 0,
      "outputs": []
    },
    {
      "cell_type": "code",
      "metadata": {
        "id": "_-GWR5XZO5O8",
        "colab_type": "code",
        "colab": {}
      },
      "source": [
        "matrix['month'] = matrix['date_block_num'] % 12"
      ],
      "execution_count": 0,
      "outputs": []
    },
    {
      "cell_type": "code",
      "metadata": {
        "id": "H1zGV_JAO5O_",
        "colab_type": "code",
        "colab": {}
      },
      "source": [
        "days = pd.Series([31,28,31,30,31,30,31,31,30,31,30,31])\n",
        "matrix['days'] = matrix['month'].map(days).astype(np.int8)"
      ],
      "execution_count": 0,
      "outputs": []
    },
    {
      "cell_type": "code",
      "metadata": {
        "id": "Tif0RdzbO5PC",
        "colab_type": "code",
        "colab": {},
        "outputId": "ba2419f6-5779-4d8c-fa16-29c27ac22b56"
      },
      "source": [
        "ts = time.time()\n",
        "cache = {}\n",
        "matrix['item_shop_last_sale'] = -1\n",
        "matrix['item_shop_last_sale'] = matrix['item_shop_last_sale'].astype(np.int8)\n",
        "for idx, row in matrix.iterrows():\n",
        "    key = str(row.item_id)+''+str(row.shop_id)\n",
        "    if key not in cache:\n",
        "        if row.item_cnt_month != 0:\n",
        "            cache[key] = row.date_block_num\n",
        "    else:\n",
        "        last_date_block_num = cache[key]\n",
        "        matrix.at[idx, 'item_shop_last_sale'] = row.date_block_num - last_date_block_num\n",
        "        cache[key] = row.date_block_num\n",
        "time.time() - ts"
      ],
      "execution_count": 0,
      "outputs": [
        {
          "output_type": "execute_result",
          "data": {
            "text/plain": [
              "1116.8916189670563"
            ]
          },
          "metadata": {
            "tags": []
          },
          "execution_count": 109
        }
      ]
    },
    {
      "cell_type": "code",
      "metadata": {
        "id": "f9Oo8mbAO5PI",
        "colab_type": "code",
        "colab": {},
        "outputId": "865acac3-ce85-4342-822f-94dfe06072ae"
      },
      "source": [
        "ts = time.time()\n",
        "cache = {}\n",
        "matrix['item_last_sale'] = -1\n",
        "matrix['item_last_sale'] = matrix['item_last_sale'].astype(np.int8)\n",
        "for idx, row in matrix.iterrows():    \n",
        "    key = row.item_id\n",
        "    if key not in cache:\n",
        "        if row.item_cnt_month!=0:\n",
        "            cache[key] = row.date_block_num\n",
        "    else:\n",
        "        last_date_block_num = cache[key]\n",
        "        if row.date_block_num>last_date_block_num:\n",
        "            matrix.at[idx, 'item_last_sale'] = row.date_block_num - last_date_block_num\n",
        "            cache[key] = row.date_block_num         \n",
        "time.time() - ts"
      ],
      "execution_count": 0,
      "outputs": [
        {
          "output_type": "execute_result",
          "data": {
            "text/plain": [
              "751.6718275547028"
            ]
          },
          "metadata": {
            "tags": []
          },
          "execution_count": 110
        }
      ]
    },
    {
      "cell_type": "code",
      "metadata": {
        "id": "TM5qxzk2O5PM",
        "colab_type": "code",
        "colab": {}
      },
      "source": [
        "ts = time.time()\n",
        "matrix['item_shop_first_sale'] = matrix['date_block_num'] - matrix.groupby(['item_id', 'shop_id'])['date_block_num'].transform('min')\n",
        "matrix['item_first_sale'] = matrix['date_block_num'] - matrix.groupby('item_id')['date_block_num'].transform('min')"
      ],
      "execution_count": 0,
      "outputs": []
    },
    {
      "cell_type": "code",
      "metadata": {
        "scrolled": true,
        "id": "hgwhXilEO5PP",
        "colab_type": "code",
        "colab": {},
        "outputId": "4d1c8f42-6c9b-4ca8-8d1d-963b57fe226e"
      },
      "source": [
        "matrix"
      ],
      "execution_count": 0,
      "outputs": [
        {
          "output_type": "execute_result",
          "data": {
            "text/html": [
              "<div>\n",
              "<style scoped>\n",
              "    .dataframe tbody tr th:only-of-type {\n",
              "        vertical-align: middle;\n",
              "    }\n",
              "\n",
              "    .dataframe tbody tr th {\n",
              "        vertical-align: top;\n",
              "    }\n",
              "\n",
              "    .dataframe thead th {\n",
              "        text-align: right;\n",
              "    }\n",
              "</style>\n",
              "<table border=\"1\" class=\"dataframe\">\n",
              "  <thead>\n",
              "    <tr style=\"text-align: right;\">\n",
              "      <th></th>\n",
              "      <th>date_block_num</th>\n",
              "      <th>shop_id</th>\n",
              "      <th>item_id</th>\n",
              "      <th>item_cnt_month</th>\n",
              "      <th>city_code</th>\n",
              "      <th>item_category_id</th>\n",
              "      <th>type_code</th>\n",
              "      <th>subtype_code</th>\n",
              "      <th>item_cnt_month_lag_1</th>\n",
              "      <th>item_cnt_month_lag_2</th>\n",
              "      <th>...</th>\n",
              "      <th>date_type_avg_item_cnt_lag_1</th>\n",
              "      <th>date_subtype_avg_item_cnt_lag_1</th>\n",
              "      <th>delta_price_lag</th>\n",
              "      <th>delta_revenue_lag_1</th>\n",
              "      <th>month</th>\n",
              "      <th>days</th>\n",
              "      <th>item_shop_last_sale</th>\n",
              "      <th>item_last_sale</th>\n",
              "      <th>item_shop_first_sale</th>\n",
              "      <th>item_first_sale</th>\n",
              "    </tr>\n",
              "  </thead>\n",
              "  <tbody>\n",
              "    <tr>\n",
              "      <th>0</th>\n",
              "      <td>0</td>\n",
              "      <td>0</td>\n",
              "      <td>19</td>\n",
              "      <td>0.0</td>\n",
              "      <td>0</td>\n",
              "      <td>40</td>\n",
              "      <td>11</td>\n",
              "      <td>4</td>\n",
              "      <td>NaN</td>\n",
              "      <td>NaN</td>\n",
              "      <td>...</td>\n",
              "      <td>NaN</td>\n",
              "      <td>NaN</td>\n",
              "      <td>0.000000</td>\n",
              "      <td>NaN</td>\n",
              "      <td>0</td>\n",
              "      <td>31</td>\n",
              "      <td>-1</td>\n",
              "      <td>-1</td>\n",
              "      <td>0</td>\n",
              "      <td>0</td>\n",
              "    </tr>\n",
              "    <tr>\n",
              "      <th>1</th>\n",
              "      <td>0</td>\n",
              "      <td>0</td>\n",
              "      <td>27</td>\n",
              "      <td>0.0</td>\n",
              "      <td>0</td>\n",
              "      <td>19</td>\n",
              "      <td>5</td>\n",
              "      <td>10</td>\n",
              "      <td>NaN</td>\n",
              "      <td>NaN</td>\n",
              "      <td>...</td>\n",
              "      <td>NaN</td>\n",
              "      <td>NaN</td>\n",
              "      <td>0.000000</td>\n",
              "      <td>NaN</td>\n",
              "      <td>0</td>\n",
              "      <td>31</td>\n",
              "      <td>-1</td>\n",
              "      <td>-1</td>\n",
              "      <td>0</td>\n",
              "      <td>0</td>\n",
              "    </tr>\n",
              "    <tr>\n",
              "      <th>2</th>\n",
              "      <td>0</td>\n",
              "      <td>0</td>\n",
              "      <td>28</td>\n",
              "      <td>0.0</td>\n",
              "      <td>0</td>\n",
              "      <td>30</td>\n",
              "      <td>8</td>\n",
              "      <td>55</td>\n",
              "      <td>NaN</td>\n",
              "      <td>NaN</td>\n",
              "      <td>...</td>\n",
              "      <td>NaN</td>\n",
              "      <td>NaN</td>\n",
              "      <td>0.000000</td>\n",
              "      <td>NaN</td>\n",
              "      <td>0</td>\n",
              "      <td>31</td>\n",
              "      <td>-1</td>\n",
              "      <td>-1</td>\n",
              "      <td>0</td>\n",
              "      <td>0</td>\n",
              "    </tr>\n",
              "    <tr>\n",
              "      <th>3</th>\n",
              "      <td>0</td>\n",
              "      <td>0</td>\n",
              "      <td>29</td>\n",
              "      <td>0.0</td>\n",
              "      <td>0</td>\n",
              "      <td>23</td>\n",
              "      <td>5</td>\n",
              "      <td>16</td>\n",
              "      <td>NaN</td>\n",
              "      <td>NaN</td>\n",
              "      <td>...</td>\n",
              "      <td>NaN</td>\n",
              "      <td>NaN</td>\n",
              "      <td>0.000000</td>\n",
              "      <td>NaN</td>\n",
              "      <td>0</td>\n",
              "      <td>31</td>\n",
              "      <td>-1</td>\n",
              "      <td>-1</td>\n",
              "      <td>0</td>\n",
              "      <td>0</td>\n",
              "    </tr>\n",
              "    <tr>\n",
              "      <th>4</th>\n",
              "      <td>0</td>\n",
              "      <td>0</td>\n",
              "      <td>32</td>\n",
              "      <td>6.0</td>\n",
              "      <td>0</td>\n",
              "      <td>40</td>\n",
              "      <td>11</td>\n",
              "      <td>4</td>\n",
              "      <td>NaN</td>\n",
              "      <td>NaN</td>\n",
              "      <td>...</td>\n",
              "      <td>NaN</td>\n",
              "      <td>NaN</td>\n",
              "      <td>0.000000</td>\n",
              "      <td>NaN</td>\n",
              "      <td>0</td>\n",
              "      <td>31</td>\n",
              "      <td>-1</td>\n",
              "      <td>-1</td>\n",
              "      <td>0</td>\n",
              "      <td>0</td>\n",
              "    </tr>\n",
              "    <tr>\n",
              "      <th>...</th>\n",
              "      <td>...</td>\n",
              "      <td>...</td>\n",
              "      <td>...</td>\n",
              "      <td>...</td>\n",
              "      <td>...</td>\n",
              "      <td>...</td>\n",
              "      <td>...</td>\n",
              "      <td>...</td>\n",
              "      <td>...</td>\n",
              "      <td>...</td>\n",
              "      <td>...</td>\n",
              "      <td>...</td>\n",
              "      <td>...</td>\n",
              "      <td>...</td>\n",
              "      <td>...</td>\n",
              "      <td>...</td>\n",
              "      <td>...</td>\n",
              "      <td>...</td>\n",
              "      <td>...</td>\n",
              "      <td>...</td>\n",
              "      <td>...</td>\n",
              "    </tr>\n",
              "    <tr>\n",
              "      <th>11127999</th>\n",
              "      <td>34</td>\n",
              "      <td>45</td>\n",
              "      <td>18454</td>\n",
              "      <td>0.0</td>\n",
              "      <td>0</td>\n",
              "      <td>55</td>\n",
              "      <td>13</td>\n",
              "      <td>2</td>\n",
              "      <td>1.0</td>\n",
              "      <td>1.0</td>\n",
              "      <td>...</td>\n",
              "      <td>0.146973</td>\n",
              "      <td>0.196899</td>\n",
              "      <td>-0.475098</td>\n",
              "      <td>-0.290039</td>\n",
              "      <td>10</td>\n",
              "      <td>30</td>\n",
              "      <td>1</td>\n",
              "      <td>-1</td>\n",
              "      <td>11</td>\n",
              "      <td>11</td>\n",
              "    </tr>\n",
              "    <tr>\n",
              "      <th>11128000</th>\n",
              "      <td>34</td>\n",
              "      <td>45</td>\n",
              "      <td>16188</td>\n",
              "      <td>0.0</td>\n",
              "      <td>0</td>\n",
              "      <td>64</td>\n",
              "      <td>14</td>\n",
              "      <td>42</td>\n",
              "      <td>0.0</td>\n",
              "      <td>0.0</td>\n",
              "      <td>...</td>\n",
              "      <td>0.237305</td>\n",
              "      <td>0.155884</td>\n",
              "      <td>0.081116</td>\n",
              "      <td>-0.290039</td>\n",
              "      <td>10</td>\n",
              "      <td>30</td>\n",
              "      <td>-1</td>\n",
              "      <td>-1</td>\n",
              "      <td>2</td>\n",
              "      <td>2</td>\n",
              "    </tr>\n",
              "    <tr>\n",
              "      <th>11128001</th>\n",
              "      <td>34</td>\n",
              "      <td>45</td>\n",
              "      <td>15757</td>\n",
              "      <td>0.0</td>\n",
              "      <td>0</td>\n",
              "      <td>55</td>\n",
              "      <td>13</td>\n",
              "      <td>2</td>\n",
              "      <td>0.0</td>\n",
              "      <td>0.0</td>\n",
              "      <td>...</td>\n",
              "      <td>0.146973</td>\n",
              "      <td>0.196899</td>\n",
              "      <td>0.155884</td>\n",
              "      <td>-0.290039</td>\n",
              "      <td>10</td>\n",
              "      <td>30</td>\n",
              "      <td>1</td>\n",
              "      <td>-1</td>\n",
              "      <td>34</td>\n",
              "      <td>34</td>\n",
              "    </tr>\n",
              "    <tr>\n",
              "      <th>11128002</th>\n",
              "      <td>34</td>\n",
              "      <td>45</td>\n",
              "      <td>19648</td>\n",
              "      <td>0.0</td>\n",
              "      <td>0</td>\n",
              "      <td>40</td>\n",
              "      <td>11</td>\n",
              "      <td>4</td>\n",
              "      <td>0.0</td>\n",
              "      <td>0.0</td>\n",
              "      <td>...</td>\n",
              "      <td>0.224243</td>\n",
              "      <td>0.220825</td>\n",
              "      <td>-0.091736</td>\n",
              "      <td>-0.290039</td>\n",
              "      <td>10</td>\n",
              "      <td>30</td>\n",
              "      <td>-1</td>\n",
              "      <td>-1</td>\n",
              "      <td>11</td>\n",
              "      <td>11</td>\n",
              "    </tr>\n",
              "    <tr>\n",
              "      <th>11128003</th>\n",
              "      <td>34</td>\n",
              "      <td>45</td>\n",
              "      <td>969</td>\n",
              "      <td>0.0</td>\n",
              "      <td>0</td>\n",
              "      <td>37</td>\n",
              "      <td>11</td>\n",
              "      <td>1</td>\n",
              "      <td>0.0</td>\n",
              "      <td>0.0</td>\n",
              "      <td>...</td>\n",
              "      <td>0.224243</td>\n",
              "      <td>0.240967</td>\n",
              "      <td>-0.605957</td>\n",
              "      <td>-0.290039</td>\n",
              "      <td>10</td>\n",
              "      <td>30</td>\n",
              "      <td>1</td>\n",
              "      <td>-1</td>\n",
              "      <td>17</td>\n",
              "      <td>17</td>\n",
              "    </tr>\n",
              "  </tbody>\n",
              "</table>\n",
              "<p>11128004 rows × 48 columns</p>\n",
              "</div>"
            ],
            "text/plain": [
              "          date_block_num  shop_id  item_id  item_cnt_month  city_code  \\\n",
              "0                      0        0       19             0.0          0   \n",
              "1                      0        0       27             0.0          0   \n",
              "2                      0        0       28             0.0          0   \n",
              "3                      0        0       29             0.0          0   \n",
              "4                      0        0       32             6.0          0   \n",
              "...                  ...      ...      ...             ...        ...   \n",
              "11127999              34       45    18454             0.0          0   \n",
              "11128000              34       45    16188             0.0          0   \n",
              "11128001              34       45    15757             0.0          0   \n",
              "11128002              34       45    19648             0.0          0   \n",
              "11128003              34       45      969             0.0          0   \n",
              "\n",
              "          item_category_id  type_code  subtype_code  item_cnt_month_lag_1  \\\n",
              "0                       40         11             4                   NaN   \n",
              "1                       19          5            10                   NaN   \n",
              "2                       30          8            55                   NaN   \n",
              "3                       23          5            16                   NaN   \n",
              "4                       40         11             4                   NaN   \n",
              "...                    ...        ...           ...                   ...   \n",
              "11127999                55         13             2                   1.0   \n",
              "11128000                64         14            42                   0.0   \n",
              "11128001                55         13             2                   0.0   \n",
              "11128002                40         11             4                   0.0   \n",
              "11128003                37         11             1                   0.0   \n",
              "\n",
              "          item_cnt_month_lag_2  ...  date_type_avg_item_cnt_lag_1  \\\n",
              "0                          NaN  ...                           NaN   \n",
              "1                          NaN  ...                           NaN   \n",
              "2                          NaN  ...                           NaN   \n",
              "3                          NaN  ...                           NaN   \n",
              "4                          NaN  ...                           NaN   \n",
              "...                        ...  ...                           ...   \n",
              "11127999                   1.0  ...                      0.146973   \n",
              "11128000                   0.0  ...                      0.237305   \n",
              "11128001                   0.0  ...                      0.146973   \n",
              "11128002                   0.0  ...                      0.224243   \n",
              "11128003                   0.0  ...                      0.224243   \n",
              "\n",
              "          date_subtype_avg_item_cnt_lag_1  delta_price_lag  \\\n",
              "0                                     NaN         0.000000   \n",
              "1                                     NaN         0.000000   \n",
              "2                                     NaN         0.000000   \n",
              "3                                     NaN         0.000000   \n",
              "4                                     NaN         0.000000   \n",
              "...                                   ...              ...   \n",
              "11127999                         0.196899        -0.475098   \n",
              "11128000                         0.155884         0.081116   \n",
              "11128001                         0.196899         0.155884   \n",
              "11128002                         0.220825        -0.091736   \n",
              "11128003                         0.240967        -0.605957   \n",
              "\n",
              "          delta_revenue_lag_1  month  days  item_shop_last_sale  \\\n",
              "0                         NaN      0    31                   -1   \n",
              "1                         NaN      0    31                   -1   \n",
              "2                         NaN      0    31                   -1   \n",
              "3                         NaN      0    31                   -1   \n",
              "4                         NaN      0    31                   -1   \n",
              "...                       ...    ...   ...                  ...   \n",
              "11127999            -0.290039     10    30                    1   \n",
              "11128000            -0.290039     10    30                   -1   \n",
              "11128001            -0.290039     10    30                    1   \n",
              "11128002            -0.290039     10    30                   -1   \n",
              "11128003            -0.290039     10    30                    1   \n",
              "\n",
              "          item_last_sale  item_shop_first_sale  item_first_sale  \n",
              "0                     -1                     0                0  \n",
              "1                     -1                     0                0  \n",
              "2                     -1                     0                0  \n",
              "3                     -1                     0                0  \n",
              "4                     -1                     0                0  \n",
              "...                  ...                   ...              ...  \n",
              "11127999              -1                    11               11  \n",
              "11128000              -1                     2                2  \n",
              "11128001              -1                    34               34  \n",
              "11128002              -1                    11               11  \n",
              "11128003              -1                    17               17  \n",
              "\n",
              "[11128004 rows x 48 columns]"
            ]
          },
          "metadata": {
            "tags": []
          },
          "execution_count": 112
        }
      ]
    },
    {
      "cell_type": "code",
      "metadata": {
        "id": "cdmKVARAO5PS",
        "colab_type": "code",
        "colab": {},
        "outputId": "ec673ad9-652a-450f-f10a-78db5b724ec8"
      },
      "source": [
        "time.time() - ts"
      ],
      "execution_count": 0,
      "outputs": [
        {
          "output_type": "execute_result",
          "data": {
            "text/plain": [
              "7.240988731384277"
            ]
          },
          "metadata": {
            "tags": []
          },
          "execution_count": 113
        }
      ]
    },
    {
      "cell_type": "code",
      "metadata": {
        "id": "DFiqsqLjO5PV",
        "colab_type": "code",
        "colab": {}
      },
      "source": [
        "ts = time.time()\n",
        "matrix = matrix[matrix.date_block_num > 11]"
      ],
      "execution_count": 0,
      "outputs": []
    },
    {
      "cell_type": "code",
      "metadata": {
        "id": "7VBcFvOqO5PY",
        "colab_type": "code",
        "colab": {},
        "outputId": "35d82dea-39f4-45c1-b7ed-901435e5da1e"
      },
      "source": [
        "matrix"
      ],
      "execution_count": 0,
      "outputs": [
        {
          "output_type": "execute_result",
          "data": {
            "text/html": [
              "<div>\n",
              "<style scoped>\n",
              "    .dataframe tbody tr th:only-of-type {\n",
              "        vertical-align: middle;\n",
              "    }\n",
              "\n",
              "    .dataframe tbody tr th {\n",
              "        vertical-align: top;\n",
              "    }\n",
              "\n",
              "    .dataframe thead th {\n",
              "        text-align: right;\n",
              "    }\n",
              "</style>\n",
              "<table border=\"1\" class=\"dataframe\">\n",
              "  <thead>\n",
              "    <tr style=\"text-align: right;\">\n",
              "      <th></th>\n",
              "      <th>date_block_num</th>\n",
              "      <th>shop_id</th>\n",
              "      <th>item_id</th>\n",
              "      <th>item_cnt_month</th>\n",
              "      <th>city_code</th>\n",
              "      <th>item_category_id</th>\n",
              "      <th>type_code</th>\n",
              "      <th>subtype_code</th>\n",
              "      <th>item_cnt_month_lag_1</th>\n",
              "      <th>item_cnt_month_lag_2</th>\n",
              "      <th>...</th>\n",
              "      <th>date_type_avg_item_cnt_lag_1</th>\n",
              "      <th>date_subtype_avg_item_cnt_lag_1</th>\n",
              "      <th>delta_price_lag</th>\n",
              "      <th>delta_revenue_lag_1</th>\n",
              "      <th>month</th>\n",
              "      <th>days</th>\n",
              "      <th>item_shop_last_sale</th>\n",
              "      <th>item_last_sale</th>\n",
              "      <th>item_shop_first_sale</th>\n",
              "      <th>item_first_sale</th>\n",
              "    </tr>\n",
              "  </thead>\n",
              "  <tbody>\n",
              "    <tr>\n",
              "      <th>4488710</th>\n",
              "      <td>12</td>\n",
              "      <td>2</td>\n",
              "      <td>27</td>\n",
              "      <td>0.0</td>\n",
              "      <td>0</td>\n",
              "      <td>19</td>\n",
              "      <td>5</td>\n",
              "      <td>10</td>\n",
              "      <td>0.0</td>\n",
              "      <td>0.0</td>\n",
              "      <td>...</td>\n",
              "      <td>1.034180</td>\n",
              "      <td>1.075195</td>\n",
              "      <td>-0.282715</td>\n",
              "      <td>1.211914</td>\n",
              "      <td>0</td>\n",
              "      <td>31</td>\n",
              "      <td>1</td>\n",
              "      <td>1</td>\n",
              "      <td>12</td>\n",
              "      <td>12</td>\n",
              "    </tr>\n",
              "    <tr>\n",
              "      <th>4488711</th>\n",
              "      <td>12</td>\n",
              "      <td>2</td>\n",
              "      <td>30</td>\n",
              "      <td>0.0</td>\n",
              "      <td>0</td>\n",
              "      <td>40</td>\n",
              "      <td>11</td>\n",
              "      <td>4</td>\n",
              "      <td>0.0</td>\n",
              "      <td>0.0</td>\n",
              "      <td>...</td>\n",
              "      <td>0.270020</td>\n",
              "      <td>0.291504</td>\n",
              "      <td>-0.483398</td>\n",
              "      <td>1.211914</td>\n",
              "      <td>0</td>\n",
              "      <td>31</td>\n",
              "      <td>1</td>\n",
              "      <td>1</td>\n",
              "      <td>11</td>\n",
              "      <td>11</td>\n",
              "    </tr>\n",
              "    <tr>\n",
              "      <th>4488712</th>\n",
              "      <td>12</td>\n",
              "      <td>2</td>\n",
              "      <td>31</td>\n",
              "      <td>0.0</td>\n",
              "      <td>0</td>\n",
              "      <td>37</td>\n",
              "      <td>11</td>\n",
              "      <td>1</td>\n",
              "      <td>0.0</td>\n",
              "      <td>0.0</td>\n",
              "      <td>...</td>\n",
              "      <td>0.270020</td>\n",
              "      <td>0.234009</td>\n",
              "      <td>-0.137451</td>\n",
              "      <td>1.211914</td>\n",
              "      <td>0</td>\n",
              "      <td>31</td>\n",
              "      <td>1</td>\n",
              "      <td>1</td>\n",
              "      <td>11</td>\n",
              "      <td>11</td>\n",
              "    </tr>\n",
              "    <tr>\n",
              "      <th>4488713</th>\n",
              "      <td>12</td>\n",
              "      <td>2</td>\n",
              "      <td>32</td>\n",
              "      <td>1.0</td>\n",
              "      <td>0</td>\n",
              "      <td>40</td>\n",
              "      <td>11</td>\n",
              "      <td>4</td>\n",
              "      <td>0.0</td>\n",
              "      <td>0.0</td>\n",
              "      <td>...</td>\n",
              "      <td>0.270020</td>\n",
              "      <td>0.291504</td>\n",
              "      <td>-0.407227</td>\n",
              "      <td>1.211914</td>\n",
              "      <td>0</td>\n",
              "      <td>31</td>\n",
              "      <td>-1</td>\n",
              "      <td>1</td>\n",
              "      <td>12</td>\n",
              "      <td>12</td>\n",
              "    </tr>\n",
              "    <tr>\n",
              "      <th>4488714</th>\n",
              "      <td>12</td>\n",
              "      <td>2</td>\n",
              "      <td>33</td>\n",
              "      <td>1.0</td>\n",
              "      <td>0</td>\n",
              "      <td>37</td>\n",
              "      <td>11</td>\n",
              "      <td>1</td>\n",
              "      <td>1.0</td>\n",
              "      <td>1.0</td>\n",
              "      <td>...</td>\n",
              "      <td>0.270020</td>\n",
              "      <td>0.234009</td>\n",
              "      <td>-0.225464</td>\n",
              "      <td>1.211914</td>\n",
              "      <td>0</td>\n",
              "      <td>31</td>\n",
              "      <td>1</td>\n",
              "      <td>1</td>\n",
              "      <td>12</td>\n",
              "      <td>12</td>\n",
              "    </tr>\n",
              "    <tr>\n",
              "      <th>...</th>\n",
              "      <td>...</td>\n",
              "      <td>...</td>\n",
              "      <td>...</td>\n",
              "      <td>...</td>\n",
              "      <td>...</td>\n",
              "      <td>...</td>\n",
              "      <td>...</td>\n",
              "      <td>...</td>\n",
              "      <td>...</td>\n",
              "      <td>...</td>\n",
              "      <td>...</td>\n",
              "      <td>...</td>\n",
              "      <td>...</td>\n",
              "      <td>...</td>\n",
              "      <td>...</td>\n",
              "      <td>...</td>\n",
              "      <td>...</td>\n",
              "      <td>...</td>\n",
              "      <td>...</td>\n",
              "      <td>...</td>\n",
              "      <td>...</td>\n",
              "    </tr>\n",
              "    <tr>\n",
              "      <th>11127999</th>\n",
              "      <td>34</td>\n",
              "      <td>45</td>\n",
              "      <td>18454</td>\n",
              "      <td>0.0</td>\n",
              "      <td>0</td>\n",
              "      <td>55</td>\n",
              "      <td>13</td>\n",
              "      <td>2</td>\n",
              "      <td>1.0</td>\n",
              "      <td>1.0</td>\n",
              "      <td>...</td>\n",
              "      <td>0.146973</td>\n",
              "      <td>0.196899</td>\n",
              "      <td>-0.475098</td>\n",
              "      <td>-0.290039</td>\n",
              "      <td>10</td>\n",
              "      <td>30</td>\n",
              "      <td>1</td>\n",
              "      <td>-1</td>\n",
              "      <td>11</td>\n",
              "      <td>11</td>\n",
              "    </tr>\n",
              "    <tr>\n",
              "      <th>11128000</th>\n",
              "      <td>34</td>\n",
              "      <td>45</td>\n",
              "      <td>16188</td>\n",
              "      <td>0.0</td>\n",
              "      <td>0</td>\n",
              "      <td>64</td>\n",
              "      <td>14</td>\n",
              "      <td>42</td>\n",
              "      <td>0.0</td>\n",
              "      <td>0.0</td>\n",
              "      <td>...</td>\n",
              "      <td>0.237305</td>\n",
              "      <td>0.155884</td>\n",
              "      <td>0.081116</td>\n",
              "      <td>-0.290039</td>\n",
              "      <td>10</td>\n",
              "      <td>30</td>\n",
              "      <td>-1</td>\n",
              "      <td>-1</td>\n",
              "      <td>2</td>\n",
              "      <td>2</td>\n",
              "    </tr>\n",
              "    <tr>\n",
              "      <th>11128001</th>\n",
              "      <td>34</td>\n",
              "      <td>45</td>\n",
              "      <td>15757</td>\n",
              "      <td>0.0</td>\n",
              "      <td>0</td>\n",
              "      <td>55</td>\n",
              "      <td>13</td>\n",
              "      <td>2</td>\n",
              "      <td>0.0</td>\n",
              "      <td>0.0</td>\n",
              "      <td>...</td>\n",
              "      <td>0.146973</td>\n",
              "      <td>0.196899</td>\n",
              "      <td>0.155884</td>\n",
              "      <td>-0.290039</td>\n",
              "      <td>10</td>\n",
              "      <td>30</td>\n",
              "      <td>1</td>\n",
              "      <td>-1</td>\n",
              "      <td>34</td>\n",
              "      <td>34</td>\n",
              "    </tr>\n",
              "    <tr>\n",
              "      <th>11128002</th>\n",
              "      <td>34</td>\n",
              "      <td>45</td>\n",
              "      <td>19648</td>\n",
              "      <td>0.0</td>\n",
              "      <td>0</td>\n",
              "      <td>40</td>\n",
              "      <td>11</td>\n",
              "      <td>4</td>\n",
              "      <td>0.0</td>\n",
              "      <td>0.0</td>\n",
              "      <td>...</td>\n",
              "      <td>0.224243</td>\n",
              "      <td>0.220825</td>\n",
              "      <td>-0.091736</td>\n",
              "      <td>-0.290039</td>\n",
              "      <td>10</td>\n",
              "      <td>30</td>\n",
              "      <td>-1</td>\n",
              "      <td>-1</td>\n",
              "      <td>11</td>\n",
              "      <td>11</td>\n",
              "    </tr>\n",
              "    <tr>\n",
              "      <th>11128003</th>\n",
              "      <td>34</td>\n",
              "      <td>45</td>\n",
              "      <td>969</td>\n",
              "      <td>0.0</td>\n",
              "      <td>0</td>\n",
              "      <td>37</td>\n",
              "      <td>11</td>\n",
              "      <td>1</td>\n",
              "      <td>0.0</td>\n",
              "      <td>0.0</td>\n",
              "      <td>...</td>\n",
              "      <td>0.224243</td>\n",
              "      <td>0.240967</td>\n",
              "      <td>-0.605957</td>\n",
              "      <td>-0.290039</td>\n",
              "      <td>10</td>\n",
              "      <td>30</td>\n",
              "      <td>1</td>\n",
              "      <td>-1</td>\n",
              "      <td>17</td>\n",
              "      <td>17</td>\n",
              "    </tr>\n",
              "  </tbody>\n",
              "</table>\n",
              "<p>6639294 rows × 48 columns</p>\n",
              "</div>"
            ],
            "text/plain": [
              "          date_block_num  shop_id  item_id  item_cnt_month  city_code  \\\n",
              "4488710               12        2       27             0.0          0   \n",
              "4488711               12        2       30             0.0          0   \n",
              "4488712               12        2       31             0.0          0   \n",
              "4488713               12        2       32             1.0          0   \n",
              "4488714               12        2       33             1.0          0   \n",
              "...                  ...      ...      ...             ...        ...   \n",
              "11127999              34       45    18454             0.0          0   \n",
              "11128000              34       45    16188             0.0          0   \n",
              "11128001              34       45    15757             0.0          0   \n",
              "11128002              34       45    19648             0.0          0   \n",
              "11128003              34       45      969             0.0          0   \n",
              "\n",
              "          item_category_id  type_code  subtype_code  item_cnt_month_lag_1  \\\n",
              "4488710                 19          5            10                   0.0   \n",
              "4488711                 40         11             4                   0.0   \n",
              "4488712                 37         11             1                   0.0   \n",
              "4488713                 40         11             4                   0.0   \n",
              "4488714                 37         11             1                   1.0   \n",
              "...                    ...        ...           ...                   ...   \n",
              "11127999                55         13             2                   1.0   \n",
              "11128000                64         14            42                   0.0   \n",
              "11128001                55         13             2                   0.0   \n",
              "11128002                40         11             4                   0.0   \n",
              "11128003                37         11             1                   0.0   \n",
              "\n",
              "          item_cnt_month_lag_2  ...  date_type_avg_item_cnt_lag_1  \\\n",
              "4488710                    0.0  ...                      1.034180   \n",
              "4488711                    0.0  ...                      0.270020   \n",
              "4488712                    0.0  ...                      0.270020   \n",
              "4488713                    0.0  ...                      0.270020   \n",
              "4488714                    1.0  ...                      0.270020   \n",
              "...                        ...  ...                           ...   \n",
              "11127999                   1.0  ...                      0.146973   \n",
              "11128000                   0.0  ...                      0.237305   \n",
              "11128001                   0.0  ...                      0.146973   \n",
              "11128002                   0.0  ...                      0.224243   \n",
              "11128003                   0.0  ...                      0.224243   \n",
              "\n",
              "          date_subtype_avg_item_cnt_lag_1  delta_price_lag  \\\n",
              "4488710                          1.075195        -0.282715   \n",
              "4488711                          0.291504        -0.483398   \n",
              "4488712                          0.234009        -0.137451   \n",
              "4488713                          0.291504        -0.407227   \n",
              "4488714                          0.234009        -0.225464   \n",
              "...                                   ...              ...   \n",
              "11127999                         0.196899        -0.475098   \n",
              "11128000                         0.155884         0.081116   \n",
              "11128001                         0.196899         0.155884   \n",
              "11128002                         0.220825        -0.091736   \n",
              "11128003                         0.240967        -0.605957   \n",
              "\n",
              "          delta_revenue_lag_1  month  days  item_shop_last_sale  \\\n",
              "4488710              1.211914      0    31                    1   \n",
              "4488711              1.211914      0    31                    1   \n",
              "4488712              1.211914      0    31                    1   \n",
              "4488713              1.211914      0    31                   -1   \n",
              "4488714              1.211914      0    31                    1   \n",
              "...                       ...    ...   ...                  ...   \n",
              "11127999            -0.290039     10    30                    1   \n",
              "11128000            -0.290039     10    30                   -1   \n",
              "11128001            -0.290039     10    30                    1   \n",
              "11128002            -0.290039     10    30                   -1   \n",
              "11128003            -0.290039     10    30                    1   \n",
              "\n",
              "          item_last_sale  item_shop_first_sale  item_first_sale  \n",
              "4488710                1                    12               12  \n",
              "4488711                1                    11               11  \n",
              "4488712                1                    11               11  \n",
              "4488713                1                    12               12  \n",
              "4488714                1                    12               12  \n",
              "...                  ...                   ...              ...  \n",
              "11127999              -1                    11               11  \n",
              "11128000              -1                     2                2  \n",
              "11128001              -1                    34               34  \n",
              "11128002              -1                    11               11  \n",
              "11128003              -1                    17               17  \n",
              "\n",
              "[6639294 rows x 48 columns]"
            ]
          },
          "metadata": {
            "tags": []
          },
          "execution_count": 115
        }
      ]
    },
    {
      "cell_type": "code",
      "metadata": {
        "id": "qZenij5HO5Pb",
        "colab_type": "code",
        "colab": {},
        "outputId": "867df073-e3ad-48f4-e676-9e2de4a4bf13"
      },
      "source": [
        "time.time() - ts"
      ],
      "execution_count": 0,
      "outputs": [
        {
          "output_type": "execute_result",
          "data": {
            "text/plain": [
              "4.096824645996094"
            ]
          },
          "metadata": {
            "tags": []
          },
          "execution_count": 116
        }
      ]
    },
    {
      "cell_type": "code",
      "metadata": {
        "id": "2b9k6l9dO5Pd",
        "colab_type": "code",
        "colab": {}
      },
      "source": [
        "ts = time.time()\n",
        "def fill_na(df):\n",
        "    for col in df.columns:\n",
        "        if ('_lag_' in col) & (df[col].isnull().any()):\n",
        "            if ('item_cnt' in col):\n",
        "                df[col].fillna(0, inplace=True)\n",
        "    return df"
      ],
      "execution_count": 0,
      "outputs": []
    },
    {
      "cell_type": "code",
      "metadata": {
        "id": "9fd8Cm9EO5Ph",
        "colab_type": "code",
        "colab": {}
      },
      "source": [
        "matrix = fill_na(matrix)"
      ],
      "execution_count": 0,
      "outputs": []
    },
    {
      "cell_type": "code",
      "metadata": {
        "id": "F71zy_94O5Pt",
        "colab_type": "code",
        "colab": {},
        "outputId": "10098211-f198-45a5-e854-337219535a6b"
      },
      "source": [
        "matrix"
      ],
      "execution_count": 0,
      "outputs": [
        {
          "output_type": "execute_result",
          "data": {
            "text/html": [
              "<div>\n",
              "<style scoped>\n",
              "    .dataframe tbody tr th:only-of-type {\n",
              "        vertical-align: middle;\n",
              "    }\n",
              "\n",
              "    .dataframe tbody tr th {\n",
              "        vertical-align: top;\n",
              "    }\n",
              "\n",
              "    .dataframe thead th {\n",
              "        text-align: right;\n",
              "    }\n",
              "</style>\n",
              "<table border=\"1\" class=\"dataframe\">\n",
              "  <thead>\n",
              "    <tr style=\"text-align: right;\">\n",
              "      <th></th>\n",
              "      <th>date_block_num</th>\n",
              "      <th>shop_id</th>\n",
              "      <th>item_id</th>\n",
              "      <th>item_cnt_month</th>\n",
              "      <th>city_code</th>\n",
              "      <th>item_category_id</th>\n",
              "      <th>type_code</th>\n",
              "      <th>subtype_code</th>\n",
              "      <th>item_cnt_month_lag_1</th>\n",
              "      <th>item_cnt_month_lag_2</th>\n",
              "      <th>...</th>\n",
              "      <th>date_type_avg_item_cnt_lag_1</th>\n",
              "      <th>date_subtype_avg_item_cnt_lag_1</th>\n",
              "      <th>delta_price_lag</th>\n",
              "      <th>delta_revenue_lag_1</th>\n",
              "      <th>month</th>\n",
              "      <th>days</th>\n",
              "      <th>item_shop_last_sale</th>\n",
              "      <th>item_last_sale</th>\n",
              "      <th>item_shop_first_sale</th>\n",
              "      <th>item_first_sale</th>\n",
              "    </tr>\n",
              "  </thead>\n",
              "  <tbody>\n",
              "    <tr>\n",
              "      <th>4488710</th>\n",
              "      <td>12</td>\n",
              "      <td>2</td>\n",
              "      <td>27</td>\n",
              "      <td>0.0</td>\n",
              "      <td>0</td>\n",
              "      <td>19</td>\n",
              "      <td>5</td>\n",
              "      <td>10</td>\n",
              "      <td>0.0</td>\n",
              "      <td>0.0</td>\n",
              "      <td>...</td>\n",
              "      <td>1.034180</td>\n",
              "      <td>1.075195</td>\n",
              "      <td>-0.282715</td>\n",
              "      <td>1.211914</td>\n",
              "      <td>0</td>\n",
              "      <td>31</td>\n",
              "      <td>1</td>\n",
              "      <td>1</td>\n",
              "      <td>12</td>\n",
              "      <td>12</td>\n",
              "    </tr>\n",
              "    <tr>\n",
              "      <th>4488711</th>\n",
              "      <td>12</td>\n",
              "      <td>2</td>\n",
              "      <td>30</td>\n",
              "      <td>0.0</td>\n",
              "      <td>0</td>\n",
              "      <td>40</td>\n",
              "      <td>11</td>\n",
              "      <td>4</td>\n",
              "      <td>0.0</td>\n",
              "      <td>0.0</td>\n",
              "      <td>...</td>\n",
              "      <td>0.270020</td>\n",
              "      <td>0.291504</td>\n",
              "      <td>-0.483398</td>\n",
              "      <td>1.211914</td>\n",
              "      <td>0</td>\n",
              "      <td>31</td>\n",
              "      <td>1</td>\n",
              "      <td>1</td>\n",
              "      <td>11</td>\n",
              "      <td>11</td>\n",
              "    </tr>\n",
              "    <tr>\n",
              "      <th>4488712</th>\n",
              "      <td>12</td>\n",
              "      <td>2</td>\n",
              "      <td>31</td>\n",
              "      <td>0.0</td>\n",
              "      <td>0</td>\n",
              "      <td>37</td>\n",
              "      <td>11</td>\n",
              "      <td>1</td>\n",
              "      <td>0.0</td>\n",
              "      <td>0.0</td>\n",
              "      <td>...</td>\n",
              "      <td>0.270020</td>\n",
              "      <td>0.234009</td>\n",
              "      <td>-0.137451</td>\n",
              "      <td>1.211914</td>\n",
              "      <td>0</td>\n",
              "      <td>31</td>\n",
              "      <td>1</td>\n",
              "      <td>1</td>\n",
              "      <td>11</td>\n",
              "      <td>11</td>\n",
              "    </tr>\n",
              "    <tr>\n",
              "      <th>4488713</th>\n",
              "      <td>12</td>\n",
              "      <td>2</td>\n",
              "      <td>32</td>\n",
              "      <td>1.0</td>\n",
              "      <td>0</td>\n",
              "      <td>40</td>\n",
              "      <td>11</td>\n",
              "      <td>4</td>\n",
              "      <td>0.0</td>\n",
              "      <td>0.0</td>\n",
              "      <td>...</td>\n",
              "      <td>0.270020</td>\n",
              "      <td>0.291504</td>\n",
              "      <td>-0.407227</td>\n",
              "      <td>1.211914</td>\n",
              "      <td>0</td>\n",
              "      <td>31</td>\n",
              "      <td>-1</td>\n",
              "      <td>1</td>\n",
              "      <td>12</td>\n",
              "      <td>12</td>\n",
              "    </tr>\n",
              "    <tr>\n",
              "      <th>4488714</th>\n",
              "      <td>12</td>\n",
              "      <td>2</td>\n",
              "      <td>33</td>\n",
              "      <td>1.0</td>\n",
              "      <td>0</td>\n",
              "      <td>37</td>\n",
              "      <td>11</td>\n",
              "      <td>1</td>\n",
              "      <td>1.0</td>\n",
              "      <td>1.0</td>\n",
              "      <td>...</td>\n",
              "      <td>0.270020</td>\n",
              "      <td>0.234009</td>\n",
              "      <td>-0.225464</td>\n",
              "      <td>1.211914</td>\n",
              "      <td>0</td>\n",
              "      <td>31</td>\n",
              "      <td>1</td>\n",
              "      <td>1</td>\n",
              "      <td>12</td>\n",
              "      <td>12</td>\n",
              "    </tr>\n",
              "    <tr>\n",
              "      <th>...</th>\n",
              "      <td>...</td>\n",
              "      <td>...</td>\n",
              "      <td>...</td>\n",
              "      <td>...</td>\n",
              "      <td>...</td>\n",
              "      <td>...</td>\n",
              "      <td>...</td>\n",
              "      <td>...</td>\n",
              "      <td>...</td>\n",
              "      <td>...</td>\n",
              "      <td>...</td>\n",
              "      <td>...</td>\n",
              "      <td>...</td>\n",
              "      <td>...</td>\n",
              "      <td>...</td>\n",
              "      <td>...</td>\n",
              "      <td>...</td>\n",
              "      <td>...</td>\n",
              "      <td>...</td>\n",
              "      <td>...</td>\n",
              "      <td>...</td>\n",
              "    </tr>\n",
              "    <tr>\n",
              "      <th>11127999</th>\n",
              "      <td>34</td>\n",
              "      <td>45</td>\n",
              "      <td>18454</td>\n",
              "      <td>0.0</td>\n",
              "      <td>0</td>\n",
              "      <td>55</td>\n",
              "      <td>13</td>\n",
              "      <td>2</td>\n",
              "      <td>1.0</td>\n",
              "      <td>1.0</td>\n",
              "      <td>...</td>\n",
              "      <td>0.146973</td>\n",
              "      <td>0.196899</td>\n",
              "      <td>-0.475098</td>\n",
              "      <td>-0.290039</td>\n",
              "      <td>10</td>\n",
              "      <td>30</td>\n",
              "      <td>1</td>\n",
              "      <td>-1</td>\n",
              "      <td>11</td>\n",
              "      <td>11</td>\n",
              "    </tr>\n",
              "    <tr>\n",
              "      <th>11128000</th>\n",
              "      <td>34</td>\n",
              "      <td>45</td>\n",
              "      <td>16188</td>\n",
              "      <td>0.0</td>\n",
              "      <td>0</td>\n",
              "      <td>64</td>\n",
              "      <td>14</td>\n",
              "      <td>42</td>\n",
              "      <td>0.0</td>\n",
              "      <td>0.0</td>\n",
              "      <td>...</td>\n",
              "      <td>0.237305</td>\n",
              "      <td>0.155884</td>\n",
              "      <td>0.081116</td>\n",
              "      <td>-0.290039</td>\n",
              "      <td>10</td>\n",
              "      <td>30</td>\n",
              "      <td>-1</td>\n",
              "      <td>-1</td>\n",
              "      <td>2</td>\n",
              "      <td>2</td>\n",
              "    </tr>\n",
              "    <tr>\n",
              "      <th>11128001</th>\n",
              "      <td>34</td>\n",
              "      <td>45</td>\n",
              "      <td>15757</td>\n",
              "      <td>0.0</td>\n",
              "      <td>0</td>\n",
              "      <td>55</td>\n",
              "      <td>13</td>\n",
              "      <td>2</td>\n",
              "      <td>0.0</td>\n",
              "      <td>0.0</td>\n",
              "      <td>...</td>\n",
              "      <td>0.146973</td>\n",
              "      <td>0.196899</td>\n",
              "      <td>0.155884</td>\n",
              "      <td>-0.290039</td>\n",
              "      <td>10</td>\n",
              "      <td>30</td>\n",
              "      <td>1</td>\n",
              "      <td>-1</td>\n",
              "      <td>34</td>\n",
              "      <td>34</td>\n",
              "    </tr>\n",
              "    <tr>\n",
              "      <th>11128002</th>\n",
              "      <td>34</td>\n",
              "      <td>45</td>\n",
              "      <td>19648</td>\n",
              "      <td>0.0</td>\n",
              "      <td>0</td>\n",
              "      <td>40</td>\n",
              "      <td>11</td>\n",
              "      <td>4</td>\n",
              "      <td>0.0</td>\n",
              "      <td>0.0</td>\n",
              "      <td>...</td>\n",
              "      <td>0.224243</td>\n",
              "      <td>0.220825</td>\n",
              "      <td>-0.091736</td>\n",
              "      <td>-0.290039</td>\n",
              "      <td>10</td>\n",
              "      <td>30</td>\n",
              "      <td>-1</td>\n",
              "      <td>-1</td>\n",
              "      <td>11</td>\n",
              "      <td>11</td>\n",
              "    </tr>\n",
              "    <tr>\n",
              "      <th>11128003</th>\n",
              "      <td>34</td>\n",
              "      <td>45</td>\n",
              "      <td>969</td>\n",
              "      <td>0.0</td>\n",
              "      <td>0</td>\n",
              "      <td>37</td>\n",
              "      <td>11</td>\n",
              "      <td>1</td>\n",
              "      <td>0.0</td>\n",
              "      <td>0.0</td>\n",
              "      <td>...</td>\n",
              "      <td>0.224243</td>\n",
              "      <td>0.240967</td>\n",
              "      <td>-0.605957</td>\n",
              "      <td>-0.290039</td>\n",
              "      <td>10</td>\n",
              "      <td>30</td>\n",
              "      <td>1</td>\n",
              "      <td>-1</td>\n",
              "      <td>17</td>\n",
              "      <td>17</td>\n",
              "    </tr>\n",
              "  </tbody>\n",
              "</table>\n",
              "<p>6639294 rows × 48 columns</p>\n",
              "</div>"
            ],
            "text/plain": [
              "          date_block_num  shop_id  item_id  item_cnt_month  city_code  \\\n",
              "4488710               12        2       27             0.0          0   \n",
              "4488711               12        2       30             0.0          0   \n",
              "4488712               12        2       31             0.0          0   \n",
              "4488713               12        2       32             1.0          0   \n",
              "4488714               12        2       33             1.0          0   \n",
              "...                  ...      ...      ...             ...        ...   \n",
              "11127999              34       45    18454             0.0          0   \n",
              "11128000              34       45    16188             0.0          0   \n",
              "11128001              34       45    15757             0.0          0   \n",
              "11128002              34       45    19648             0.0          0   \n",
              "11128003              34       45      969             0.0          0   \n",
              "\n",
              "          item_category_id  type_code  subtype_code  item_cnt_month_lag_1  \\\n",
              "4488710                 19          5            10                   0.0   \n",
              "4488711                 40         11             4                   0.0   \n",
              "4488712                 37         11             1                   0.0   \n",
              "4488713                 40         11             4                   0.0   \n",
              "4488714                 37         11             1                   1.0   \n",
              "...                    ...        ...           ...                   ...   \n",
              "11127999                55         13             2                   1.0   \n",
              "11128000                64         14            42                   0.0   \n",
              "11128001                55         13             2                   0.0   \n",
              "11128002                40         11             4                   0.0   \n",
              "11128003                37         11             1                   0.0   \n",
              "\n",
              "          item_cnt_month_lag_2  ...  date_type_avg_item_cnt_lag_1  \\\n",
              "4488710                    0.0  ...                      1.034180   \n",
              "4488711                    0.0  ...                      0.270020   \n",
              "4488712                    0.0  ...                      0.270020   \n",
              "4488713                    0.0  ...                      0.270020   \n",
              "4488714                    1.0  ...                      0.270020   \n",
              "...                        ...  ...                           ...   \n",
              "11127999                   1.0  ...                      0.146973   \n",
              "11128000                   0.0  ...                      0.237305   \n",
              "11128001                   0.0  ...                      0.146973   \n",
              "11128002                   0.0  ...                      0.224243   \n",
              "11128003                   0.0  ...                      0.224243   \n",
              "\n",
              "          date_subtype_avg_item_cnt_lag_1  delta_price_lag  \\\n",
              "4488710                          1.075195        -0.282715   \n",
              "4488711                          0.291504        -0.483398   \n",
              "4488712                          0.234009        -0.137451   \n",
              "4488713                          0.291504        -0.407227   \n",
              "4488714                          0.234009        -0.225464   \n",
              "...                                   ...              ...   \n",
              "11127999                         0.196899        -0.475098   \n",
              "11128000                         0.155884         0.081116   \n",
              "11128001                         0.196899         0.155884   \n",
              "11128002                         0.220825        -0.091736   \n",
              "11128003                         0.240967        -0.605957   \n",
              "\n",
              "          delta_revenue_lag_1  month  days  item_shop_last_sale  \\\n",
              "4488710              1.211914      0    31                    1   \n",
              "4488711              1.211914      0    31                    1   \n",
              "4488712              1.211914      0    31                    1   \n",
              "4488713              1.211914      0    31                   -1   \n",
              "4488714              1.211914      0    31                    1   \n",
              "...                       ...    ...   ...                  ...   \n",
              "11127999            -0.290039     10    30                    1   \n",
              "11128000            -0.290039     10    30                   -1   \n",
              "11128001            -0.290039     10    30                    1   \n",
              "11128002            -0.290039     10    30                   -1   \n",
              "11128003            -0.290039     10    30                    1   \n",
              "\n",
              "          item_last_sale  item_shop_first_sale  item_first_sale  \n",
              "4488710                1                    12               12  \n",
              "4488711                1                    11               11  \n",
              "4488712                1                    11               11  \n",
              "4488713                1                    12               12  \n",
              "4488714                1                    12               12  \n",
              "...                  ...                   ...              ...  \n",
              "11127999              -1                    11               11  \n",
              "11128000              -1                     2                2  \n",
              "11128001              -1                    34               34  \n",
              "11128002              -1                    11               11  \n",
              "11128003              -1                    17               17  \n",
              "\n",
              "[6639294 rows x 48 columns]"
            ]
          },
          "metadata": {
            "tags": []
          },
          "execution_count": 119
        }
      ]
    },
    {
      "cell_type": "code",
      "metadata": {
        "id": "vJb0MtorO5Px",
        "colab_type": "code",
        "colab": {},
        "outputId": "e5d1385b-dd1c-4de2-988d-ff1a5c4336db"
      },
      "source": [
        "time.time() - ts"
      ],
      "execution_count": 0,
      "outputs": [
        {
          "output_type": "execute_result",
          "data": {
            "text/plain": [
              "4.780782222747803"
            ]
          },
          "metadata": {
            "tags": []
          },
          "execution_count": 120
        }
      ]
    },
    {
      "cell_type": "code",
      "metadata": {
        "id": "JH90tpOoO5P4",
        "colab_type": "code",
        "colab": {},
        "outputId": "b6bae692-1a4f-46ee-fe17-de463579b411"
      },
      "source": [
        "matrix.columns"
      ],
      "execution_count": 0,
      "outputs": [
        {
          "output_type": "execute_result",
          "data": {
            "text/plain": [
              "Index(['date_block_num', 'shop_id', 'item_id', 'item_cnt_month', 'city_code',\n",
              "       'item_category_id', 'type_code', 'subtype_code', 'item_cnt_month_lag_1',\n",
              "       'item_cnt_month_lag_2', 'item_cnt_month_lag_3', 'item_cnt_month_lag_6',\n",
              "       'item_cnt_month_lag_12', 'date_avg_item_cnt_lag_1',\n",
              "       'date_item_avg_item_cnt_lag_1', 'date_item_avg_item_cnt_lag_2',\n",
              "       'date_item_avg_item_cnt_lag_3', 'date_item_avg_item_cnt_lag_6',\n",
              "       'date_item_avg_item_cnt_lag_12', 'date_shop_avg_item_cnt_lag_1',\n",
              "       'date_shop_avg_item_cnt_lag_2', 'date_shop_avg_item_cnt_lag_3',\n",
              "       'date_shop_avg_item_cnt_lag_6', 'date_shop_avg_item_cnt_lag_12',\n",
              "       'date_cat_avg_item_cnt_lag_1', 'date_cat_avg_item_cnt_lag_2',\n",
              "       'date_cat_avg_item_cnt_lag_3', 'date_cat_avg_item_cnt_lag_6',\n",
              "       'date_cat_avg_item_cnt_lag_12', 'date_shop_cat_avg_item_cnt_lag_1',\n",
              "       'date_shop_cat_avg_item_cnt_lag_2', 'date_shop_cat_avg_item_cnt_lag_3',\n",
              "       'date_shop_cat_avg_item_cnt_lag_6', 'date_shop_cat_avg_item_cnt_lag_12',\n",
              "       'date_shop_type_avg_item_cnt_lag_1',\n",
              "       'date_shop_subtype_avg_item_cnt_lag_1', 'date_city_avg_item_cnt_lag_1',\n",
              "       'date_item_city_avg_item_cnt_lag_1', 'date_type_avg_item_cnt_lag_1',\n",
              "       'date_subtype_avg_item_cnt_lag_1', 'delta_price_lag',\n",
              "       'delta_revenue_lag_1', 'month', 'days', 'item_shop_last_sale',\n",
              "       'item_last_sale', 'item_shop_first_sale', 'item_first_sale'],\n",
              "      dtype='object')"
            ]
          },
          "metadata": {
            "tags": []
          },
          "execution_count": 121
        }
      ]
    },
    {
      "cell_type": "code",
      "metadata": {
        "id": "Q9PXmHCNO5QE",
        "colab_type": "code",
        "colab": {},
        "outputId": "eb22e15a-95a3-4cc2-85b7-8b0afa7659e0"
      },
      "source": [
        "matrix.info()"
      ],
      "execution_count": 0,
      "outputs": [
        {
          "output_type": "stream",
          "text": [
            "<class 'pandas.core.frame.DataFrame'>\n",
            "Int64Index: 6639294 entries, 4488710 to 11128003\n",
            "Data columns (total 48 columns):\n",
            "date_block_num                          int8\n",
            "shop_id                                 int8\n",
            "item_id                                 int16\n",
            "item_cnt_month                          float16\n",
            "city_code                               int8\n",
            "item_category_id                        int8\n",
            "type_code                               int8\n",
            "subtype_code                            int8\n",
            "item_cnt_month_lag_1                    float16\n",
            "item_cnt_month_lag_2                    float16\n",
            "item_cnt_month_lag_3                    float16\n",
            "item_cnt_month_lag_6                    float16\n",
            "item_cnt_month_lag_12                   float16\n",
            "date_avg_item_cnt_lag_1                 float16\n",
            "date_item_avg_item_cnt_lag_1            float16\n",
            "date_item_avg_item_cnt_lag_2            float16\n",
            "date_item_avg_item_cnt_lag_3            float16\n",
            "date_item_avg_item_cnt_lag_6            float16\n",
            "date_item_avg_item_cnt_lag_12           float16\n",
            "date_shop_avg_item_cnt_lag_1            float16\n",
            "date_shop_avg_item_cnt_lag_2            float16\n",
            "date_shop_avg_item_cnt_lag_3            float16\n",
            "date_shop_avg_item_cnt_lag_6            float16\n",
            "date_shop_avg_item_cnt_lag_12           float16\n",
            "date_cat_avg_item_cnt_lag_1             float16\n",
            "date_cat_avg_item_cnt_lag_2             float16\n",
            "date_cat_avg_item_cnt_lag_3             float16\n",
            "date_cat_avg_item_cnt_lag_6             float16\n",
            "date_cat_avg_item_cnt_lag_12            float16\n",
            "date_shop_cat_avg_item_cnt_lag_1        float16\n",
            "date_shop_cat_avg_item_cnt_lag_2        float16\n",
            "date_shop_cat_avg_item_cnt_lag_3        float16\n",
            "date_shop_cat_avg_item_cnt_lag_6        float16\n",
            "date_shop_cat_avg_item_cnt_lag_12       float16\n",
            "date_shop_type_avg_item_cnt_lag_1       float16\n",
            "date_shop_subtype_avg_item_cnt_lag_1    float16\n",
            "date_city_avg_item_cnt_lag_1            float16\n",
            "date_item_city_avg_item_cnt_lag_1       float16\n",
            "date_type_avg_item_cnt_lag_1            float16\n",
            "date_subtype_avg_item_cnt_lag_1         float16\n",
            "delta_price_lag                         float16\n",
            "delta_revenue_lag_1                     float16\n",
            "month                                   int8\n",
            "days                                    int8\n",
            "item_shop_last_sale                     int8\n",
            "item_last_sale                          int8\n",
            "item_shop_first_sale                    int8\n",
            "item_first_sale                         int8\n",
            "dtypes: float16(35), int16(1), int8(12)\n",
            "memory usage: 582.5 MB\n"
          ],
          "name": "stdout"
        }
      ]
    },
    {
      "cell_type": "code",
      "metadata": {
        "id": "VtuPiXdnO5Qe",
        "colab_type": "code",
        "colab": {}
      },
      "source": [
        "matrix.to_pickle('data.pkl')"
      ],
      "execution_count": 0,
      "outputs": []
    },
    {
      "cell_type": "code",
      "metadata": {
        "id": "p-1JRwH1O5Qp",
        "colab_type": "code",
        "colab": {}
      },
      "source": [
        "matrix.to_csv('predictFutureSales.csv')"
      ],
      "execution_count": 0,
      "outputs": []
    },
    {
      "cell_type": "code",
      "metadata": {
        "id": "_AmIKORmO5Qv",
        "colab_type": "code",
        "colab": {}
      },
      "source": [
        "del matrix\n",
        "del cache\n",
        "del group\n",
        "del items\n",
        "del shops\n",
        "del cats\n",
        "del train\n",
        "gc.collect();"
      ],
      "execution_count": 0,
      "outputs": []
    },
    {
      "cell_type": "code",
      "metadata": {
        "id": "42A9f2ZDO5Q2",
        "colab_type": "code",
        "colab": {}
      },
      "source": [
        "# XGBOOST!"
      ],
      "execution_count": 0,
      "outputs": []
    },
    {
      "cell_type": "code",
      "metadata": {
        "id": "a_spmKGrO5Q7",
        "colab_type": "code",
        "colab": {}
      },
      "source": [
        "data = pd.read_pickle('data.pkl')"
      ],
      "execution_count": 0,
      "outputs": []
    },
    {
      "cell_type": "code",
      "metadata": {
        "id": "XJEZ9tLlO5Q_",
        "colab_type": "code",
        "colab": {},
        "outputId": "8601b143-7159-4a4d-f257-47d0f5656a13"
      },
      "source": [
        "data"
      ],
      "execution_count": 0,
      "outputs": [
        {
          "output_type": "execute_result",
          "data": {
            "text/html": [
              "<div>\n",
              "<style scoped>\n",
              "    .dataframe tbody tr th:only-of-type {\n",
              "        vertical-align: middle;\n",
              "    }\n",
              "\n",
              "    .dataframe tbody tr th {\n",
              "        vertical-align: top;\n",
              "    }\n",
              "\n",
              "    .dataframe thead th {\n",
              "        text-align: right;\n",
              "    }\n",
              "</style>\n",
              "<table border=\"1\" class=\"dataframe\">\n",
              "  <thead>\n",
              "    <tr style=\"text-align: right;\">\n",
              "      <th></th>\n",
              "      <th>date_block_num</th>\n",
              "      <th>shop_id</th>\n",
              "      <th>item_id</th>\n",
              "      <th>item_cnt_month</th>\n",
              "      <th>city_code</th>\n",
              "      <th>item_category_id</th>\n",
              "      <th>type_code</th>\n",
              "      <th>subtype_code</th>\n",
              "      <th>item_cnt_month_lag_1</th>\n",
              "      <th>item_cnt_month_lag_2</th>\n",
              "      <th>...</th>\n",
              "      <th>date_type_avg_item_cnt_lag_1</th>\n",
              "      <th>date_subtype_avg_item_cnt_lag_1</th>\n",
              "      <th>delta_price_lag</th>\n",
              "      <th>delta_revenue_lag_1</th>\n",
              "      <th>month</th>\n",
              "      <th>days</th>\n",
              "      <th>item_shop_last_sale</th>\n",
              "      <th>item_last_sale</th>\n",
              "      <th>item_shop_first_sale</th>\n",
              "      <th>item_first_sale</th>\n",
              "    </tr>\n",
              "  </thead>\n",
              "  <tbody>\n",
              "    <tr>\n",
              "      <th>4488710</th>\n",
              "      <td>12</td>\n",
              "      <td>2</td>\n",
              "      <td>27</td>\n",
              "      <td>0.0</td>\n",
              "      <td>0</td>\n",
              "      <td>19</td>\n",
              "      <td>5</td>\n",
              "      <td>10</td>\n",
              "      <td>0.0</td>\n",
              "      <td>0.0</td>\n",
              "      <td>...</td>\n",
              "      <td>1.034180</td>\n",
              "      <td>1.075195</td>\n",
              "      <td>-0.282715</td>\n",
              "      <td>1.211914</td>\n",
              "      <td>0</td>\n",
              "      <td>31</td>\n",
              "      <td>1</td>\n",
              "      <td>1</td>\n",
              "      <td>0</td>\n",
              "      <td>0</td>\n",
              "    </tr>\n",
              "    <tr>\n",
              "      <th>4488711</th>\n",
              "      <td>12</td>\n",
              "      <td>2</td>\n",
              "      <td>30</td>\n",
              "      <td>0.0</td>\n",
              "      <td>0</td>\n",
              "      <td>40</td>\n",
              "      <td>11</td>\n",
              "      <td>4</td>\n",
              "      <td>0.0</td>\n",
              "      <td>0.0</td>\n",
              "      <td>...</td>\n",
              "      <td>0.270020</td>\n",
              "      <td>0.291504</td>\n",
              "      <td>-0.483398</td>\n",
              "      <td>1.211914</td>\n",
              "      <td>0</td>\n",
              "      <td>31</td>\n",
              "      <td>1</td>\n",
              "      <td>1</td>\n",
              "      <td>0</td>\n",
              "      <td>0</td>\n",
              "    </tr>\n",
              "    <tr>\n",
              "      <th>4488712</th>\n",
              "      <td>12</td>\n",
              "      <td>2</td>\n",
              "      <td>31</td>\n",
              "      <td>0.0</td>\n",
              "      <td>0</td>\n",
              "      <td>37</td>\n",
              "      <td>11</td>\n",
              "      <td>1</td>\n",
              "      <td>0.0</td>\n",
              "      <td>0.0</td>\n",
              "      <td>...</td>\n",
              "      <td>0.270020</td>\n",
              "      <td>0.234009</td>\n",
              "      <td>-0.137451</td>\n",
              "      <td>1.211914</td>\n",
              "      <td>0</td>\n",
              "      <td>31</td>\n",
              "      <td>1</td>\n",
              "      <td>1</td>\n",
              "      <td>0</td>\n",
              "      <td>0</td>\n",
              "    </tr>\n",
              "    <tr>\n",
              "      <th>4488713</th>\n",
              "      <td>12</td>\n",
              "      <td>2</td>\n",
              "      <td>32</td>\n",
              "      <td>1.0</td>\n",
              "      <td>0</td>\n",
              "      <td>40</td>\n",
              "      <td>11</td>\n",
              "      <td>4</td>\n",
              "      <td>0.0</td>\n",
              "      <td>0.0</td>\n",
              "      <td>...</td>\n",
              "      <td>0.270020</td>\n",
              "      <td>0.291504</td>\n",
              "      <td>-0.407227</td>\n",
              "      <td>1.211914</td>\n",
              "      <td>0</td>\n",
              "      <td>31</td>\n",
              "      <td>-1</td>\n",
              "      <td>1</td>\n",
              "      <td>0</td>\n",
              "      <td>0</td>\n",
              "    </tr>\n",
              "    <tr>\n",
              "      <th>4488714</th>\n",
              "      <td>12</td>\n",
              "      <td>2</td>\n",
              "      <td>33</td>\n",
              "      <td>1.0</td>\n",
              "      <td>0</td>\n",
              "      <td>37</td>\n",
              "      <td>11</td>\n",
              "      <td>1</td>\n",
              "      <td>1.0</td>\n",
              "      <td>1.0</td>\n",
              "      <td>...</td>\n",
              "      <td>0.270020</td>\n",
              "      <td>0.234009</td>\n",
              "      <td>-0.225464</td>\n",
              "      <td>1.211914</td>\n",
              "      <td>0</td>\n",
              "      <td>31</td>\n",
              "      <td>1</td>\n",
              "      <td>1</td>\n",
              "      <td>0</td>\n",
              "      <td>0</td>\n",
              "    </tr>\n",
              "    <tr>\n",
              "      <th>...</th>\n",
              "      <td>...</td>\n",
              "      <td>...</td>\n",
              "      <td>...</td>\n",
              "      <td>...</td>\n",
              "      <td>...</td>\n",
              "      <td>...</td>\n",
              "      <td>...</td>\n",
              "      <td>...</td>\n",
              "      <td>...</td>\n",
              "      <td>...</td>\n",
              "      <td>...</td>\n",
              "      <td>...</td>\n",
              "      <td>...</td>\n",
              "      <td>...</td>\n",
              "      <td>...</td>\n",
              "      <td>...</td>\n",
              "      <td>...</td>\n",
              "      <td>...</td>\n",
              "      <td>...</td>\n",
              "      <td>...</td>\n",
              "      <td>...</td>\n",
              "    </tr>\n",
              "    <tr>\n",
              "      <th>11127999</th>\n",
              "      <td>34</td>\n",
              "      <td>45</td>\n",
              "      <td>18454</td>\n",
              "      <td>0.0</td>\n",
              "      <td>0</td>\n",
              "      <td>55</td>\n",
              "      <td>13</td>\n",
              "      <td>2</td>\n",
              "      <td>1.0</td>\n",
              "      <td>1.0</td>\n",
              "      <td>...</td>\n",
              "      <td>0.146973</td>\n",
              "      <td>0.196899</td>\n",
              "      <td>-0.475098</td>\n",
              "      <td>-0.290039</td>\n",
              "      <td>10</td>\n",
              "      <td>30</td>\n",
              "      <td>1</td>\n",
              "      <td>-1</td>\n",
              "      <td>11</td>\n",
              "      <td>11</td>\n",
              "    </tr>\n",
              "    <tr>\n",
              "      <th>11128000</th>\n",
              "      <td>34</td>\n",
              "      <td>45</td>\n",
              "      <td>16188</td>\n",
              "      <td>0.0</td>\n",
              "      <td>0</td>\n",
              "      <td>64</td>\n",
              "      <td>14</td>\n",
              "      <td>42</td>\n",
              "      <td>0.0</td>\n",
              "      <td>0.0</td>\n",
              "      <td>...</td>\n",
              "      <td>0.237305</td>\n",
              "      <td>0.155884</td>\n",
              "      <td>0.081116</td>\n",
              "      <td>-0.290039</td>\n",
              "      <td>10</td>\n",
              "      <td>30</td>\n",
              "      <td>-1</td>\n",
              "      <td>-1</td>\n",
              "      <td>2</td>\n",
              "      <td>2</td>\n",
              "    </tr>\n",
              "    <tr>\n",
              "      <th>11128001</th>\n",
              "      <td>34</td>\n",
              "      <td>45</td>\n",
              "      <td>15757</td>\n",
              "      <td>0.0</td>\n",
              "      <td>0</td>\n",
              "      <td>55</td>\n",
              "      <td>13</td>\n",
              "      <td>2</td>\n",
              "      <td>0.0</td>\n",
              "      <td>0.0</td>\n",
              "      <td>...</td>\n",
              "      <td>0.146973</td>\n",
              "      <td>0.196899</td>\n",
              "      <td>0.155884</td>\n",
              "      <td>-0.290039</td>\n",
              "      <td>10</td>\n",
              "      <td>30</td>\n",
              "      <td>1</td>\n",
              "      <td>-1</td>\n",
              "      <td>22</td>\n",
              "      <td>22</td>\n",
              "    </tr>\n",
              "    <tr>\n",
              "      <th>11128002</th>\n",
              "      <td>34</td>\n",
              "      <td>45</td>\n",
              "      <td>19648</td>\n",
              "      <td>0.0</td>\n",
              "      <td>0</td>\n",
              "      <td>40</td>\n",
              "      <td>11</td>\n",
              "      <td>4</td>\n",
              "      <td>0.0</td>\n",
              "      <td>0.0</td>\n",
              "      <td>...</td>\n",
              "      <td>0.224243</td>\n",
              "      <td>0.220825</td>\n",
              "      <td>-0.091736</td>\n",
              "      <td>-0.290039</td>\n",
              "      <td>10</td>\n",
              "      <td>30</td>\n",
              "      <td>-1</td>\n",
              "      <td>-1</td>\n",
              "      <td>11</td>\n",
              "      <td>11</td>\n",
              "    </tr>\n",
              "    <tr>\n",
              "      <th>11128003</th>\n",
              "      <td>34</td>\n",
              "      <td>45</td>\n",
              "      <td>969</td>\n",
              "      <td>0.0</td>\n",
              "      <td>0</td>\n",
              "      <td>37</td>\n",
              "      <td>11</td>\n",
              "      <td>1</td>\n",
              "      <td>0.0</td>\n",
              "      <td>0.0</td>\n",
              "      <td>...</td>\n",
              "      <td>0.224243</td>\n",
              "      <td>0.240967</td>\n",
              "      <td>-0.605957</td>\n",
              "      <td>-0.290039</td>\n",
              "      <td>10</td>\n",
              "      <td>30</td>\n",
              "      <td>1</td>\n",
              "      <td>-1</td>\n",
              "      <td>17</td>\n",
              "      <td>17</td>\n",
              "    </tr>\n",
              "  </tbody>\n",
              "</table>\n",
              "<p>6639294 rows × 48 columns</p>\n",
              "</div>"
            ],
            "text/plain": [
              "          date_block_num  shop_id  item_id  item_cnt_month  city_code  \\\n",
              "4488710               12        2       27             0.0          0   \n",
              "4488711               12        2       30             0.0          0   \n",
              "4488712               12        2       31             0.0          0   \n",
              "4488713               12        2       32             1.0          0   \n",
              "4488714               12        2       33             1.0          0   \n",
              "...                  ...      ...      ...             ...        ...   \n",
              "11127999              34       45    18454             0.0          0   \n",
              "11128000              34       45    16188             0.0          0   \n",
              "11128001              34       45    15757             0.0          0   \n",
              "11128002              34       45    19648             0.0          0   \n",
              "11128003              34       45      969             0.0          0   \n",
              "\n",
              "          item_category_id  type_code  subtype_code  item_cnt_month_lag_1  \\\n",
              "4488710                 19          5            10                   0.0   \n",
              "4488711                 40         11             4                   0.0   \n",
              "4488712                 37         11             1                   0.0   \n",
              "4488713                 40         11             4                   0.0   \n",
              "4488714                 37         11             1                   1.0   \n",
              "...                    ...        ...           ...                   ...   \n",
              "11127999                55         13             2                   1.0   \n",
              "11128000                64         14            42                   0.0   \n",
              "11128001                55         13             2                   0.0   \n",
              "11128002                40         11             4                   0.0   \n",
              "11128003                37         11             1                   0.0   \n",
              "\n",
              "          item_cnt_month_lag_2  ...  date_type_avg_item_cnt_lag_1  \\\n",
              "4488710                    0.0  ...                      1.034180   \n",
              "4488711                    0.0  ...                      0.270020   \n",
              "4488712                    0.0  ...                      0.270020   \n",
              "4488713                    0.0  ...                      0.270020   \n",
              "4488714                    1.0  ...                      0.270020   \n",
              "...                        ...  ...                           ...   \n",
              "11127999                   1.0  ...                      0.146973   \n",
              "11128000                   0.0  ...                      0.237305   \n",
              "11128001                   0.0  ...                      0.146973   \n",
              "11128002                   0.0  ...                      0.224243   \n",
              "11128003                   0.0  ...                      0.224243   \n",
              "\n",
              "          date_subtype_avg_item_cnt_lag_1  delta_price_lag  \\\n",
              "4488710                          1.075195        -0.282715   \n",
              "4488711                          0.291504        -0.483398   \n",
              "4488712                          0.234009        -0.137451   \n",
              "4488713                          0.291504        -0.407227   \n",
              "4488714                          0.234009        -0.225464   \n",
              "...                                   ...              ...   \n",
              "11127999                         0.196899        -0.475098   \n",
              "11128000                         0.155884         0.081116   \n",
              "11128001                         0.196899         0.155884   \n",
              "11128002                         0.220825        -0.091736   \n",
              "11128003                         0.240967        -0.605957   \n",
              "\n",
              "          delta_revenue_lag_1  month  days  item_shop_last_sale  \\\n",
              "4488710              1.211914      0    31                    1   \n",
              "4488711              1.211914      0    31                    1   \n",
              "4488712              1.211914      0    31                    1   \n",
              "4488713              1.211914      0    31                   -1   \n",
              "4488714              1.211914      0    31                    1   \n",
              "...                       ...    ...   ...                  ...   \n",
              "11127999            -0.290039     10    30                    1   \n",
              "11128000            -0.290039     10    30                   -1   \n",
              "11128001            -0.290039     10    30                    1   \n",
              "11128002            -0.290039     10    30                   -1   \n",
              "11128003            -0.290039     10    30                    1   \n",
              "\n",
              "          item_last_sale  item_shop_first_sale  item_first_sale  \n",
              "4488710                1                     0                0  \n",
              "4488711                1                     0                0  \n",
              "4488712                1                     0                0  \n",
              "4488713                1                     0                0  \n",
              "4488714                1                     0                0  \n",
              "...                  ...                   ...              ...  \n",
              "11127999              -1                    11               11  \n",
              "11128000              -1                     2                2  \n",
              "11128001              -1                    22               22  \n",
              "11128002              -1                    11               11  \n",
              "11128003              -1                    17               17  \n",
              "\n",
              "[6639294 rows x 48 columns]"
            ]
          },
          "metadata": {
            "tags": []
          },
          "execution_count": 244
        }
      ]
    },
    {
      "cell_type": "code",
      "metadata": {
        "id": "ss3AWbW5O5RC",
        "colab_type": "code",
        "colab": {}
      },
      "source": [
        "data = data[[\n",
        "    'date_block_num',\n",
        "    'shop_id',\n",
        "    'item_id',\n",
        "    'item_cnt_month',\n",
        "    'city_code',\n",
        "    'item_category_id',\n",
        "    'type_code',\n",
        "    'subtype_code',\n",
        "    'item_cnt_month_lag_1',\n",
        "    'item_cnt_month_lag_2',\n",
        "    'item_cnt_month_lag_3',\n",
        "    'item_cnt_month_lag_6',\n",
        "    'item_cnt_month_lag_12',\n",
        "    'date_avg_item_cnt_lag_1',\n",
        "    'date_item_avg_item_cnt_lag_1',\n",
        "    'date_item_avg_item_cnt_lag_2',\n",
        "    'date_item_avg_item_cnt_lag_3',\n",
        "    'date_item_avg_item_cnt_lag_6',\n",
        "    'date_item_avg_item_cnt_lag_12',\n",
        "    'date_shop_avg_item_cnt_lag_1',\n",
        "    'date_shop_avg_item_cnt_lag_2',\n",
        "    'date_shop_avg_item_cnt_lag_3',\n",
        "    'date_shop_avg_item_cnt_lag_6',\n",
        "    'date_shop_avg_item_cnt_lag_12',\n",
        "    'date_cat_avg_item_cnt_lag_1',\n",
        "    'date_shop_cat_avg_item_cnt_lag_1',\n",
        "    #'date_shop_type_avg_item_cnt_lag_1',\n",
        "    #'date_shop_subtype_avg_item_cnt_lag_1',\n",
        "    'date_city_avg_item_cnt_lag_1',\n",
        "    'date_item_city_avg_item_cnt_lag_1',\n",
        "    #'date_type_avg_item_cnt_lag_1',\n",
        "    #'date_subtype_avg_item_cnt_lag_1',\n",
        "    'delta_price_lag',\n",
        "    'month',\n",
        "    'days',\n",
        "    'item_shop_last_sale',\n",
        "    'item_last_sale',\n",
        "    'item_shop_first_sale',\n",
        "    'item_first_sale',\n",
        "]]"
      ],
      "execution_count": 0,
      "outputs": []
    },
    {
      "cell_type": "code",
      "metadata": {
        "id": "NM36rod9O5RF",
        "colab_type": "code",
        "colab": {}
      },
      "source": [
        "# 13-33 months for train\n",
        "X_train = data[data.date_block_num<33].drop(['item_cnt_month'], axis=1)\n",
        "Y_train = data[data.date_block_num<33]['item_cnt_month']\n",
        "# month 33 for validation\n",
        "X_valid = data[data.date_block_num==33].drop(['item_cnt_month'], axis=1)\n",
        "Y_valid = data[data.date_block_num==33]['item_cnt_month']\n",
        "# month 34 for test\n",
        "X_test = data[data.date_block_num==34].drop(['item_cnt_month'], axis=1)"
      ],
      "execution_count": 0,
      "outputs": []
    },
    {
      "cell_type": "code",
      "metadata": {
        "id": "4EFCf257O5RL",
        "colab_type": "code",
        "colab": {}
      },
      "source": [
        "del data\n",
        "gc.collect();"
      ],
      "execution_count": 0,
      "outputs": []
    },
    {
      "cell_type": "code",
      "metadata": {
        "id": "-bvcjoSsO5RO",
        "colab_type": "code",
        "colab": {}
      },
      "source": [
        "ts = time.time()"
      ],
      "execution_count": 0,
      "outputs": []
    },
    {
      "cell_type": "code",
      "metadata": {
        "id": "qgmCQ4qrO5RT",
        "colab_type": "code",
        "colab": {}
      },
      "source": [
        "model = XGBRegressor(\n",
        "    max_depth=8,\n",
        "    n_estimators=1000,\n",
        "    min_child_weight=300,\n",
        "    colsample_bytree=0.8,\n",
        "    subsample=0.8,\n",
        "    eta=0.3,\n",
        "    seed=42)"
      ],
      "execution_count": 0,
      "outputs": []
    },
    {
      "cell_type": "code",
      "metadata": {
        "scrolled": false,
        "id": "epH4JdpNO5RV",
        "colab_type": "code",
        "colab": {},
        "outputId": "8d029a5f-0685-4291-ba18-d5396b50dce4"
      },
      "source": [
        "model.fit(X_train,\n",
        "          Y_train,\n",
        "          eval_metric='rmse',\n",
        "          eval_set=[(X_train, Y_train), (X_valid, Y_valid)],\n",
        "          verbose=True,\n",
        "          early_stopping_rounds=10)"
      ],
      "execution_count": 0,
      "outputs": [
        {
          "output_type": "stream",
          "text": [
            "[19:20:48] WARNING: src/objective/regression_obj.cu:152: reg:linear is now deprecated in favor of reg:squarederror.\n",
            "[19:20:48] WARNING: src/learner.cc:686: Tree method is automatically selected to be 'approx' for faster speed. To use old behavior (exact greedy algorithm on single machine), set tree_method to 'exact'.\n",
            "[0]\tvalidation_0-rmse:1.1266\tvalidation_1-rmse:1.12085\n",
            "Multiple eval metrics have been passed: 'validation_1-rmse' will be used for early stopping.\n",
            "\n",
            "Will train until validation_1-rmse hasn't improved in 10 rounds.\n",
            "[1]\tvalidation_0-rmse:1.09188\tvalidation_1-rmse:1.08805\n",
            "[2]\tvalidation_0-rmse:1.06108\tvalidation_1-rmse:1.0603\n",
            "[3]\tvalidation_0-rmse:1.02044\tvalidation_1-rmse:1.0371\n",
            "[4]\tvalidation_0-rmse:0.995222\tvalidation_1-rmse:1.01738\n",
            "[5]\tvalidation_0-rmse:0.974255\tvalidation_1-rmse:0.999123\n",
            "[6]\tvalidation_0-rmse:0.956941\tvalidation_1-rmse:0.985434\n",
            "[7]\tvalidation_0-rmse:0.940799\tvalidation_1-rmse:0.974751\n",
            "[8]\tvalidation_0-rmse:0.92743\tvalidation_1-rmse:0.967125\n",
            "[9]\tvalidation_0-rmse:0.916948\tvalidation_1-rmse:0.959539\n",
            "[10]\tvalidation_0-rmse:0.908048\tvalidation_1-rmse:0.953572\n",
            "[11]\tvalidation_0-rmse:0.900038\tvalidation_1-rmse:0.947634\n",
            "[12]\tvalidation_0-rmse:0.894132\tvalidation_1-rmse:0.943942\n",
            "[13]\tvalidation_0-rmse:0.889052\tvalidation_1-rmse:0.941302\n",
            "[14]\tvalidation_0-rmse:0.883892\tvalidation_1-rmse:0.937894\n",
            "[15]\tvalidation_0-rmse:0.879524\tvalidation_1-rmse:0.934942\n",
            "[16]\tvalidation_0-rmse:0.87599\tvalidation_1-rmse:0.933558\n",
            "[17]\tvalidation_0-rmse:0.872738\tvalidation_1-rmse:0.93236\n",
            "[18]\tvalidation_0-rmse:0.869844\tvalidation_1-rmse:0.93069\n",
            "[19]\tvalidation_0-rmse:0.867247\tvalidation_1-rmse:0.929133\n",
            "[20]\tvalidation_0-rmse:0.865063\tvalidation_1-rmse:0.928325\n",
            "[21]\tvalidation_0-rmse:0.862774\tvalidation_1-rmse:0.927455\n",
            "[22]\tvalidation_0-rmse:0.861006\tvalidation_1-rmse:0.927042\n",
            "[23]\tvalidation_0-rmse:0.859172\tvalidation_1-rmse:0.926733\n",
            "[24]\tvalidation_0-rmse:0.857053\tvalidation_1-rmse:0.925591\n",
            "[25]\tvalidation_0-rmse:0.855686\tvalidation_1-rmse:0.925315\n",
            "[26]\tvalidation_0-rmse:0.854255\tvalidation_1-rmse:0.925633\n",
            "[27]\tvalidation_0-rmse:0.85297\tvalidation_1-rmse:0.926093\n",
            "[28]\tvalidation_0-rmse:0.851858\tvalidation_1-rmse:0.926096\n",
            "[29]\tvalidation_0-rmse:0.85042\tvalidation_1-rmse:0.926256\n",
            "[30]\tvalidation_0-rmse:0.849206\tvalidation_1-rmse:0.925539\n",
            "[31]\tvalidation_0-rmse:0.848252\tvalidation_1-rmse:0.925161\n",
            "[32]\tvalidation_0-rmse:0.847108\tvalidation_1-rmse:0.924956\n",
            "[33]\tvalidation_0-rmse:0.846316\tvalidation_1-rmse:0.925013\n",
            "[34]\tvalidation_0-rmse:0.84573\tvalidation_1-rmse:0.925254\n",
            "[35]\tvalidation_0-rmse:0.845058\tvalidation_1-rmse:0.925221\n",
            "[36]\tvalidation_0-rmse:0.844565\tvalidation_1-rmse:0.92527\n",
            "[37]\tvalidation_0-rmse:0.843716\tvalidation_1-rmse:0.925053\n",
            "[38]\tvalidation_0-rmse:0.84302\tvalidation_1-rmse:0.924937\n",
            "[39]\tvalidation_0-rmse:0.842408\tvalidation_1-rmse:0.924991\n",
            "[40]\tvalidation_0-rmse:0.841627\tvalidation_1-rmse:0.924682\n",
            "[41]\tvalidation_0-rmse:0.840517\tvalidation_1-rmse:0.924085\n",
            "[42]\tvalidation_0-rmse:0.839606\tvalidation_1-rmse:0.924277\n",
            "[43]\tvalidation_0-rmse:0.838862\tvalidation_1-rmse:0.923437\n",
            "[44]\tvalidation_0-rmse:0.837897\tvalidation_1-rmse:0.923293\n",
            "[45]\tvalidation_0-rmse:0.837274\tvalidation_1-rmse:0.923312\n",
            "[46]\tvalidation_0-rmse:0.835594\tvalidation_1-rmse:0.923955\n",
            "[47]\tvalidation_0-rmse:0.834481\tvalidation_1-rmse:0.923205\n",
            "[48]\tvalidation_0-rmse:0.834086\tvalidation_1-rmse:0.923409\n",
            "[49]\tvalidation_0-rmse:0.8338\tvalidation_1-rmse:0.923439\n",
            "[50]\tvalidation_0-rmse:0.833039\tvalidation_1-rmse:0.922975\n",
            "[51]\tvalidation_0-rmse:0.832584\tvalidation_1-rmse:0.922856\n",
            "[52]\tvalidation_0-rmse:0.831177\tvalidation_1-rmse:0.922591\n",
            "[53]\tvalidation_0-rmse:0.83076\tvalidation_1-rmse:0.922436\n",
            "[54]\tvalidation_0-rmse:0.830127\tvalidation_1-rmse:0.922629\n",
            "[55]\tvalidation_0-rmse:0.829809\tvalidation_1-rmse:0.92213\n",
            "[56]\tvalidation_0-rmse:0.82943\tvalidation_1-rmse:0.922494\n",
            "[57]\tvalidation_0-rmse:0.828873\tvalidation_1-rmse:0.922395\n",
            "[58]\tvalidation_0-rmse:0.828651\tvalidation_1-rmse:0.92243\n",
            "[59]\tvalidation_0-rmse:0.828388\tvalidation_1-rmse:0.922544\n",
            "[60]\tvalidation_0-rmse:0.827995\tvalidation_1-rmse:0.922489\n",
            "[61]\tvalidation_0-rmse:0.827298\tvalidation_1-rmse:0.922215\n",
            "[62]\tvalidation_0-rmse:0.826731\tvalidation_1-rmse:0.92183\n",
            "[63]\tvalidation_0-rmse:0.826237\tvalidation_1-rmse:0.921729\n",
            "[64]\tvalidation_0-rmse:0.825849\tvalidation_1-rmse:0.922205\n",
            "[65]\tvalidation_0-rmse:0.825435\tvalidation_1-rmse:0.922143\n",
            "[66]\tvalidation_0-rmse:0.824138\tvalidation_1-rmse:0.921251\n",
            "[67]\tvalidation_0-rmse:0.823687\tvalidation_1-rmse:0.921263\n",
            "[68]\tvalidation_0-rmse:0.822886\tvalidation_1-rmse:0.92112\n",
            "[69]\tvalidation_0-rmse:0.822503\tvalidation_1-rmse:0.921153\n",
            "[70]\tvalidation_0-rmse:0.822229\tvalidation_1-rmse:0.920882\n",
            "[71]\tvalidation_0-rmse:0.821221\tvalidation_1-rmse:0.920556\n",
            "[72]\tvalidation_0-rmse:0.820763\tvalidation_1-rmse:0.920764\n",
            "[73]\tvalidation_0-rmse:0.820241\tvalidation_1-rmse:0.920996\n",
            "[74]\tvalidation_0-rmse:0.820075\tvalidation_1-rmse:0.921118\n",
            "[75]\tvalidation_0-rmse:0.819785\tvalidation_1-rmse:0.921853\n",
            "[76]\tvalidation_0-rmse:0.819304\tvalidation_1-rmse:0.920711\n",
            "[77]\tvalidation_0-rmse:0.819041\tvalidation_1-rmse:0.920554\n",
            "[78]\tvalidation_0-rmse:0.818221\tvalidation_1-rmse:0.919912\n",
            "[79]\tvalidation_0-rmse:0.817965\tvalidation_1-rmse:0.919803\n",
            "[80]\tvalidation_0-rmse:0.817705\tvalidation_1-rmse:0.919882\n",
            "[81]\tvalidation_0-rmse:0.817519\tvalidation_1-rmse:0.919388\n",
            "[82]\tvalidation_0-rmse:0.816866\tvalidation_1-rmse:0.919384\n",
            "[83]\tvalidation_0-rmse:0.81662\tvalidation_1-rmse:0.91899\n",
            "[84]\tvalidation_0-rmse:0.816299\tvalidation_1-rmse:0.919139\n",
            "[85]\tvalidation_0-rmse:0.815213\tvalidation_1-rmse:0.919253\n",
            "[86]\tvalidation_0-rmse:0.815157\tvalidation_1-rmse:0.919152\n",
            "[87]\tvalidation_0-rmse:0.814847\tvalidation_1-rmse:0.91901\n",
            "[88]\tvalidation_0-rmse:0.81425\tvalidation_1-rmse:0.919165\n",
            "[89]\tvalidation_0-rmse:0.813838\tvalidation_1-rmse:0.919316\n",
            "[90]\tvalidation_0-rmse:0.813429\tvalidation_1-rmse:0.918462\n",
            "[91]\tvalidation_0-rmse:0.813216\tvalidation_1-rmse:0.91834\n",
            "[92]\tvalidation_0-rmse:0.813022\tvalidation_1-rmse:0.91841\n",
            "[93]\tvalidation_0-rmse:0.812384\tvalidation_1-rmse:0.919205\n",
            "[94]\tvalidation_0-rmse:0.812091\tvalidation_1-rmse:0.919245\n",
            "[95]\tvalidation_0-rmse:0.811958\tvalidation_1-rmse:0.918956\n",
            "[96]\tvalidation_0-rmse:0.811842\tvalidation_1-rmse:0.918893\n",
            "[97]\tvalidation_0-rmse:0.811578\tvalidation_1-rmse:0.918973\n",
            "[98]\tvalidation_0-rmse:0.811419\tvalidation_1-rmse:0.918977\n",
            "[99]\tvalidation_0-rmse:0.811234\tvalidation_1-rmse:0.919332\n",
            "[100]\tvalidation_0-rmse:0.810885\tvalidation_1-rmse:0.919717\n",
            "[101]\tvalidation_0-rmse:0.810726\tvalidation_1-rmse:0.919664\n",
            "Stopping. Best iteration:\n",
            "[91]\tvalidation_0-rmse:0.813216\tvalidation_1-rmse:0.91834\n",
            "\n"
          ],
          "name": "stdout"
        },
        {
          "output_type": "execute_result",
          "data": {
            "text/plain": [
              "XGBRegressor(base_score=0.5, booster='gbtree', colsample_bylevel=1,\n",
              "             colsample_bynode=1, colsample_bytree=0.8, eta=0.3, gamma=0,\n",
              "             importance_type='gain', learning_rate=0.1, max_delta_step=0,\n",
              "             max_depth=8, min_child_weight=300, missing=None, n_estimators=1000,\n",
              "             n_jobs=1, nthread=None, objective='reg:linear', random_state=0,\n",
              "             reg_alpha=0, reg_lambda=1, scale_pos_weight=1, seed=42,\n",
              "             silent=None, subsample=0.8, verbosity=1)"
            ]
          },
          "metadata": {
            "tags": []
          },
          "execution_count": 259
        }
      ]
    },
    {
      "cell_type": "code",
      "metadata": {
        "id": "dxzl50t8O5RY",
        "colab_type": "code",
        "colab": {},
        "outputId": "44129190-29a3-43d2-8e3f-0bdcf3b20693"
      },
      "source": [
        "time.time() - ts"
      ],
      "execution_count": 0,
      "outputs": [
        {
          "output_type": "execute_result",
          "data": {
            "text/plain": [
              "2978.502563238144"
            ]
          },
          "metadata": {
            "tags": []
          },
          "execution_count": 260
        }
      ]
    },
    {
      "cell_type": "code",
      "metadata": {
        "id": "dL07oCU0O5Rg",
        "colab_type": "code",
        "colab": {}
      },
      "source": [
        "Y_pred = model.predict(X_valid).clip(0,20)\n",
        "Y_test = model.predict(X_test).clip(0,20)"
      ],
      "execution_count": 0,
      "outputs": []
    },
    {
      "cell_type": "code",
      "metadata": {
        "id": "V0eG9iSYO5Rm",
        "colab_type": "code",
        "colab": {}
      },
      "source": [
        "submission = pd.DataFrame({\"ID\":test.index, \"item_cnt_month\":Y_test})\n",
        "submission.to_csv('c:/lois/kaggle/xgboost_ver2.csv', index=False)"
      ],
      "execution_count": 0,
      "outputs": []
    },
    {
      "cell_type": "code",
      "metadata": {
        "id": "vJrV7JkZO5Rr",
        "colab_type": "code",
        "colab": {}
      },
      "source": [
        "pickle.dump(Y_pred, open('xgboost_train.pickle', 'wb'))\n",
        "pickle.dump(Y_test, open('xgboost_test.pickle', 'wb'))"
      ],
      "execution_count": 0,
      "outputs": []
    },
    {
      "cell_type": "code",
      "metadata": {
        "id": "AqahXAiCO5Rx",
        "colab_type": "code",
        "colab": {},
        "outputId": "c7ddc921-ddb7-4d23-f7ed-8cfee091a09b"
      },
      "source": [
        "plot_features(model, (10,14))"
      ],
      "execution_count": 0,
      "outputs": [
        {
          "output_type": "execute_result",
          "data": {
            "text/plain": [
              "<matplotlib.axes._subplots.AxesSubplot at 0x19fa61b34c8>"
            ]
          },
          "metadata": {
            "tags": []
          },
          "execution_count": 264
        },
        {
          "output_type": "display_data",
          "data": {
            "image/png": "[encoded data removed]",
            "text/plain": [
              "<Figure size 720x1008 with 1 Axes>"
            ]
          },
          "metadata": {
            "tags": []
          }
        }
      ]
    }
  ]
}
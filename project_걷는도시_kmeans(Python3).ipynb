{
  "nbformat": 4,
  "nbformat_minor": 0,
  "metadata": {
    "kernelspec": {
      "display_name": "R",
      "language": "R",
      "name": "ir"
    },
    "language_info": {
      "codemirror_mode": "r",
      "file_extension": ".r",
      "mimetype": "text/x-r-source",
      "name": "R",
      "pygments_lexer": "r",
      "version": "3.6.1"
    },
    "colab": {
      "name": "걷는도시_분석2_Python3_kmeans (Reminiscence I).ipynb",
      "provenance": [],
      "collapsed_sections": []
    }
  },
  "cells": [
    {
      "cell_type": "code",
      "metadata": {
        "id": "F1SmtqPD7i5N",
        "colab_type": "code",
        "colab": {}
      },
      "source": [
        "# 분석2 개요. kmeans - 비지도학습 군집분석. 분석1에서 유관하다고 도출된 독립변수들로 군집분석을 실행하여 종속변수를 유발하는 집합적 특성이 있는지 분석"
      ],
      "execution_count": 0,
      "outputs": []
    },
    {
      "cell_type": "code",
      "metadata": {
        "id": "DJiVs-q9yycN",
        "colab_type": "code",
        "colab": {}
      },
      "source": [
        "# import warnings\n",
        "import warnings\n",
        "warnings.filterwarnings('ignore')\n",
        "\n",
        "# import visualisation api\n",
        "import matplotlib.pyplot as plt\n",
        "from matplotlib import font_manager\n",
        "import matplotlib.pylab as pylab\n",
        "from matplotlib import cm\n",
        "import seaborn as sns\n",
        "\n",
        "# bg theme\n",
        "plt.style.use(['seaborn-whitegrid'])\n",
        "\n",
        "# font\n",
        "font_fname = 'C:/Users/Admin/AppData/Local/Microsoft/Windows/Fonts/NanumGothicCoding.ttf'\n",
        "font_family = font_manager.FontProperties(fname=font_fname).get_name()\n",
        "plt.rcParams[\"font.family\"] = font_family\n",
        "\n",
        "# import ML with Statistics api\n",
        "import pandas as pd\n",
        "import numpy as np\n",
        "from sklearn import preprocessing\n",
        "from sklearn.preprocessing import MinMaxScaler\n",
        "from sklearn.cluster import KMeans\n",
        "from sklearn.metrics import silhouette_score\n",
        "from sklearn.metrics import silhouette_samples\n",
        "from sklearn.datasets import make_blobs\n",
        "import patsy as pt\n",
        "import pymc3 as pm"
      ],
      "execution_count": 0,
      "outputs": []
    },
    {
      "cell_type": "code",
      "metadata": {
        "id": "t9Y8PUCEyycS",
        "colab_type": "code",
        "colab": {}
      },
      "source": [
        "df = pd.read_csv('c:/lois/project/entireDB_2018 - for R.csv')"
      ],
      "execution_count": 0,
      "outputs": []
    },
    {
      "cell_type": "code",
      "metadata": {
        "id": "KhWd3PCNzsRN",
        "colab_type": "code",
        "colab": {}
      },
      "source": [
        "# 컬럼 설명: 행정자치구, 노인사고수, 노인중상이상수, 노인경상이하수, 노인인구수, 노인인구비율, 교통안전지표, 노인생활인구수, 도로연장, 전일평균속도, 도로안전지표수, 시장수, 노인보호구역수, 육교수"
      ],
      "execution_count": 0,
      "outputs": []
    },
    {
      "cell_type": "code",
      "metadata": {
        "scrolled": true,
        "id": "DhmfFZPqyycU",
        "colab_type": "code",
        "outputId": "78f65350-7ff6-497c-aef7-ba3852ea43dd",
        "colab": {}
      },
      "source": [
        "df"
      ],
      "execution_count": 0,
      "outputs": [
        {
          "output_type": "execute_result",
          "data": {
            "text/html": [
              "<div>\n",
              "<style scoped>\n",
              "    .dataframe tbody tr th:only-of-type {\n",
              "        vertical-align: middle;\n",
              "    }\n",
              "\n",
              "    .dataframe tbody tr th {\n",
              "        vertical-align: top;\n",
              "    }\n",
              "\n",
              "    .dataframe thead th {\n",
              "        text-align: right;\n",
              "    }\n",
              "</style>\n",
              "<table border=\"1\" class=\"dataframe\">\n",
              "  <thead>\n",
              "    <tr style=\"text-align: right;\">\n",
              "      <th></th>\n",
              "      <th>gu</th>\n",
              "      <th>elder_ac_num</th>\n",
              "      <th>elder_hv_num</th>\n",
              "      <th>elder_lt_num</th>\n",
              "      <th>elder_po_num</th>\n",
              "      <th>elder_po_per</th>\n",
              "      <th>trans_sa_idx</th>\n",
              "      <th>elder_fpo_per</th>\n",
              "      <th>car_ro_len</th>\n",
              "      <th>car_ave_spd</th>\n",
              "      <th>road_si_num</th>\n",
              "      <th>market_num</th>\n",
              "      <th>elder_sz_num</th>\n",
              "      <th>ovp_num</th>\n",
              "    </tr>\n",
              "  </thead>\n",
              "  <tbody>\n",
              "    <tr>\n",
              "      <th>0</th>\n",
              "      <td>gn</td>\n",
              "      <td>351</td>\n",
              "      <td>112</td>\n",
              "      <td>267</td>\n",
              "      <td>67085</td>\n",
              "      <td>12.25</td>\n",
              "      <td>68.53</td>\n",
              "      <td>13.77</td>\n",
              "      <td>101.3</td>\n",
              "      <td>24.5</td>\n",
              "      <td>1034</td>\n",
              "      <td>10</td>\n",
              "      <td>11</td>\n",
              "      <td>20</td>\n",
              "    </tr>\n",
              "    <tr>\n",
              "      <th>1</th>\n",
              "      <td>gd</td>\n",
              "      <td>242</td>\n",
              "      <td>106</td>\n",
              "      <td>157</td>\n",
              "      <td>58770</td>\n",
              "      <td>13.61</td>\n",
              "      <td>79.28</td>\n",
              "      <td>17.18</td>\n",
              "      <td>70.4</td>\n",
              "      <td>23.9</td>\n",
              "      <td>450</td>\n",
              "      <td>10</td>\n",
              "      <td>6</td>\n",
              "      <td>20</td>\n",
              "    </tr>\n",
              "    <tr>\n",
              "      <th>2</th>\n",
              "      <td>gb</td>\n",
              "      <td>246</td>\n",
              "      <td>102</td>\n",
              "      <td>155</td>\n",
              "      <td>58196</td>\n",
              "      <td>18.02</td>\n",
              "      <td>76.12</td>\n",
              "      <td>21.52</td>\n",
              "      <td>34.0</td>\n",
              "      <td>21.3</td>\n",
              "      <td>219</td>\n",
              "      <td>12</td>\n",
              "      <td>2</td>\n",
              "      <td>1</td>\n",
              "    </tr>\n",
              "    <tr>\n",
              "      <th>3</th>\n",
              "      <td>gs</td>\n",
              "      <td>210</td>\n",
              "      <td>95</td>\n",
              "      <td>133</td>\n",
              "      <td>79660</td>\n",
              "      <td>13.20</td>\n",
              "      <td>79.62</td>\n",
              "      <td>16.22</td>\n",
              "      <td>66.8</td>\n",
              "      <td>23.6</td>\n",
              "      <td>485</td>\n",
              "      <td>12</td>\n",
              "      <td>13</td>\n",
              "      <td>4</td>\n",
              "    </tr>\n",
              "    <tr>\n",
              "      <th>4</th>\n",
              "      <td>gw</td>\n",
              "      <td>182</td>\n",
              "      <td>68</td>\n",
              "      <td>123</td>\n",
              "      <td>72249</td>\n",
              "      <td>13.89</td>\n",
              "      <td>79.78</td>\n",
              "      <td>15.84</td>\n",
              "      <td>42.3</td>\n",
              "      <td>25.3</td>\n",
              "      <td>238</td>\n",
              "      <td>16</td>\n",
              "      <td>7</td>\n",
              "      <td>16</td>\n",
              "    </tr>\n",
              "    <tr>\n",
              "      <th>5</th>\n",
              "      <td>gj</td>\n",
              "      <td>133</td>\n",
              "      <td>48</td>\n",
              "      <td>87</td>\n",
              "      <td>45619</td>\n",
              "      <td>12.29</td>\n",
              "      <td>80.77</td>\n",
              "      <td>14.60</td>\n",
              "      <td>53.4</td>\n",
              "      <td>25.0</td>\n",
              "      <td>300</td>\n",
              "      <td>12</td>\n",
              "      <td>4</td>\n",
              "      <td>0</td>\n",
              "    </tr>\n",
              "    <tr>\n",
              "      <th>6</th>\n",
              "      <td>gr</td>\n",
              "      <td>242</td>\n",
              "      <td>101</td>\n",
              "      <td>154</td>\n",
              "      <td>61801</td>\n",
              "      <td>14.09</td>\n",
              "      <td>76.61</td>\n",
              "      <td>16.00</td>\n",
              "      <td>38.3</td>\n",
              "      <td>23.6</td>\n",
              "      <td>277</td>\n",
              "      <td>9</td>\n",
              "      <td>2</td>\n",
              "      <td>12</td>\n",
              "    </tr>\n",
              "    <tr>\n",
              "      <th>7</th>\n",
              "      <td>gc</td>\n",
              "      <td>143</td>\n",
              "      <td>65</td>\n",
              "      <td>86</td>\n",
              "      <td>35739</td>\n",
              "      <td>14.07</td>\n",
              "      <td>81.90</td>\n",
              "      <td>14.67</td>\n",
              "      <td>42.1</td>\n",
              "      <td>23.5</td>\n",
              "      <td>228</td>\n",
              "      <td>9</td>\n",
              "      <td>4</td>\n",
              "      <td>14</td>\n",
              "    </tr>\n",
              "    <tr>\n",
              "      <th>8</th>\n",
              "      <td>nw</td>\n",
              "      <td>245</td>\n",
              "      <td>101</td>\n",
              "      <td>155</td>\n",
              "      <td>77096</td>\n",
              "      <td>14.06</td>\n",
              "      <td>78.82</td>\n",
              "      <td>17.07</td>\n",
              "      <td>67.9</td>\n",
              "      <td>24.0</td>\n",
              "      <td>580</td>\n",
              "      <td>6</td>\n",
              "      <td>6</td>\n",
              "      <td>7</td>\n",
              "    </tr>\n",
              "    <tr>\n",
              "      <th>9</th>\n",
              "      <td>db</td>\n",
              "      <td>190</td>\n",
              "      <td>83</td>\n",
              "      <td>117</td>\n",
              "      <td>55964</td>\n",
              "      <td>16.38</td>\n",
              "      <td>81.28</td>\n",
              "      <td>20.73</td>\n",
              "      <td>28.6</td>\n",
              "      <td>21.9</td>\n",
              "      <td>318</td>\n",
              "      <td>7</td>\n",
              "      <td>2</td>\n",
              "      <td>0</td>\n",
              "    </tr>\n",
              "    <tr>\n",
              "      <th>10</th>\n",
              "      <td>ddm</td>\n",
              "      <td>327</td>\n",
              "      <td>151</td>\n",
              "      <td>194</td>\n",
              "      <td>57165</td>\n",
              "      <td>15.69</td>\n",
              "      <td>75.01</td>\n",
              "      <td>18.69</td>\n",
              "      <td>50.4</td>\n",
              "      <td>23.9</td>\n",
              "      <td>352</td>\n",
              "      <td>19</td>\n",
              "      <td>6</td>\n",
              "      <td>6</td>\n",
              "    </tr>\n",
              "    <tr>\n",
              "      <th>11</th>\n",
              "      <td>dj</td>\n",
              "      <td>225</td>\n",
              "      <td>100</td>\n",
              "      <td>141</td>\n",
              "      <td>59479</td>\n",
              "      <td>14.53</td>\n",
              "      <td>77.49</td>\n",
              "      <td>17.11</td>\n",
              "      <td>33.5</td>\n",
              "      <td>26.0</td>\n",
              "      <td>183</td>\n",
              "      <td>10</td>\n",
              "      <td>6</td>\n",
              "      <td>14</td>\n",
              "    </tr>\n",
              "    <tr>\n",
              "      <th>12</th>\n",
              "      <td>mp</td>\n",
              "      <td>191</td>\n",
              "      <td>66</td>\n",
              "      <td>139</td>\n",
              "      <td>50833</td>\n",
              "      <td>13.16</td>\n",
              "      <td>79.32</td>\n",
              "      <td>13.37</td>\n",
              "      <td>70.1</td>\n",
              "      <td>24.4</td>\n",
              "      <td>653</td>\n",
              "      <td>15</td>\n",
              "      <td>5</td>\n",
              "      <td>3</td>\n",
              "    </tr>\n",
              "    <tr>\n",
              "      <th>13</th>\n",
              "      <td>sdm</td>\n",
              "      <td>203</td>\n",
              "      <td>85</td>\n",
              "      <td>127</td>\n",
              "      <td>50456</td>\n",
              "      <td>15.62</td>\n",
              "      <td>81.55</td>\n",
              "      <td>16.57</td>\n",
              "      <td>39.0</td>\n",
              "      <td>23.6</td>\n",
              "      <td>308</td>\n",
              "      <td>12</td>\n",
              "      <td>2</td>\n",
              "      <td>8</td>\n",
              "    </tr>\n",
              "    <tr>\n",
              "      <th>14</th>\n",
              "      <td>sc</td>\n",
              "      <td>290</td>\n",
              "      <td>92</td>\n",
              "      <td>223</td>\n",
              "      <td>54751</td>\n",
              "      <td>12.50</td>\n",
              "      <td>75.07</td>\n",
              "      <td>15.25</td>\n",
              "      <td>97.9</td>\n",
              "      <td>26.1</td>\n",
              "      <td>732</td>\n",
              "      <td>6</td>\n",
              "      <td>8</td>\n",
              "      <td>32</td>\n",
              "    </tr>\n",
              "    <tr>\n",
              "      <th>15</th>\n",
              "      <td>sd</td>\n",
              "      <td>158</td>\n",
              "      <td>56</td>\n",
              "      <td>108</td>\n",
              "      <td>42767</td>\n",
              "      <td>13.51</td>\n",
              "      <td>81.55</td>\n",
              "      <td>15.78</td>\n",
              "      <td>57.0</td>\n",
              "      <td>25.0</td>\n",
              "      <td>343</td>\n",
              "      <td>9</td>\n",
              "      <td>4</td>\n",
              "      <td>4</td>\n",
              "    </tr>\n",
              "    <tr>\n",
              "      <th>16</th>\n",
              "      <td>sb</td>\n",
              "      <td>228</td>\n",
              "      <td>99</td>\n",
              "      <td>137</td>\n",
              "      <td>67782</td>\n",
              "      <td>15.14</td>\n",
              "      <td>79.99</td>\n",
              "      <td>17.41</td>\n",
              "      <td>59.3</td>\n",
              "      <td>24.6</td>\n",
              "      <td>270</td>\n",
              "      <td>10</td>\n",
              "      <td>5</td>\n",
              "      <td>5</td>\n",
              "    </tr>\n",
              "    <tr>\n",
              "      <th>17</th>\n",
              "      <td>sp</td>\n",
              "      <td>373</td>\n",
              "      <td>146</td>\n",
              "      <td>257</td>\n",
              "      <td>81364</td>\n",
              "      <td>12.08</td>\n",
              "      <td>70.31</td>\n",
              "      <td>15.27</td>\n",
              "      <td>99.3</td>\n",
              "      <td>24.0</td>\n",
              "      <td>924</td>\n",
              "      <td>7</td>\n",
              "      <td>6</td>\n",
              "      <td>8</td>\n",
              "    </tr>\n",
              "    <tr>\n",
              "      <th>18</th>\n",
              "      <td>yc</td>\n",
              "      <td>209</td>\n",
              "      <td>70</td>\n",
              "      <td>154</td>\n",
              "      <td>58045</td>\n",
              "      <td>12.40</td>\n",
              "      <td>81.82</td>\n",
              "      <td>15.83</td>\n",
              "      <td>57.3</td>\n",
              "      <td>25.5</td>\n",
              "      <td>520</td>\n",
              "      <td>8</td>\n",
              "      <td>8</td>\n",
              "      <td>15</td>\n",
              "    </tr>\n",
              "    <tr>\n",
              "      <th>19</th>\n",
              "      <td>ydp</td>\n",
              "      <td>350</td>\n",
              "      <td>113</td>\n",
              "      <td>251</td>\n",
              "      <td>55673</td>\n",
              "      <td>13.79</td>\n",
              "      <td>66.95</td>\n",
              "      <td>15.59</td>\n",
              "      <td>81.7</td>\n",
              "      <td>23.8</td>\n",
              "      <td>719</td>\n",
              "      <td>18</td>\n",
              "      <td>3</td>\n",
              "      <td>12</td>\n",
              "    </tr>\n",
              "    <tr>\n",
              "      <th>20</th>\n",
              "      <td>ys</td>\n",
              "      <td>170</td>\n",
              "      <td>63</td>\n",
              "      <td>121</td>\n",
              "      <td>37640</td>\n",
              "      <td>15.36</td>\n",
              "      <td>77.69</td>\n",
              "      <td>15.96</td>\n",
              "      <td>62.1</td>\n",
              "      <td>26.6</td>\n",
              "      <td>346</td>\n",
              "      <td>7</td>\n",
              "      <td>4</td>\n",
              "      <td>15</td>\n",
              "    </tr>\n",
              "    <tr>\n",
              "      <th>21</th>\n",
              "      <td>ep</td>\n",
              "      <td>244</td>\n",
              "      <td>119</td>\n",
              "      <td>135</td>\n",
              "      <td>77420</td>\n",
              "      <td>15.88</td>\n",
              "      <td>80.26</td>\n",
              "      <td>19.57</td>\n",
              "      <td>44.3</td>\n",
              "      <td>21.7</td>\n",
              "      <td>368</td>\n",
              "      <td>13</td>\n",
              "      <td>8</td>\n",
              "      <td>1</td>\n",
              "    </tr>\n",
              "    <tr>\n",
              "      <th>22</th>\n",
              "      <td>jn</td>\n",
              "      <td>191</td>\n",
              "      <td>71</td>\n",
              "      <td>138</td>\n",
              "      <td>26742</td>\n",
              "      <td>16.40</td>\n",
              "      <td>77.66</td>\n",
              "      <td>16.78</td>\n",
              "      <td>45.9</td>\n",
              "      <td>22.5</td>\n",
              "      <td>265</td>\n",
              "      <td>21</td>\n",
              "      <td>5</td>\n",
              "      <td>3</td>\n",
              "    </tr>\n",
              "    <tr>\n",
              "      <th>23</th>\n",
              "      <td>jn</td>\n",
              "      <td>164</td>\n",
              "      <td>69</td>\n",
              "      <td>100</td>\n",
              "      <td>22005</td>\n",
              "      <td>16.22</td>\n",
              "      <td>71.06</td>\n",
              "      <td>14.58</td>\n",
              "      <td>43.8</td>\n",
              "      <td>19.5</td>\n",
              "      <td>391</td>\n",
              "      <td>38</td>\n",
              "      <td>3</td>\n",
              "      <td>3</td>\n",
              "    </tr>\n",
              "    <tr>\n",
              "      <th>24</th>\n",
              "      <td>jr</td>\n",
              "      <td>254</td>\n",
              "      <td>91</td>\n",
              "      <td>179</td>\n",
              "      <td>61830</td>\n",
              "      <td>15.15</td>\n",
              "      <td>77.85</td>\n",
              "      <td>18.68</td>\n",
              "      <td>49.7</td>\n",
              "      <td>22.8</td>\n",
              "      <td>438</td>\n",
              "      <td>12</td>\n",
              "      <td>3</td>\n",
              "      <td>4</td>\n",
              "    </tr>\n",
              "  </tbody>\n",
              "</table>\n",
              "</div>"
            ],
            "text/plain": [
              "     gu  elder_ac_num  elder_hv_num  elder_lt_num  elder_po_num  elder_po_per  \\\n",
              "0    gn           351           112           267         67085         12.25   \n",
              "1    gd           242           106           157         58770         13.61   \n",
              "2    gb           246           102           155         58196         18.02   \n",
              "3    gs           210            95           133         79660         13.20   \n",
              "4    gw           182            68           123         72249         13.89   \n",
              "5    gj           133            48            87         45619         12.29   \n",
              "6    gr           242           101           154         61801         14.09   \n",
              "7    gc           143            65            86         35739         14.07   \n",
              "8    nw           245           101           155         77096         14.06   \n",
              "9    db           190            83           117         55964         16.38   \n",
              "10  ddm           327           151           194         57165         15.69   \n",
              "11   dj           225           100           141         59479         14.53   \n",
              "12   mp           191            66           139         50833         13.16   \n",
              "13  sdm           203            85           127         50456         15.62   \n",
              "14   sc           290            92           223         54751         12.50   \n",
              "15   sd           158            56           108         42767         13.51   \n",
              "16   sb           228            99           137         67782         15.14   \n",
              "17   sp           373           146           257         81364         12.08   \n",
              "18   yc           209            70           154         58045         12.40   \n",
              "19  ydp           350           113           251         55673         13.79   \n",
              "20   ys           170            63           121         37640         15.36   \n",
              "21   ep           244           119           135         77420         15.88   \n",
              "22   jn           191            71           138         26742         16.40   \n",
              "23   jn           164            69           100         22005         16.22   \n",
              "24   jr           254            91           179         61830         15.15   \n",
              "\n",
              "    trans_sa_idx  elder_fpo_per  car_ro_len  car_ave_spd  road_si_num  \\\n",
              "0          68.53          13.77       101.3         24.5         1034   \n",
              "1          79.28          17.18        70.4         23.9          450   \n",
              "2          76.12          21.52        34.0         21.3          219   \n",
              "3          79.62          16.22        66.8         23.6          485   \n",
              "4          79.78          15.84        42.3         25.3          238   \n",
              "5          80.77          14.60        53.4         25.0          300   \n",
              "6          76.61          16.00        38.3         23.6          277   \n",
              "7          81.90          14.67        42.1         23.5          228   \n",
              "8          78.82          17.07        67.9         24.0          580   \n",
              "9          81.28          20.73        28.6         21.9          318   \n",
              "10         75.01          18.69        50.4         23.9          352   \n",
              "11         77.49          17.11        33.5         26.0          183   \n",
              "12         79.32          13.37        70.1         24.4          653   \n",
              "13         81.55          16.57        39.0         23.6          308   \n",
              "14         75.07          15.25        97.9         26.1          732   \n",
              "15         81.55          15.78        57.0         25.0          343   \n",
              "16         79.99          17.41        59.3         24.6          270   \n",
              "17         70.31          15.27        99.3         24.0          924   \n",
              "18         81.82          15.83        57.3         25.5          520   \n",
              "19         66.95          15.59        81.7         23.8          719   \n",
              "20         77.69          15.96        62.1         26.6          346   \n",
              "21         80.26          19.57        44.3         21.7          368   \n",
              "22         77.66          16.78        45.9         22.5          265   \n",
              "23         71.06          14.58        43.8         19.5          391   \n",
              "24         77.85          18.68        49.7         22.8          438   \n",
              "\n",
              "    market_num  elder_sz_num  ovp_num  \n",
              "0           10            11       20  \n",
              "1           10             6       20  \n",
              "2           12             2        1  \n",
              "3           12            13        4  \n",
              "4           16             7       16  \n",
              "5           12             4        0  \n",
              "6            9             2       12  \n",
              "7            9             4       14  \n",
              "8            6             6        7  \n",
              "9            7             2        0  \n",
              "10          19             6        6  \n",
              "11          10             6       14  \n",
              "12          15             5        3  \n",
              "13          12             2        8  \n",
              "14           6             8       32  \n",
              "15           9             4        4  \n",
              "16          10             5        5  \n",
              "17           7             6        8  \n",
              "18           8             8       15  \n",
              "19          18             3       12  \n",
              "20           7             4       15  \n",
              "21          13             8        1  \n",
              "22          21             5        3  \n",
              "23          38             3        3  \n",
              "24          12             3        4  "
            ]
          },
          "metadata": {
            "tags": []
          },
          "execution_count": 5
        }
      ]
    },
    {
      "cell_type": "code",
      "metadata": {
        "id": "VEY3gM0wyycZ",
        "colab_type": "code",
        "colab": {}
      },
      "source": [
        "# 분석1(negative binomail regression)에서 종속변수(노인사고수)와 관련이 있다고 도출된 독립변수들만 모아 새 데이터프레임 생성\n",
        "df_ac = df[['elder_po_per', 'trans_sa_idx', 'elder_fpo_per']]"
      ],
      "execution_count": 0,
      "outputs": []
    },
    {
      "cell_type": "code",
      "metadata": {
        "id": "GWrsSIm0yycb",
        "colab_type": "code",
        "outputId": "680b8351-af3a-49e6-8ed7-fc6162447a1d",
        "colab": {}
      },
      "source": [
        "# 정규화. 여기서는 minmax normalisation 사용\n",
        "min_max_scaler = MinMaxScaler()\n",
        "minmax_df_ac = min_max_scaler.fit(df_ac)\n",
        "print(minmax.data_max_)"
      ],
      "execution_count": 0,
      "outputs": [
        {
          "output_type": "stream",
          "text": [
            "[3.7300e+02 1.5100e+02 2.6700e+02 8.1364e+04 1.8020e+01 8.1900e+01\n",
            " 2.1520e+01 1.0130e+02 2.6600e+01 1.0340e+03 3.8000e+01 1.3000e+01\n",
            " 3.2000e+01]\n"
          ],
          "name": "stdout"
        }
      ]
    },
    {
      "cell_type": "code",
      "metadata": {
        "scrolled": true,
        "id": "19ofn5fmyycd",
        "colab_type": "code",
        "outputId": "448cf747-9660-4ae6-9e60-e51715f2be3b",
        "colab": {}
      },
      "source": [
        "# 정규화된 데이터를 바탕으로 새 데이터프레임 생성\n",
        "scaled_df_ac = min_max_scaler.transform(df_ac)\n",
        "scaled_df_ac = pd.DataFrame(scaled_df_ac, columns=df_ac.columns, index=list(df_ac.index.values))\n",
        "scaled_df_ac"
      ],
      "execution_count": 0,
      "outputs": [
        {
          "output_type": "execute_result",
          "data": {
            "text/html": [
              "<div>\n",
              "<style scoped>\n",
              "    .dataframe tbody tr th:only-of-type {\n",
              "        vertical-align: middle;\n",
              "    }\n",
              "\n",
              "    .dataframe tbody tr th {\n",
              "        vertical-align: top;\n",
              "    }\n",
              "\n",
              "    .dataframe thead th {\n",
              "        text-align: right;\n",
              "    }\n",
              "</style>\n",
              "<table border=\"1\" class=\"dataframe\">\n",
              "  <thead>\n",
              "    <tr style=\"text-align: right;\">\n",
              "      <th></th>\n",
              "      <th>elder_po_per</th>\n",
              "      <th>trans_sa_idx</th>\n",
              "      <th>elder_fpo_per</th>\n",
              "    </tr>\n",
              "  </thead>\n",
              "  <tbody>\n",
              "    <tr>\n",
              "      <th>0</th>\n",
              "      <td>0.028620</td>\n",
              "      <td>0.105686</td>\n",
              "      <td>0.049080</td>\n",
              "    </tr>\n",
              "    <tr>\n",
              "      <th>1</th>\n",
              "      <td>0.257576</td>\n",
              "      <td>0.824749</td>\n",
              "      <td>0.467485</td>\n",
              "    </tr>\n",
              "    <tr>\n",
              "      <th>2</th>\n",
              "      <td>1.000000</td>\n",
              "      <td>0.613378</td>\n",
              "      <td>1.000000</td>\n",
              "    </tr>\n",
              "    <tr>\n",
              "      <th>3</th>\n",
              "      <td>0.188552</td>\n",
              "      <td>0.847492</td>\n",
              "      <td>0.349693</td>\n",
              "    </tr>\n",
              "    <tr>\n",
              "      <th>4</th>\n",
              "      <td>0.304714</td>\n",
              "      <td>0.858194</td>\n",
              "      <td>0.303067</td>\n",
              "    </tr>\n",
              "    <tr>\n",
              "      <th>5</th>\n",
              "      <td>0.035354</td>\n",
              "      <td>0.924415</td>\n",
              "      <td>0.150920</td>\n",
              "    </tr>\n",
              "    <tr>\n",
              "      <th>6</th>\n",
              "      <td>0.338384</td>\n",
              "      <td>0.646154</td>\n",
              "      <td>0.322699</td>\n",
              "    </tr>\n",
              "    <tr>\n",
              "      <th>7</th>\n",
              "      <td>0.335017</td>\n",
              "      <td>1.000000</td>\n",
              "      <td>0.159509</td>\n",
              "    </tr>\n",
              "    <tr>\n",
              "      <th>8</th>\n",
              "      <td>0.333333</td>\n",
              "      <td>0.793980</td>\n",
              "      <td>0.453988</td>\n",
              "    </tr>\n",
              "    <tr>\n",
              "      <th>9</th>\n",
              "      <td>0.723906</td>\n",
              "      <td>0.958528</td>\n",
              "      <td>0.903067</td>\n",
              "    </tr>\n",
              "    <tr>\n",
              "      <th>10</th>\n",
              "      <td>0.607744</td>\n",
              "      <td>0.539130</td>\n",
              "      <td>0.652761</td>\n",
              "    </tr>\n",
              "    <tr>\n",
              "      <th>11</th>\n",
              "      <td>0.412458</td>\n",
              "      <td>0.705017</td>\n",
              "      <td>0.458896</td>\n",
              "    </tr>\n",
              "    <tr>\n",
              "      <th>12</th>\n",
              "      <td>0.181818</td>\n",
              "      <td>0.827425</td>\n",
              "      <td>0.000000</td>\n",
              "    </tr>\n",
              "    <tr>\n",
              "      <th>13</th>\n",
              "      <td>0.595960</td>\n",
              "      <td>0.976589</td>\n",
              "      <td>0.392638</td>\n",
              "    </tr>\n",
              "    <tr>\n",
              "      <th>14</th>\n",
              "      <td>0.070707</td>\n",
              "      <td>0.543144</td>\n",
              "      <td>0.230675</td>\n",
              "    </tr>\n",
              "    <tr>\n",
              "      <th>15</th>\n",
              "      <td>0.240741</td>\n",
              "      <td>0.976589</td>\n",
              "      <td>0.295706</td>\n",
              "    </tr>\n",
              "    <tr>\n",
              "      <th>16</th>\n",
              "      <td>0.515152</td>\n",
              "      <td>0.872241</td>\n",
              "      <td>0.495706</td>\n",
              "    </tr>\n",
              "    <tr>\n",
              "      <th>17</th>\n",
              "      <td>0.000000</td>\n",
              "      <td>0.224749</td>\n",
              "      <td>0.233129</td>\n",
              "    </tr>\n",
              "    <tr>\n",
              "      <th>18</th>\n",
              "      <td>0.053872</td>\n",
              "      <td>0.994649</td>\n",
              "      <td>0.301840</td>\n",
              "    </tr>\n",
              "    <tr>\n",
              "      <th>19</th>\n",
              "      <td>0.287879</td>\n",
              "      <td>0.000000</td>\n",
              "      <td>0.272393</td>\n",
              "    </tr>\n",
              "    <tr>\n",
              "      <th>20</th>\n",
              "      <td>0.552189</td>\n",
              "      <td>0.718395</td>\n",
              "      <td>0.317791</td>\n",
              "    </tr>\n",
              "    <tr>\n",
              "      <th>21</th>\n",
              "      <td>0.639731</td>\n",
              "      <td>0.890301</td>\n",
              "      <td>0.760736</td>\n",
              "    </tr>\n",
              "    <tr>\n",
              "      <th>22</th>\n",
              "      <td>0.727273</td>\n",
              "      <td>0.716388</td>\n",
              "      <td>0.418405</td>\n",
              "    </tr>\n",
              "    <tr>\n",
              "      <th>23</th>\n",
              "      <td>0.696970</td>\n",
              "      <td>0.274916</td>\n",
              "      <td>0.148466</td>\n",
              "    </tr>\n",
              "    <tr>\n",
              "      <th>24</th>\n",
              "      <td>0.516835</td>\n",
              "      <td>0.729097</td>\n",
              "      <td>0.651534</td>\n",
              "    </tr>\n",
              "  </tbody>\n",
              "</table>\n",
              "</div>"
            ],
            "text/plain": [
              "    elder_po_per  trans_sa_idx  elder_fpo_per\n",
              "0       0.028620      0.105686       0.049080\n",
              "1       0.257576      0.824749       0.467485\n",
              "2       1.000000      0.613378       1.000000\n",
              "3       0.188552      0.847492       0.349693\n",
              "4       0.304714      0.858194       0.303067\n",
              "5       0.035354      0.924415       0.150920\n",
              "6       0.338384      0.646154       0.322699\n",
              "7       0.335017      1.000000       0.159509\n",
              "8       0.333333      0.793980       0.453988\n",
              "9       0.723906      0.958528       0.903067\n",
              "10      0.607744      0.539130       0.652761\n",
              "11      0.412458      0.705017       0.458896\n",
              "12      0.181818      0.827425       0.000000\n",
              "13      0.595960      0.976589       0.392638\n",
              "14      0.070707      0.543144       0.230675\n",
              "15      0.240741      0.976589       0.295706\n",
              "16      0.515152      0.872241       0.495706\n",
              "17      0.000000      0.224749       0.233129\n",
              "18      0.053872      0.994649       0.301840\n",
              "19      0.287879      0.000000       0.272393\n",
              "20      0.552189      0.718395       0.317791\n",
              "21      0.639731      0.890301       0.760736\n",
              "22      0.727273      0.716388       0.418405\n",
              "23      0.696970      0.274916       0.148466\n",
              "24      0.516835      0.729097       0.651534"
            ]
          },
          "metadata": {
            "tags": []
          },
          "execution_count": 74
        }
      ]
    },
    {
      "cell_type": "code",
      "metadata": {
        "id": "7xbmKaFTyycf",
        "colab_type": "code",
        "outputId": "5547f302-a4f1-4be1-d66f-457cdcb7957a",
        "colab": {}
      },
      "source": [
        "# elbow: kmeans 군집분석을 위해 몇 개의 클러스터로 나누어야 하는지 검토. 아래와 같은 경우는 변화의 폭이 가장 큰 3을 클러스터의 수로 설정\n",
        "def elbow(K):\n",
        "    sse = []\n",
        "\n",
        "    for i in range(1,11):\n",
        "        km = KMeans(n_clusters=i, algorithm='auto', random_state=42)\n",
        "        km.fit(K)\n",
        "        sse.append(km.inertia_)\n",
        "\n",
        "    plt.plot(range(1,11), sse, marker='o')\n",
        "    plt.xlabel('K') # K값\n",
        "    plt.ylabel('SSE') # 오차제곱근\n",
        "    plt.show()\n",
        "\n",
        "elbow(scaled_df_ac)"
      ],
      "execution_count": 0,
      "outputs": [
        {
          "output_type": "display_data",
          "data": {
            "image/png": "[encoded data removed]",
            "text/plain": [
              "<Figure size 432x288 with 1 Axes>"
            ]
          },
          "metadata": {
            "tags": [],
            "needs_background": "light"
          }
        }
      ]
    },
    {
      "cell_type": "code",
      "metadata": {
        "id": "L54wjfeEyyci",
        "colab_type": "code",
        "outputId": "eba61edb-e80a-45dd-cc61-cc3431d23d9b",
        "colab": {}
      },
      "source": [
        "# silhouette: elbow에서 도출된 클러스터 갯수의 타당성 검증\n",
        "def plotSilhouette(X, y_km):\n",
        "    cluster_labels = np.unique(y_km)\n",
        "    n_clusters = cluster_labels.shape[0]\n",
        "    silhouette_vals = silhouette_samples(X, y_km, metric = 'euclidean')\n",
        "    y_ax_lower, y_ax_upper = 0, 0\n",
        "    yticks = []\n",
        "\n",
        "    for i, c in enumerate(cluster_labels):\n",
        "        c_silhouette_vals = silhouette_vals[y_km == c]\n",
        "        c_silhouette_vals.sort()\n",
        "        y_ax_upper += len(c_silhouette_vals)\n",
        "        color = cm.jet(i/n_clusters)\n",
        "\n",
        "        plt.barh(range(y_ax_lower, y_ax_upper), c_silhouette_vals, height=1.0,\n",
        "                edgecolor='none', color=color)\n",
        "        yticks.append((y_ax_lower + y_ax_upper)/2)\n",
        "        y_ax_lower += len(c_silhouette_vals)\n",
        "\n",
        "    silhoutte_avg = np.mean(silhouette_vals)\n",
        "    plt.axvline(silhoutte_avg, color = 'red', linestyle='--')\n",
        "    plt.yticks(yticks, cluster_labels+1)\n",
        "    plt.ylabel('K')\n",
        "    plt.xlabel('silhouette')\n",
        "    plt.show()\n",
        "\n",
        "k = 3\n",
        "\n",
        "X, y = make_blobs(n_samples=150, n_features=2, centers=3, cluster_std=0.5,\n",
        "                  shuffle=True, random_state=0)\n",
        "km = KMeans(n_clusters=k, algorithm='auto', random_state=42)\n",
        "y_km = km.fit_predict(scaled_df_ac)\n",
        "plotSilhouette(scaled_df_ac, y_km)"
      ],
      "execution_count": 0,
      "outputs": [
        {
          "output_type": "display_data",
          "data": {
            "image/png": "[encoded data removed]",
            "text/plain": [
              "<Figure size 432x288 with 1 Axes>"
            ]
          },
          "metadata": {
            "tags": [],
            "needs_background": "light"
          }
        }
      ]
    },
    {
      "cell_type": "code",
      "metadata": {
        "id": "ndsJ1WJ9yyck",
        "colab_type": "code",
        "outputId": "5f0d4275-a4b2-49eb-c932-6349743a4fae",
        "colab": {}
      },
      "source": [
        "# elbow와 silhouette에서 도출된 값을 바탕으로 kmeans 군집분석 실행\n",
        "kmeans = KMeans(n_clusters=3).fit(scaled_df_ac)\n",
        "kmeans.labels_"
      ],
      "execution_count": 0,
      "outputs": [
        {
          "output_type": "execute_result",
          "data": {
            "text/plain": [
              "array([1, 2, 0, 2, 2, 2, 2, 2, 2, 0, 0, 0, 2, 0, 2, 2, 0, 1, 2, 1, 0, 0,\n",
              "       0, 1, 0])"
            ]
          },
          "metadata": {
            "tags": []
          },
          "execution_count": 77
        }
      ]
    },
    {
      "cell_type": "code",
      "metadata": {
        "id": "h__o388zyycm",
        "colab_type": "code",
        "colab": {}
      },
      "source": [
        "# 무엇이 어떤 클러스터에 속하는지 원활히 파악하기 위해 'cluster_id' 컬럼 생성\n",
        "scaled_df_ac['cluster_id'] = kmeans.labels_"
      ],
      "execution_count": 0,
      "outputs": []
    },
    {
      "cell_type": "code",
      "metadata": {
        "id": "HoCxIgZZ3Psb",
        "colab_type": "code",
        "colab": {}
      },
      "source": [
        "# 노인사고수와 유관한 독립변수들의 상관관계 및 집합적 특성을 파악하기 위한 kmeans 군집분석 진행"
      ],
      "execution_count": 0,
      "outputs": []
    },
    {
      "cell_type": "code",
      "metadata": {
        "scrolled": false,
        "id": "2sLGe5osyyco",
        "colab_type": "code",
        "outputId": "5a9902f2-a163-45f2-eb9b-bc906c223113",
        "colab": {}
      },
      "source": [
        "sns.lmplot('elder_po_per', 'trans_sa_idx', data=scaled_df_ac, fit_reg=False, scatter_kws={'s':100}, hue='cluster_id')\n",
        "plt.title('scaled_df_ac~elder_po_per+trans_sa_idx k=3')"
      ],
      "execution_count": 0,
      "outputs": [
        {
          "output_type": "execute_result",
          "data": {
            "text/plain": [
              "Text(0.5, 1, 'scaled_df_ac~elder_po_per+trans_sa_idx k=3')"
            ]
          },
          "metadata": {
            "tags": []
          },
          "execution_count": 91
        },
        {
          "output_type": "display_data",
          "data": {
            "image/png": "[encoded data removed]",
            "text/plain": [
              "<Figure size 416.375x360 with 1 Axes>"
            ]
          },
          "metadata": {
            "tags": [],
            "needs_background": "light"
          }
        }
      ]
    },
    {
      "cell_type": "code",
      "metadata": {
        "scrolled": true,
        "id": "_eQCi0ldyycr",
        "colab_type": "code",
        "outputId": "09f1c06e-f34f-4d5b-bd4e-0eaa15a70d58",
        "colab": {}
      },
      "source": [
        "sns.lmplot('elder_po_per', 'elder_fpo_per', data=scaled_df_ac, fit_reg=False, scatter_kws={'s':100}, hue='cluster_id')\n",
        "plt.title('scaled_df_ac~elder_po_per+elder_fpo_per k=3')"
      ],
      "execution_count": 0,
      "outputs": [
        {
          "output_type": "execute_result",
          "data": {
            "text/plain": [
              "Text(0.5, 1, 'scaled_df_ac~elder_po_per+elder_fpo_per k=3')"
            ]
          },
          "metadata": {
            "tags": []
          },
          "execution_count": 92
        },
        {
          "output_type": "display_data",
          "data": {
            "image/png": "[encoded data removed]",
            "text/plain": [
              "<Figure size 416.375x360 with 1 Axes>"
            ]
          },
          "metadata": {
            "tags": [],
            "needs_background": "light"
          }
        }
      ]
    },
    {
      "cell_type": "code",
      "metadata": {
        "scrolled": true,
        "id": "sASg9IuTyycs",
        "colab_type": "code",
        "outputId": "08070948-2d8d-4123-8713-3c06a9d36b56",
        "colab": {}
      },
      "source": [
        "sns.lmplot('trans_sa_idx', 'elder_fpo_per', data=scaled_df_ac, fit_reg=False, scatter_kws={'s':100}, hue='cluster_id')\n",
        "plt.title('scaled_df_ac~trans_sa_idx+elder_fpo_per k=3')"
      ],
      "execution_count": 0,
      "outputs": [
        {
          "output_type": "execute_result",
          "data": {
            "text/plain": [
              "Text(0.5, 1, 'scaled_df_ac~trans_sa_idx+elder_fpo_per k=3')"
            ]
          },
          "metadata": {
            "tags": []
          },
          "execution_count": 93
        },
        {
          "output_type": "display_data",
          "data": {
            "image/png": "[encoded data removed]",
            "text/plain": [
              "<Figure size 416.375x360 with 1 Axes>"
            ]
          },
          "metadata": {
            "tags": [],
            "needs_background": "light"
          }
        }
      ]
    },
    {
      "cell_type": "code",
      "metadata": {
        "id": "YxV1IqnTyycv",
        "colab_type": "code",
        "colab": {}
      },
      "source": [
        "# 분석1(negative binomail regression)에서 종속변수(노인중상이상수)와 관련이 있다고 도출된 독립변수들만 모아 새 데이터프레임 생성\n",
        "df_hv = df[['elder_po_per', 'trans_sa_idx']]"
      ],
      "execution_count": 0,
      "outputs": []
    },
    {
      "cell_type": "code",
      "metadata": {
        "id": "VOdeZZf9yycx",
        "colab_type": "code",
        "outputId": "e3d253c9-b094-4bc9-9483-e5c5530080ec",
        "colab": {}
      },
      "source": [
        "# 정규화. 여기서는 minmax normalisation 사용\n",
        "min_max_scaler = MinMaxScaler()\n",
        "minmax_df_hv = min_max_scaler.fit(df_hv)\n",
        "print(minmax.data_max_)"
      ],
      "execution_count": 0,
      "outputs": [
        {
          "output_type": "stream",
          "text": [
            "[3.7300e+02 1.5100e+02 2.6700e+02 8.1364e+04 1.8020e+01 8.1900e+01\n",
            " 2.1520e+01 1.0130e+02 2.6600e+01 1.0340e+03 3.8000e+01 1.3000e+01\n",
            " 3.2000e+01]\n"
          ],
          "name": "stdout"
        }
      ]
    },
    {
      "cell_type": "code",
      "metadata": {
        "scrolled": true,
        "id": "dCNH2sfyyycz",
        "colab_type": "code",
        "outputId": "5538e2d1-d1f0-46d9-8387-ce7f69596d8f",
        "colab": {}
      },
      "source": [
        "# 정규화된 데이터를 바탕으로 새 데이터프레임 생성\n",
        "scaled_df_hv = min_max_scaler.transform(df_hv)\n",
        "scaled_df_hv = pd.DataFrame(scaled_df_hv, columns=df_hv.columns, index=list(df_hv.index.values))\n",
        "scaled_df_hv"
      ],
      "execution_count": 0,
      "outputs": [
        {
          "output_type": "execute_result",
          "data": {
            "text/html": [
              "<div>\n",
              "<style scoped>\n",
              "    .dataframe tbody tr th:only-of-type {\n",
              "        vertical-align: middle;\n",
              "    }\n",
              "\n",
              "    .dataframe tbody tr th {\n",
              "        vertical-align: top;\n",
              "    }\n",
              "\n",
              "    .dataframe thead th {\n",
              "        text-align: right;\n",
              "    }\n",
              "</style>\n",
              "<table border=\"1\" class=\"dataframe\">\n",
              "  <thead>\n",
              "    <tr style=\"text-align: right;\">\n",
              "      <th></th>\n",
              "      <th>elder_po_per</th>\n",
              "      <th>trans_sa_idx</th>\n",
              "    </tr>\n",
              "  </thead>\n",
              "  <tbody>\n",
              "    <tr>\n",
              "      <th>0</th>\n",
              "      <td>0.028620</td>\n",
              "      <td>0.105686</td>\n",
              "    </tr>\n",
              "    <tr>\n",
              "      <th>1</th>\n",
              "      <td>0.257576</td>\n",
              "      <td>0.824749</td>\n",
              "    </tr>\n",
              "    <tr>\n",
              "      <th>2</th>\n",
              "      <td>1.000000</td>\n",
              "      <td>0.613378</td>\n",
              "    </tr>\n",
              "    <tr>\n",
              "      <th>3</th>\n",
              "      <td>0.188552</td>\n",
              "      <td>0.847492</td>\n",
              "    </tr>\n",
              "    <tr>\n",
              "      <th>4</th>\n",
              "      <td>0.304714</td>\n",
              "      <td>0.858194</td>\n",
              "    </tr>\n",
              "    <tr>\n",
              "      <th>5</th>\n",
              "      <td>0.035354</td>\n",
              "      <td>0.924415</td>\n",
              "    </tr>\n",
              "    <tr>\n",
              "      <th>6</th>\n",
              "      <td>0.338384</td>\n",
              "      <td>0.646154</td>\n",
              "    </tr>\n",
              "    <tr>\n",
              "      <th>7</th>\n",
              "      <td>0.335017</td>\n",
              "      <td>1.000000</td>\n",
              "    </tr>\n",
              "    <tr>\n",
              "      <th>8</th>\n",
              "      <td>0.333333</td>\n",
              "      <td>0.793980</td>\n",
              "    </tr>\n",
              "    <tr>\n",
              "      <th>9</th>\n",
              "      <td>0.723906</td>\n",
              "      <td>0.958528</td>\n",
              "    </tr>\n",
              "    <tr>\n",
              "      <th>10</th>\n",
              "      <td>0.607744</td>\n",
              "      <td>0.539130</td>\n",
              "    </tr>\n",
              "    <tr>\n",
              "      <th>11</th>\n",
              "      <td>0.412458</td>\n",
              "      <td>0.705017</td>\n",
              "    </tr>\n",
              "    <tr>\n",
              "      <th>12</th>\n",
              "      <td>0.181818</td>\n",
              "      <td>0.827425</td>\n",
              "    </tr>\n",
              "    <tr>\n",
              "      <th>13</th>\n",
              "      <td>0.595960</td>\n",
              "      <td>0.976589</td>\n",
              "    </tr>\n",
              "    <tr>\n",
              "      <th>14</th>\n",
              "      <td>0.070707</td>\n",
              "      <td>0.543144</td>\n",
              "    </tr>\n",
              "    <tr>\n",
              "      <th>15</th>\n",
              "      <td>0.240741</td>\n",
              "      <td>0.976589</td>\n",
              "    </tr>\n",
              "    <tr>\n",
              "      <th>16</th>\n",
              "      <td>0.515152</td>\n",
              "      <td>0.872241</td>\n",
              "    </tr>\n",
              "    <tr>\n",
              "      <th>17</th>\n",
              "      <td>0.000000</td>\n",
              "      <td>0.224749</td>\n",
              "    </tr>\n",
              "    <tr>\n",
              "      <th>18</th>\n",
              "      <td>0.053872</td>\n",
              "      <td>0.994649</td>\n",
              "    </tr>\n",
              "    <tr>\n",
              "      <th>19</th>\n",
              "      <td>0.287879</td>\n",
              "      <td>0.000000</td>\n",
              "    </tr>\n",
              "    <tr>\n",
              "      <th>20</th>\n",
              "      <td>0.552189</td>\n",
              "      <td>0.718395</td>\n",
              "    </tr>\n",
              "    <tr>\n",
              "      <th>21</th>\n",
              "      <td>0.639731</td>\n",
              "      <td>0.890301</td>\n",
              "    </tr>\n",
              "    <tr>\n",
              "      <th>22</th>\n",
              "      <td>0.727273</td>\n",
              "      <td>0.716388</td>\n",
              "    </tr>\n",
              "    <tr>\n",
              "      <th>23</th>\n",
              "      <td>0.696970</td>\n",
              "      <td>0.274916</td>\n",
              "    </tr>\n",
              "    <tr>\n",
              "      <th>24</th>\n",
              "      <td>0.516835</td>\n",
              "      <td>0.729097</td>\n",
              "    </tr>\n",
              "  </tbody>\n",
              "</table>\n",
              "</div>"
            ],
            "text/plain": [
              "    elder_po_per  trans_sa_idx\n",
              "0       0.028620      0.105686\n",
              "1       0.257576      0.824749\n",
              "2       1.000000      0.613378\n",
              "3       0.188552      0.847492\n",
              "4       0.304714      0.858194\n",
              "5       0.035354      0.924415\n",
              "6       0.338384      0.646154\n",
              "7       0.335017      1.000000\n",
              "8       0.333333      0.793980\n",
              "9       0.723906      0.958528\n",
              "10      0.607744      0.539130\n",
              "11      0.412458      0.705017\n",
              "12      0.181818      0.827425\n",
              "13      0.595960      0.976589\n",
              "14      0.070707      0.543144\n",
              "15      0.240741      0.976589\n",
              "16      0.515152      0.872241\n",
              "17      0.000000      0.224749\n",
              "18      0.053872      0.994649\n",
              "19      0.287879      0.000000\n",
              "20      0.552189      0.718395\n",
              "21      0.639731      0.890301\n",
              "22      0.727273      0.716388\n",
              "23      0.696970      0.274916\n",
              "24      0.516835      0.729097"
            ]
          },
          "metadata": {
            "tags": []
          },
          "execution_count": 86
        }
      ]
    },
    {
      "cell_type": "code",
      "metadata": {
        "scrolled": true,
        "id": "_05uJCwfyyc1",
        "colab_type": "code",
        "outputId": "681bf9bb-30f7-40ee-e591-f4b8a0098a75",
        "colab": {}
      },
      "source": [
        "# elbow: kmeans 군집분석을 위해 몇 개의 클러스터로 나누어야 하는지 검토. 아래와 같은 경우는 변화의 폭이 가장 큰 3을 클러스터의 수로 설정\n",
        "def elbow(K):\n",
        "    sse = []\n",
        "\n",
        "    for i in range(1,11):\n",
        "        km = KMeans(n_clusters=i, algorithm='auto', random_state=42)\n",
        "        km.fit(K)\n",
        "        sse.append(km.inertia_)\n",
        "\n",
        "    plt.plot(range(1,11), sse, marker='o')\n",
        "    plt.xlabel('K') # K값\n",
        "    plt.ylabel('SSE') # 오차제곱근\n",
        "    plt.show()\n",
        "\n",
        "elbow(scaled_df_hv)"
      ],
      "execution_count": 0,
      "outputs": [
        {
          "output_type": "display_data",
          "data": {
            "image/png": "[encoded data removed]",
            "text/plain": [
              "<Figure size 432x288 with 1 Axes>"
            ]
          },
          "metadata": {
            "tags": [],
            "needs_background": "light"
          }
        }
      ]
    },
    {
      "cell_type": "code",
      "metadata": {
        "id": "hhO0ttL_yyc4",
        "colab_type": "code",
        "outputId": "9ba0d26f-b6bb-4d45-c401-4ad216d71750",
        "colab": {}
      },
      "source": [
        "# silhouette. elbow에서 도출된 클러스터 갯수의 타당성 검증\n",
        "def plotSilhouette(X, y_km):\n",
        "    cluster_labels = np.unique(y_km)\n",
        "    n_clusters = cluster_labels.shape[0]\n",
        "    silhouette_vals = silhouette_samples(X, y_km, metric = 'euclidean')\n",
        "    y_ax_lower, y_ax_upper = 0, 0\n",
        "    yticks = []\n",
        "\n",
        "    for i, c in enumerate(cluster_labels):\n",
        "        c_silhouette_vals = silhouette_vals[y_km == c]\n",
        "        c_silhouette_vals.sort()\n",
        "        y_ax_upper += len(c_silhouette_vals)\n",
        "        color = cm.jet(i/n_clusters)\n",
        "\n",
        "        plt.barh(range(y_ax_lower, y_ax_upper), c_silhouette_vals, height=1.0,\n",
        "                edgecolor='none', color=color)\n",
        "        yticks.append((y_ax_lower + y_ax_upper)/2)\n",
        "        y_ax_lower += len(c_silhouette_vals)\n",
        "\n",
        "    silhoutte_avg = np.mean(silhouette_vals)\n",
        "    plt.axvline(silhoutte_avg, color = 'red', linestyle='--')\n",
        "    plt.yticks(yticks, cluster_labels+1)\n",
        "    plt.ylabel('K')\n",
        "    plt.xlabel('silhouette')\n",
        "    plt.show()\n",
        "\n",
        "k = 3\n",
        "\n",
        "X, y = make_blobs(n_samples=150, n_features=2, centers=3, cluster_std=0.5,\n",
        "                  shuffle=True, random_state=0)\n",
        "km = KMeans(n_clusters=k, algorithm='auto', random_state=42)\n",
        "y_km = km.fit_predict(scaled_df_hv)\n",
        "plotSilhouette(scaled_df_hv, y_km)"
      ],
      "execution_count": 0,
      "outputs": [
        {
          "output_type": "display_data",
          "data": {
            "image/png": "[encoded data removed]",
            "text/plain": [
              "<Figure size 432x288 with 1 Axes>"
            ]
          },
          "metadata": {
            "tags": [],
            "needs_background": "light"
          }
        }
      ]
    },
    {
      "cell_type": "code",
      "metadata": {
        "id": "HHgZsLBgyyc8",
        "colab_type": "code",
        "outputId": "a52fb161-d738-4774-caf9-ba3f52830cca",
        "colab": {}
      },
      "source": [
        "# elbow와 silhouette에서 도출된 값을 바탕으로 kmeans 군집분석 실행\n",
        "kmeans = KMeans(n_clusters=3).fit(scaled_df_hv)\n",
        "kmeans.labels_"
      ],
      "execution_count": 0,
      "outputs": [
        {
          "output_type": "execute_result",
          "data": {
            "text/plain": [
              "array([1, 0, 2, 0, 0, 0, 0, 0, 0, 2, 2, 0, 0, 2, 0, 0, 2, 1, 0, 1, 2, 2,\n",
              "       2, 2, 2])"
            ]
          },
          "metadata": {
            "tags": []
          },
          "execution_count": 89
        }
      ]
    },
    {
      "cell_type": "code",
      "metadata": {
        "id": "XRulmTYKyydE",
        "colab_type": "code",
        "colab": {}
      },
      "source": [
        "# 무엇이 어떤 클러스터에 속하는지 원활히 파악하기 위해 'cluster_id' 컬럼 생성\n",
        "scaled_df_hv['cluster_id'] = kmeans.labels_"
      ],
      "execution_count": 0,
      "outputs": []
    },
    {
      "cell_type": "code",
      "metadata": {
        "id": "V4Usqq_C54T3",
        "colab_type": "code",
        "colab": {}
      },
      "source": [
        "# 노인중상이상수와 유관한 독립변수들의 상관관계 및 집합적 특성을 파악하기 위한 kmeans 군집분석 진행"
      ],
      "execution_count": 0,
      "outputs": []
    },
    {
      "cell_type": "code",
      "metadata": {
        "scrolled": false,
        "id": "V_FkZ9wjyydN",
        "colab_type": "code",
        "outputId": "fee763c2-7967-45c2-8ca4-40a5f03eb6f5",
        "colab": {}
      },
      "source": [
        "sns.lmplot('elder_po_per', 'trans_sa_idx', data=scaled_df_ac, fit_reg=False, scatter_kws={'s':100}, hue='cluster_id')\n",
        "plt.title('scaled_df_hv~elder_po_per+trans_sa_idx k=3')"
      ],
      "execution_count": 0,
      "outputs": [
        {
          "output_type": "execute_result",
          "data": {
            "text/plain": [
              "Text(0.5, 1, 'scaled_df_hv~elder_po_per+trans_sa_idx k=3')"
            ]
          },
          "metadata": {
            "tags": []
          },
          "execution_count": 94
        },
        {
          "output_type": "display_data",
          "data": {
            "image/png": "[encoded data removed]",
            "text/plain": [
              "<Figure size 416.375x360 with 1 Axes>"
            ]
          },
          "metadata": {
            "tags": [],
            "needs_background": "light"
          }
        }
      ]
    },
    {
      "cell_type": "code",
      "metadata": {
        "id": "Zn3JQbDTyydU",
        "colab_type": "code",
        "colab": {}
      },
      "source": [
        "# 분석1(negative binomail regression)에서 종속변수(노인경상이하수)와 관련이 있다고 도출된 독립변수들만 모아 새 데이터프레임 생성\n",
        "df_lt = df[['trans_sa_idx', 'elder_fpo_per', 'car_ave_spd', 'road_si_num', 'ovp_num']]"
      ],
      "execution_count": 0,
      "outputs": []
    },
    {
      "cell_type": "code",
      "metadata": {
        "id": "XCX58aEWyydW",
        "colab_type": "code",
        "outputId": "670bf8ab-41c5-4027-dd06-3e5b02c0db3f",
        "colab": {}
      },
      "source": [
        "# 정규화. 여기서는 minmax normalisation 사용\n",
        "min_max_scaler = MinMaxScaler()\n",
        "minmax_df_lt = min_max_scaler.fit(df_lt)\n",
        "print(minmax.data_max_)"
      ],
      "execution_count": 0,
      "outputs": [
        {
          "output_type": "stream",
          "text": [
            "[3.7300e+02 1.5100e+02 2.6700e+02 8.1364e+04 1.8020e+01 8.1900e+01\n",
            " 2.1520e+01 1.0130e+02 2.6600e+01 1.0340e+03 3.8000e+01 1.3000e+01\n",
            " 3.2000e+01]\n"
          ],
          "name": "stdout"
        }
      ]
    },
    {
      "cell_type": "code",
      "metadata": {
        "scrolled": true,
        "id": "RYThSy3NyydX",
        "colab_type": "code",
        "outputId": "27ce5222-a705-4e75-eae2-0bca0ca80ef1",
        "colab": {}
      },
      "source": [
        "# 정규화된 데이터를 바탕으로 새 데이터프레임 생성\n",
        "scaled_df_lt = min_max_scaler.transform(df_lt)\n",
        "scaled_df_lt = pd.DataFrame(scaled_df_lt, columns=df_lt.columns, index=list(df_lt.index.values))\n",
        "scaled_df_lt"
      ],
      "execution_count": 0,
      "outputs": [
        {
          "output_type": "execute_result",
          "data": {
            "text/html": [
              "<div>\n",
              "<style scoped>\n",
              "    .dataframe tbody tr th:only-of-type {\n",
              "        vertical-align: middle;\n",
              "    }\n",
              "\n",
              "    .dataframe tbody tr th {\n",
              "        vertical-align: top;\n",
              "    }\n",
              "\n",
              "    .dataframe thead th {\n",
              "        text-align: right;\n",
              "    }\n",
              "</style>\n",
              "<table border=\"1\" class=\"dataframe\">\n",
              "  <thead>\n",
              "    <tr style=\"text-align: right;\">\n",
              "      <th></th>\n",
              "      <th>trans_sa_idx</th>\n",
              "      <th>elder_fpo_per</th>\n",
              "      <th>car_ave_spd</th>\n",
              "      <th>road_si_num</th>\n",
              "      <th>ovp_num</th>\n",
              "    </tr>\n",
              "  </thead>\n",
              "  <tbody>\n",
              "    <tr>\n",
              "      <th>0</th>\n",
              "      <td>0.105686</td>\n",
              "      <td>0.049080</td>\n",
              "      <td>0.704225</td>\n",
              "      <td>1.000000</td>\n",
              "      <td>0.62500</td>\n",
              "    </tr>\n",
              "    <tr>\n",
              "      <th>1</th>\n",
              "      <td>0.824749</td>\n",
              "      <td>0.467485</td>\n",
              "      <td>0.619718</td>\n",
              "      <td>0.313749</td>\n",
              "      <td>0.62500</td>\n",
              "    </tr>\n",
              "    <tr>\n",
              "      <th>2</th>\n",
              "      <td>0.613378</td>\n",
              "      <td>1.000000</td>\n",
              "      <td>0.253521</td>\n",
              "      <td>0.042303</td>\n",
              "      <td>0.03125</td>\n",
              "    </tr>\n",
              "    <tr>\n",
              "      <th>3</th>\n",
              "      <td>0.847492</td>\n",
              "      <td>0.349693</td>\n",
              "      <td>0.577465</td>\n",
              "      <td>0.354877</td>\n",
              "      <td>0.12500</td>\n",
              "    </tr>\n",
              "    <tr>\n",
              "      <th>4</th>\n",
              "      <td>0.858194</td>\n",
              "      <td>0.303067</td>\n",
              "      <td>0.816901</td>\n",
              "      <td>0.064630</td>\n",
              "      <td>0.50000</td>\n",
              "    </tr>\n",
              "    <tr>\n",
              "      <th>5</th>\n",
              "      <td>0.924415</td>\n",
              "      <td>0.150920</td>\n",
              "      <td>0.774648</td>\n",
              "      <td>0.137485</td>\n",
              "      <td>0.00000</td>\n",
              "    </tr>\n",
              "    <tr>\n",
              "      <th>6</th>\n",
              "      <td>0.646154</td>\n",
              "      <td>0.322699</td>\n",
              "      <td>0.577465</td>\n",
              "      <td>0.110458</td>\n",
              "      <td>0.37500</td>\n",
              "    </tr>\n",
              "    <tr>\n",
              "      <th>7</th>\n",
              "      <td>1.000000</td>\n",
              "      <td>0.159509</td>\n",
              "      <td>0.563380</td>\n",
              "      <td>0.052879</td>\n",
              "      <td>0.43750</td>\n",
              "    </tr>\n",
              "    <tr>\n",
              "      <th>8</th>\n",
              "      <td>0.793980</td>\n",
              "      <td>0.453988</td>\n",
              "      <td>0.633803</td>\n",
              "      <td>0.466510</td>\n",
              "      <td>0.21875</td>\n",
              "    </tr>\n",
              "    <tr>\n",
              "      <th>9</th>\n",
              "      <td>0.958528</td>\n",
              "      <td>0.903067</td>\n",
              "      <td>0.338028</td>\n",
              "      <td>0.158637</td>\n",
              "      <td>0.00000</td>\n",
              "    </tr>\n",
              "    <tr>\n",
              "      <th>10</th>\n",
              "      <td>0.539130</td>\n",
              "      <td>0.652761</td>\n",
              "      <td>0.619718</td>\n",
              "      <td>0.198590</td>\n",
              "      <td>0.18750</td>\n",
              "    </tr>\n",
              "    <tr>\n",
              "      <th>11</th>\n",
              "      <td>0.705017</td>\n",
              "      <td>0.458896</td>\n",
              "      <td>0.915493</td>\n",
              "      <td>0.000000</td>\n",
              "      <td>0.43750</td>\n",
              "    </tr>\n",
              "    <tr>\n",
              "      <th>12</th>\n",
              "      <td>0.827425</td>\n",
              "      <td>0.000000</td>\n",
              "      <td>0.690141</td>\n",
              "      <td>0.552291</td>\n",
              "      <td>0.09375</td>\n",
              "    </tr>\n",
              "    <tr>\n",
              "      <th>13</th>\n",
              "      <td>0.976589</td>\n",
              "      <td>0.392638</td>\n",
              "      <td>0.577465</td>\n",
              "      <td>0.146886</td>\n",
              "      <td>0.25000</td>\n",
              "    </tr>\n",
              "    <tr>\n",
              "      <th>14</th>\n",
              "      <td>0.543144</td>\n",
              "      <td>0.230675</td>\n",
              "      <td>0.929577</td>\n",
              "      <td>0.645123</td>\n",
              "      <td>1.00000</td>\n",
              "    </tr>\n",
              "    <tr>\n",
              "      <th>15</th>\n",
              "      <td>0.976589</td>\n",
              "      <td>0.295706</td>\n",
              "      <td>0.774648</td>\n",
              "      <td>0.188014</td>\n",
              "      <td>0.12500</td>\n",
              "    </tr>\n",
              "    <tr>\n",
              "      <th>16</th>\n",
              "      <td>0.872241</td>\n",
              "      <td>0.495706</td>\n",
              "      <td>0.718310</td>\n",
              "      <td>0.102233</td>\n",
              "      <td>0.15625</td>\n",
              "    </tr>\n",
              "    <tr>\n",
              "      <th>17</th>\n",
              "      <td>0.224749</td>\n",
              "      <td>0.233129</td>\n",
              "      <td>0.633803</td>\n",
              "      <td>0.870740</td>\n",
              "      <td>0.25000</td>\n",
              "    </tr>\n",
              "    <tr>\n",
              "      <th>18</th>\n",
              "      <td>0.994649</td>\n",
              "      <td>0.301840</td>\n",
              "      <td>0.845070</td>\n",
              "      <td>0.396005</td>\n",
              "      <td>0.46875</td>\n",
              "    </tr>\n",
              "    <tr>\n",
              "      <th>19</th>\n",
              "      <td>0.000000</td>\n",
              "      <td>0.272393</td>\n",
              "      <td>0.605634</td>\n",
              "      <td>0.629847</td>\n",
              "      <td>0.37500</td>\n",
              "    </tr>\n",
              "    <tr>\n",
              "      <th>20</th>\n",
              "      <td>0.718395</td>\n",
              "      <td>0.317791</td>\n",
              "      <td>1.000000</td>\n",
              "      <td>0.191539</td>\n",
              "      <td>0.46875</td>\n",
              "    </tr>\n",
              "    <tr>\n",
              "      <th>21</th>\n",
              "      <td>0.890301</td>\n",
              "      <td>0.760736</td>\n",
              "      <td>0.309859</td>\n",
              "      <td>0.217391</td>\n",
              "      <td>0.03125</td>\n",
              "    </tr>\n",
              "    <tr>\n",
              "      <th>22</th>\n",
              "      <td>0.716388</td>\n",
              "      <td>0.418405</td>\n",
              "      <td>0.422535</td>\n",
              "      <td>0.096357</td>\n",
              "      <td>0.09375</td>\n",
              "    </tr>\n",
              "    <tr>\n",
              "      <th>23</th>\n",
              "      <td>0.274916</td>\n",
              "      <td>0.148466</td>\n",
              "      <td>0.000000</td>\n",
              "      <td>0.244418</td>\n",
              "      <td>0.09375</td>\n",
              "    </tr>\n",
              "    <tr>\n",
              "      <th>24</th>\n",
              "      <td>0.729097</td>\n",
              "      <td>0.651534</td>\n",
              "      <td>0.464789</td>\n",
              "      <td>0.299647</td>\n",
              "      <td>0.12500</td>\n",
              "    </tr>\n",
              "  </tbody>\n",
              "</table>\n",
              "</div>"
            ],
            "text/plain": [
              "    trans_sa_idx  elder_fpo_per  car_ave_spd  road_si_num  ovp_num\n",
              "0       0.105686       0.049080     0.704225     1.000000  0.62500\n",
              "1       0.824749       0.467485     0.619718     0.313749  0.62500\n",
              "2       0.613378       1.000000     0.253521     0.042303  0.03125\n",
              "3       0.847492       0.349693     0.577465     0.354877  0.12500\n",
              "4       0.858194       0.303067     0.816901     0.064630  0.50000\n",
              "5       0.924415       0.150920     0.774648     0.137485  0.00000\n",
              "6       0.646154       0.322699     0.577465     0.110458  0.37500\n",
              "7       1.000000       0.159509     0.563380     0.052879  0.43750\n",
              "8       0.793980       0.453988     0.633803     0.466510  0.21875\n",
              "9       0.958528       0.903067     0.338028     0.158637  0.00000\n",
              "10      0.539130       0.652761     0.619718     0.198590  0.18750\n",
              "11      0.705017       0.458896     0.915493     0.000000  0.43750\n",
              "12      0.827425       0.000000     0.690141     0.552291  0.09375\n",
              "13      0.976589       0.392638     0.577465     0.146886  0.25000\n",
              "14      0.543144       0.230675     0.929577     0.645123  1.00000\n",
              "15      0.976589       0.295706     0.774648     0.188014  0.12500\n",
              "16      0.872241       0.495706     0.718310     0.102233  0.15625\n",
              "17      0.224749       0.233129     0.633803     0.870740  0.25000\n",
              "18      0.994649       0.301840     0.845070     0.396005  0.46875\n",
              "19      0.000000       0.272393     0.605634     0.629847  0.37500\n",
              "20      0.718395       0.317791     1.000000     0.191539  0.46875\n",
              "21      0.890301       0.760736     0.309859     0.217391  0.03125\n",
              "22      0.716388       0.418405     0.422535     0.096357  0.09375\n",
              "23      0.274916       0.148466     0.000000     0.244418  0.09375\n",
              "24      0.729097       0.651534     0.464789     0.299647  0.12500"
            ]
          },
          "metadata": {
            "tags": []
          },
          "execution_count": 98
        }
      ]
    },
    {
      "cell_type": "code",
      "metadata": {
        "id": "IghkSHuPyyda",
        "colab_type": "code",
        "outputId": "44422a30-de7a-45fb-d0ad-2de0294ed5a6",
        "colab": {}
      },
      "source": [
        "# elbow: kmeans 군집분석을 위해 몇 개의 클러스터로 나누어야 하는지 검토. 아래와 같은 경우는 변화의 폭이 가장 큰 3을 클러스터의 수로 설정\n",
        "def elbow(K):\n",
        "    sse = []\n",
        "\n",
        "    for i in range(1,11):\n",
        "        km = KMeans(n_clusters=i, algorithm='auto', random_state=42)\n",
        "        km.fit(K)\n",
        "        sse.append(km.inertia_)\n",
        "\n",
        "    plt.plot(range(1,11), sse, marker='o')\n",
        "    plt.xlabel('K') # K값\n",
        "    plt.ylabel('SSE') # 오차제곱근\n",
        "    plt.show()\n",
        "\n",
        "elbow(scaled_df_lt)"
      ],
      "execution_count": 0,
      "outputs": [
        {
          "output_type": "display_data",
          "data": {
            "image/png": "[encoded data removed]",
            "text/plain": [
              "<Figure size 432x288 with 1 Axes>"
            ]
          },
          "metadata": {
            "tags": [],
            "needs_background": "light"
          }
        }
      ]
    },
    {
      "cell_type": "code",
      "metadata": {
        "id": "okoEekobyydh",
        "colab_type": "code",
        "outputId": "1551358c-b463-43fc-f39c-42f394904be2",
        "colab": {}
      },
      "source": [
        "# silhouette. elbow에서 도출된 클러스터 갯수의 타당성 검증\n",
        "def plotSilhouette(X, y_km):\n",
        "    cluster_labels = np.unique(y_km)\n",
        "    n_clusters = cluster_labels.shape[0]\n",
        "    silhouette_vals = silhouette_samples(X, y_km, metric = 'euclidean')\n",
        "    y_ax_lower, y_ax_upper = 0, 0\n",
        "    yticks = []\n",
        "\n",
        "    for i, c in enumerate(cluster_labels):\n",
        "        c_silhouette_vals = silhouette_vals[y_km == c]\n",
        "        c_silhouette_vals.sort()\n",
        "        y_ax_upper += len(c_silhouette_vals)\n",
        "        color = cm.jet(i/n_clusters)\n",
        "\n",
        "        plt.barh(range(y_ax_lower, y_ax_upper), c_silhouette_vals, height=1.0,\n",
        "                edgecolor='none', color=color)\n",
        "        yticks.append((y_ax_lower + y_ax_upper)/2)\n",
        "        y_ax_lower += len(c_silhouette_vals)\n",
        "\n",
        "    silhoutte_avg = np.mean(silhouette_vals)\n",
        "    plt.axvline(silhoutte_avg, color = 'red', linestyle='--')\n",
        "    plt.yticks(yticks, cluster_labels+1)\n",
        "    plt.ylabel('K')\n",
        "    plt.xlabel('silhouette')\n",
        "    plt.show()\n",
        "\n",
        "k = 3\n",
        "\n",
        "X, y = make_blobs(n_samples=150, n_features=2, centers=3, cluster_std=0.5,\n",
        "                  shuffle=True, random_state=0)\n",
        "km = KMeans(n_clusters=k, algorithm='auto', random_state=42)\n",
        "y_km = km.fit_predict(scaled_df_lt)\n",
        "plotSilhouette(scaled_df_lt, y_km)"
      ],
      "execution_count": 0,
      "outputs": [
        {
          "output_type": "display_data",
          "data": {
            "image/png": "[encoded data removed]",
            "text/plain": [
              "<Figure size 432x288 with 1 Axes>"
            ]
          },
          "metadata": {
            "tags": [],
            "needs_background": "light"
          }
        }
      ]
    },
    {
      "cell_type": "code",
      "metadata": {
        "id": "-3nnym6xyydk",
        "colab_type": "code",
        "outputId": "a6fef896-b465-470a-94bb-97185c3f4cc7",
        "colab": {}
      },
      "source": [
        "# elbow와 silhouette에서 도출된 값을 바탕으로 kmeans 군집분석 실행\n",
        "kmeans = KMeans(n_clusters=3).fit(scaled_df_lt)\n",
        "kmeans.labels_"
      ],
      "execution_count": 0,
      "outputs": [
        {
          "output_type": "execute_result",
          "data": {
            "text/plain": [
              "array([2, 0, 1, 0, 0, 0, 0, 0, 0, 1, 1, 0, 0, 0, 2, 0, 0, 2, 0, 2, 0, 1,\n",
              "       1, 1, 1])"
            ]
          },
          "metadata": {
            "tags": []
          },
          "execution_count": 101
        }
      ]
    },
    {
      "cell_type": "code",
      "metadata": {
        "id": "jsXxNl8Syydm",
        "colab_type": "code",
        "colab": {}
      },
      "source": [
        "# 무엇이 어떤 클러스터에 속하는지 원활히 파악하기 위해 'cluster_id' 컬럼 생성\n",
        "scaled_df_lt['cluster_id'] = kmeans.labels_"
      ],
      "execution_count": 0,
      "outputs": []
    },
    {
      "cell_type": "code",
      "metadata": {
        "id": "ZcaFuoZe6xeU",
        "colab_type": "code",
        "colab": {}
      },
      "source": [
        "# 노인경상이하수와 유관한 독립변수들의 상관관계 및 집합적 특성을 파악하기 위한 kmeans 군집분석 진행"
      ],
      "execution_count": 0,
      "outputs": []
    },
    {
      "cell_type": "code",
      "metadata": {
        "scrolled": true,
        "id": "EPA1XR88yydq",
        "colab_type": "code",
        "outputId": "a95609d8-a343-403d-c471-0f5639c9d7a7",
        "colab": {}
      },
      "source": [
        "sns.lmplot('trans_sa_idx', 'elder_fpo_per', data=scaled_df_lt, fit_reg=False, scatter_kws={'s':100}, hue='cluster_id')\n",
        "plt.title('scaled_df_lt~trans_sa_idx+elder_fpo_per k=3')"
      ],
      "execution_count": 0,
      "outputs": [
        {
          "output_type": "execute_result",
          "data": {
            "text/plain": [
              "Text(0.5, 1, 'scaled_df_lt~trans_sa_idx+elder_fpo_per k=3')"
            ]
          },
          "metadata": {
            "tags": []
          },
          "execution_count": 103
        },
        {
          "output_type": "display_data",
          "data": {
            "image/png": "[encoded data removed]",
            "text/plain": [
              "<Figure size 416.375x360 with 1 Axes>"
            ]
          },
          "metadata": {
            "tags": [],
            "needs_background": "light"
          }
        }
      ]
    },
    {
      "cell_type": "code",
      "metadata": {
        "id": "8eEJ7Ureyyds",
        "colab_type": "code",
        "outputId": "dffaa0a3-9073-4235-afb2-7f233aea1a87",
        "colab": {}
      },
      "source": [
        "sns.lmplot('trans_sa_idx', 'car_ave_spd', data=scaled_df_lt, fit_reg=False, scatter_kws={'s':100}, hue='cluster_id')\n",
        "plt.title('scaled_df_lt~trans_sa_idx+car_ave_spd k=3')"
      ],
      "execution_count": 0,
      "outputs": [
        {
          "output_type": "execute_result",
          "data": {
            "text/plain": [
              "Text(0.5, 1, 'scaled_df_lt~trans_sa_idx+car_ave_spd k=3')"
            ]
          },
          "metadata": {
            "tags": []
          },
          "execution_count": 104
        },
        {
          "output_type": "display_data",
          "data": {
            "image/png": "[encoded data removed]",
            "text/plain": [
              "<Figure size 416.375x360 with 1 Axes>"
            ]
          },
          "metadata": {
            "tags": [],
            "needs_background": "light"
          }
        }
      ]
    },
    {
      "cell_type": "code",
      "metadata": {
        "scrolled": true,
        "id": "Tmt5jHXhyydv",
        "colab_type": "code",
        "outputId": "709372b4-fd4f-4478-8cf0-c31a80eb7d4e",
        "colab": {}
      },
      "source": [
        "sns.lmplot('trans_sa_idx', 'road_si_num', data=scaled_df_lt, fit_reg=False, scatter_kws={'s':100}, hue='cluster_id')\n",
        "plt.title('scaled_df_lt~trans_sa_idx+road_si_num k=3')"
      ],
      "execution_count": 0,
      "outputs": [
        {
          "output_type": "execute_result",
          "data": {
            "text/plain": [
              "Text(0.5, 1, 'scaled_df_lt~trans_sa_idx+road_si_num k=3')"
            ]
          },
          "metadata": {
            "tags": []
          },
          "execution_count": 105
        },
        {
          "output_type": "display_data",
          "data": {
            "image/png": "[encoded data removed]",
            "text/plain": [
              "<Figure size 416.375x360 with 1 Axes>"
            ]
          },
          "metadata": {
            "tags": [],
            "needs_background": "light"
          }
        }
      ]
    },
    {
      "cell_type": "code",
      "metadata": {
        "scrolled": true,
        "id": "C1m2ZSa6yydx",
        "colab_type": "code",
        "outputId": "85d408f1-095d-4efc-d8f9-f26b843d462e",
        "colab": {}
      },
      "source": [
        "sns.lmplot('trans_sa_idx', 'ovp_num', data=scaled_df_lt, fit_reg=False, scatter_kws={'s':100}, hue='cluster_id')\n",
        "plt.title('scaled_df_lt~trans_sa_idx+ovp_num k=3')"
      ],
      "execution_count": 0,
      "outputs": [
        {
          "output_type": "execute_result",
          "data": {
            "text/plain": [
              "Text(0.5, 1, 'scaled_df_lt~trans_sa_idx+ovp_num k=3')"
            ]
          },
          "metadata": {
            "tags": []
          },
          "execution_count": 106
        },
        {
          "output_type": "display_data",
          "data": {
            "image/png": "[encoded data removed]",
            "text/plain": [
              "<Figure size 416.375x360 with 1 Axes>"
            ]
          },
          "metadata": {
            "tags": [],
            "needs_background": "light"
          }
        }
      ]
    },
    {
      "cell_type": "code",
      "metadata": {
        "scrolled": true,
        "id": "7l_Tsuneyydz",
        "colab_type": "code",
        "outputId": "d38d196d-5dd8-4690-bde2-a652e4101f35",
        "colab": {}
      },
      "source": [
        "sns.lmplot('elder_fpo_per', 'car_ave_spd', data=scaled_df_lt, fit_reg=False, scatter_kws={'s':100}, hue='cluster_id')\n",
        "plt.title('scaled_df_lt~elder_fpo_per+car_ave_spd k=3')"
      ],
      "execution_count": 0,
      "outputs": [
        {
          "output_type": "execute_result",
          "data": {
            "text/plain": [
              "Text(0.5, 1, 'scaled_df_lt~elder_fpo_per+car_ave_spd k=3')"
            ]
          },
          "metadata": {
            "tags": []
          },
          "execution_count": 107
        },
        {
          "output_type": "display_data",
          "data": {
            "image/png": "[encoded data removed]",
            "text/plain": [
              "<Figure size 416.375x360 with 1 Axes>"
            ]
          },
          "metadata": {
            "tags": [],
            "needs_background": "light"
          }
        }
      ]
    },
    {
      "cell_type": "code",
      "metadata": {
        "scrolled": true,
        "id": "A434shGDyyd1",
        "colab_type": "code",
        "outputId": "7cfe6eb9-55a5-43c2-b46d-6a979e0cfa7c",
        "colab": {}
      },
      "source": [
        "sns.lmplot('elder_fpo_per', 'road_si_num', data=scaled_df_lt, fit_reg=False, scatter_kws={'s':100}, hue='cluster_id')\n",
        "plt.title('scaled_df_lt~elder_fpo_per+road_si_num k=3')"
      ],
      "execution_count": 0,
      "outputs": [
        {
          "output_type": "execute_result",
          "data": {
            "text/plain": [
              "Text(0.5, 1, 'scaled_df_lt~elder_fpo_per+road_si_num k=3')"
            ]
          },
          "metadata": {
            "tags": []
          },
          "execution_count": 108
        },
        {
          "output_type": "display_data",
          "data": {
            "image/png": "[encoded data removed]",
            "text/plain": [
              "<Figure size 416.375x360 with 1 Axes>"
            ]
          },
          "metadata": {
            "tags": [],
            "needs_background": "light"
          }
        }
      ]
    },
    {
      "cell_type": "code",
      "metadata": {
        "scrolled": true,
        "id": "wa-OfGpnyyd3",
        "colab_type": "code",
        "outputId": "ebb3e083-f8f2-45ab-b2d4-30411a35566d",
        "colab": {}
      },
      "source": [
        "sns.lmplot('elder_fpo_per', 'ovp_num', data=scaled_df_lt, fit_reg=False, scatter_kws={'s':100}, hue='cluster_id')\n",
        "plt.title('scaled_df_lt~elder_fpo_per+ovp_num k=3')"
      ],
      "execution_count": 0,
      "outputs": [
        {
          "output_type": "execute_result",
          "data": {
            "text/plain": [
              "Text(0.5, 1, 'scaled_df_lt~elder_fpo_per+ovp_num k=3')"
            ]
          },
          "metadata": {
            "tags": []
          },
          "execution_count": 110
        },
        {
          "output_type": "display_data",
          "data": {
            "image/png": "[encoded data removed]",
            "text/plain": [
              "<Figure size 416.375x360 with 1 Axes>"
            ]
          },
          "metadata": {
            "tags": [],
            "needs_background": "light"
          }
        }
      ]
    },
    {
      "cell_type": "code",
      "metadata": {
        "id": "gPcrmkgeyyd5",
        "colab_type": "code",
        "outputId": "9f74fc88-c714-4316-99a1-58093f9dc85b",
        "colab": {}
      },
      "source": [
        "sns.lmplot('car_ave_spd', 'road_si_num', data=scaled_df_lt, fit_reg=False, scatter_kws={'s':100}, hue='cluster_id')\n",
        "plt.title('scaled_df_lt~car_ave_spd+road_si_num k=3')"
      ],
      "execution_count": 0,
      "outputs": [
        {
          "output_type": "execute_result",
          "data": {
            "text/plain": [
              "Text(0.5, 1, 'scaled_df_lt~car_ave_spd+road_si_num k=3')"
            ]
          },
          "metadata": {
            "tags": []
          },
          "execution_count": 111
        },
        {
          "output_type": "display_data",
          "data": {
            "image/png": "[encoded data removed]",
            "text/plain": [
              "<Figure size 416.375x360 with 1 Axes>"
            ]
          },
          "metadata": {
            "tags": [],
            "needs_background": "light"
          }
        }
      ]
    },
    {
      "cell_type": "code",
      "metadata": {
        "scrolled": true,
        "id": "hes3GMfayyd7",
        "colab_type": "code",
        "outputId": "39293168-37d8-4b7a-a6a7-d2a69893e997",
        "colab": {}
      },
      "source": [
        "sns.lmplot('car_ave_spd', 'ovp_num', data=scaled_df_lt, fit_reg=False, scatter_kws={'s':100}, hue='cluster_id')\n",
        "plt.title('scaled_df_lt~car_ave_spd+ovp_num k=3')"
      ],
      "execution_count": 0,
      "outputs": [
        {
          "output_type": "execute_result",
          "data": {
            "text/plain": [
              "Text(0.5, 1, 'scaled_df_lt~car_ave_spd+ovp_num k=3')"
            ]
          },
          "metadata": {
            "tags": []
          },
          "execution_count": 112
        },
        {
          "output_type": "display_data",
          "data": {
            "image/png": "[encoded data removed]",
            "text/plain": [
              "<Figure size 416.375x360 with 1 Axes>"
            ]
          },
          "metadata": {
            "tags": [],
            "needs_background": "light"
          }
        }
      ]
    },
    {
      "cell_type": "code",
      "metadata": {
        "id": "hDs5KZh9yyd9",
        "colab_type": "code",
        "outputId": "ac1ccd77-e8cc-4195-ad04-594a09ca3d74",
        "colab": {}
      },
      "source": [
        "sns.lmplot('road_si_num', 'ovp_num', data=scaled_df_lt, fit_reg=False, scatter_kws={'s':100}, hue='cluster_id')\n",
        "plt.title('scaled_df_lt~road_si_num+ovp_num k=3')"
      ],
      "execution_count": 0,
      "outputs": [
        {
          "output_type": "execute_result",
          "data": {
            "text/plain": [
              "Text(0.5, 1, 'scaled_df_lt~road_si_num+ovp_num k=3')"
            ]
          },
          "metadata": {
            "tags": []
          },
          "execution_count": 114
        },
        {
          "output_type": "display_data",
          "data": {
            "image/png": "[encoded data removed]",
            "text/plain": [
              "<Figure size 416.375x360 with 1 Axes>"
            ]
          },
          "metadata": {
            "tags": [],
            "needs_background": "light"
          }
        }
      ]
    },
    {
      "cell_type": "code",
      "metadata": {
        "id": "KO-Ve2tQ62Af",
        "colab_type": "code",
        "colab": {}
      },
      "source": [
        "# 분석 종료"
      ],
      "execution_count": 0,
      "outputs": []
    }
  ]
}